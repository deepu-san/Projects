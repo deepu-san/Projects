{
 "cells": [
  {
   "cell_type": "code",
   "execution_count": 1,
   "metadata": {
    "id": "QergyoYksPr1"
   },
   "outputs": [],
   "source": [
    "import pandas as pd\n",
    "# import matplotlib.pyplot as plt\n",
    "import numpy as np\n",
    "# import seaborn as sns\n",
    "# from sklearn.linear_model import LinearRegression \n",
    "from sklearn.model_selection import train_test_split \n",
    "from sklearn import metrics \n",
    "from sklearn.model_selection import cross_val_score\n",
    "# from sklearn.ensemble import RandomForestRegressor\n",
    "# from sklearn.tree import DecisionTreeRegressor\n",
    "# import xgboost as xgb\n",
    "from sklearn.tree import DecisionTreeClassifier\n",
    "# from scipy import stats\n",
    "\n",
    "from sklearn.feature_extraction.text import TfidfVectorizer\n",
    "from sklearn.metrics import confusion_matrix, accuracy_score,classification_report\n",
    "from sklearn.metrics import roc_auc_score\n",
    "from sklearn.naive_bayes import MultinomialNB\n",
    "\n",
    "import nltk\n",
    "# from nltk.sentiment.vader import SentimentIntensityAnalyzer\n",
    "from nltk.corpus import stopwords\n",
    "from nltk import word_tokenize\n",
    "from nltk.stem import WordNetLemmatizer\n",
    "from nltk.corpus import wordnet"
   ]
  },
  {
   "cell_type": "code",
   "execution_count": 15,
   "metadata": {},
   "outputs": [],
   "source": [
    "import warnings \n",
    "warnings.filterwarnings('ignore')"
   ]
  },
  {
   "cell_type": "code",
   "execution_count": 4,
   "metadata": {
    "colab": {
     "base_uri": "https://localhost:8080/",
     "height": 143
    },
    "id": "TCx0dC3ptEPh",
    "outputId": "35a7a8be-8001-47fe-bd84-5ea914819411"
   },
   "outputs": [
    {
     "data": {
      "text/html": [
       "<div>\n",
       "<style scoped>\n",
       "    .dataframe tbody tr th:only-of-type {\n",
       "        vertical-align: middle;\n",
       "    }\n",
       "\n",
       "    .dataframe tbody tr th {\n",
       "        vertical-align: top;\n",
       "    }\n",
       "\n",
       "    .dataframe thead th {\n",
       "        text-align: right;\n",
       "    }\n",
       "</style>\n",
       "<table border=\"1\" class=\"dataframe\">\n",
       "  <thead>\n",
       "    <tr style=\"text-align: right;\">\n",
       "      <th></th>\n",
       "      <th>Unnamed: 0</th>\n",
       "      <th>Review-Title</th>\n",
       "      <th>rating</th>\n",
       "      <th>Review-Body</th>\n",
       "      <th>Product Name</th>\n",
       "    </tr>\n",
       "  </thead>\n",
       "  <tbody>\n",
       "    <tr>\n",
       "      <th>0</th>\n",
       "      <td>0</td>\n",
       "      <td>Worst phone ever</td>\n",
       "      <td>1.0 out of 5 stars</td>\n",
       "      <td>Hang problem</td>\n",
       "      <td>OnePlus Nord CE 2 5G (Gray Mirror, 8GB RAM, 12...</td>\n",
       "    </tr>\n",
       "    <tr>\n",
       "      <th>1</th>\n",
       "      <td>1</td>\n",
       "      <td>Ok !!! Not up to the mark</td>\n",
       "      <td>2.0 out of 5 stars</td>\n",
       "      <td>I'm writing this review after using 3days !!!B...</td>\n",
       "      <td>OnePlus Nord CE 2 5G (Gray Mirror, 8GB RAM, 12...</td>\n",
       "    </tr>\n",
       "    <tr>\n",
       "      <th>2</th>\n",
       "      <td>2</td>\n",
       "      <td>Awesome look</td>\n",
       "      <td>5.0 out of 5 stars</td>\n",
       "      <td>Camera is so good n very fast phone back look ...</td>\n",
       "      <td>OnePlus Nord CE 2 5G (Gray Mirror, 8GB RAM, 12...</td>\n",
       "    </tr>\n",
       "  </tbody>\n",
       "</table>\n",
       "</div>"
      ],
      "text/plain": [
       "   Unnamed: 0               Review-Title              rating  \\\n",
       "0           0           Worst phone ever  1.0 out of 5 stars   \n",
       "1           1  Ok !!! Not up to the mark  2.0 out of 5 stars   \n",
       "2           2               Awesome look  5.0 out of 5 stars   \n",
       "\n",
       "                                         Review-Body  \\\n",
       "0                                       Hang problem   \n",
       "1  I'm writing this review after using 3days !!!B...   \n",
       "2  Camera is so good n very fast phone back look ...   \n",
       "\n",
       "                                        Product Name  \n",
       "0  OnePlus Nord CE 2 5G (Gray Mirror, 8GB RAM, 12...  \n",
       "1  OnePlus Nord CE 2 5G (Gray Mirror, 8GB RAM, 12...  \n",
       "2  OnePlus Nord CE 2 5G (Gray Mirror, 8GB RAM, 12...  "
      ]
     },
     "execution_count": 4,
     "metadata": {},
     "output_type": "execute_result"
    }
   ],
   "source": [
    "path=\"https://github.com/deepu-san/Projects/blob/main/Amaon%20Product%20Review/Flipkart_Amazon%20Mobile%20Reviews.csv?raw=true\"\n",
    "df = pd.read_csv(path)\n",
    "df.head(3)\n",
    "#df.shape"
   ]
  },
  {
   "cell_type": "code",
   "execution_count": 5,
   "metadata": {
    "colab": {
     "base_uri": "https://localhost:8080/"
    },
    "id": "MdXT30jbuMTw",
    "outputId": "fa8bdcf5-b8cb-42cb-d110-5e0880e93da0",
    "scrolled": true
   },
   "outputs": [
    {
     "data": {
      "text/plain": [
       "Unnamed: 0       int64\n",
       "Review-Title    object\n",
       "rating          object\n",
       "Review-Body     object\n",
       "Product Name    object\n",
       "dtype: object"
      ]
     },
     "execution_count": 5,
     "metadata": {},
     "output_type": "execute_result"
    }
   ],
   "source": [
    "df.dtypes"
   ]
  },
  {
   "cell_type": "code",
   "execution_count": 6,
   "metadata": {
    "colab": {
     "base_uri": "https://localhost:8080/"
    },
    "id": "GWdE3SFpIGh_",
    "outputId": "10daad05-7eed-417b-bcae-64ae6915027e",
    "scrolled": true
   },
   "outputs": [
    {
     "data": {
      "text/plain": [
       "Unnamed: 0        0\n",
       "Review-Title      2\n",
       "rating            0\n",
       "Review-Body     617\n",
       "Product Name      0\n",
       "dtype: int64"
      ]
     },
     "execution_count": 6,
     "metadata": {},
     "output_type": "execute_result"
    }
   ],
   "source": [
    "df.isna().sum()"
   ]
  },
  {
   "cell_type": "code",
   "execution_count": 7,
   "metadata": {
    "colab": {
     "base_uri": "https://localhost:8080/"
    },
    "id": "VKmGtGV5u6MF",
    "outputId": "592b9f92-879f-476d-b08f-37ab2cc4b3b7"
   },
   "outputs": [
    {
     "data": {
      "text/plain": [
       "5.0 out of 5 stars    9399\n",
       "1.0 out of 5 stars    5231\n",
       "4.0 out of 5 stars    4886\n",
       "3.0 out of 5 stars    2703\n",
       "2.0 out of 5 stars    1558\n",
       "Name: rating, dtype: int64"
      ]
     },
     "execution_count": 7,
     "metadata": {},
     "output_type": "execute_result"
    }
   ],
   "source": [
    "df['rating'].value_counts()"
   ]
  },
  {
   "cell_type": "code",
   "execution_count": 8,
   "metadata": {
    "colab": {
     "base_uri": "https://localhost:8080/"
    },
    "id": "DWWkcBwRtqum",
    "outputId": "864ca793-caa7-43e0-a4a3-c8823e9962bb",
    "scrolled": true
   },
   "outputs": [
    {
     "data": {
      "text/plain": [
       "Redmi 9 Activ (Carbon Black, 4GB RAM, 64GB Storage)           4460\n",
       "OPPO A31 (Mystery Black, 6GB RAM, 128GB Storage)              4330\n",
       "Redmi 10 Prime (Bifrost Blue 4GB RAM 64GB ROM                 3768\n",
       "OnePlus Nord CE 2 5G (Gray Mirror, 8GB RAM, 128GB Storage)    3570\n",
       "Redmi Note 11 (Space Black, 4GB RAM, 64GB Storage)            2724\n",
       "realme narzo 50A (Oxygen Blue , 4GB RAM + 64 GB Storage)      2166\n",
       "vivo iQOO Z6 5G (Chromatic Blue, 6GB RAM, 128GB Storage)      1419\n",
       "Samsung Galaxy M32                                            1340\n",
       "Name: Product Name, dtype: int64"
      ]
     },
     "execution_count": 8,
     "metadata": {},
     "output_type": "execute_result"
    }
   ],
   "source": [
    "df['Product Name'].value_counts()"
   ]
  },
  {
   "cell_type": "code",
   "execution_count": 9,
   "metadata": {
    "id": "rx77ezA9uqND"
   },
   "outputs": [],
   "source": [
    "df.drop('Unnamed: 0',axis=1,inplace=True)"
   ]
  },
  {
   "cell_type": "code",
   "execution_count": 10,
   "metadata": {
    "id": "rbk--ApmI167"
   },
   "outputs": [],
   "source": [
    "df=df.dropna()\n",
    "df= df.reset_index(drop=True)\n"
   ]
  },
  {
   "cell_type": "code",
   "execution_count": 11,
   "metadata": {
    "colab": {
     "base_uri": "https://localhost:8080/",
     "height": 112
    },
    "id": "6JhB5f7EHdPZ",
    "outputId": "e55b0f66-c6b9-42c3-bc35-0f9f299069b2"
   },
   "outputs": [
    {
     "data": {
      "text/html": [
       "<div>\n",
       "<style scoped>\n",
       "    .dataframe tbody tr th:only-of-type {\n",
       "        vertical-align: middle;\n",
       "    }\n",
       "\n",
       "    .dataframe tbody tr th {\n",
       "        vertical-align: top;\n",
       "    }\n",
       "\n",
       "    .dataframe thead th {\n",
       "        text-align: right;\n",
       "    }\n",
       "</style>\n",
       "<table border=\"1\" class=\"dataframe\">\n",
       "  <thead>\n",
       "    <tr style=\"text-align: right;\">\n",
       "      <th></th>\n",
       "      <th>Review-Title</th>\n",
       "      <th>rating</th>\n",
       "      <th>Review-Body</th>\n",
       "      <th>Product Name</th>\n",
       "      <th>rating_processed</th>\n",
       "    </tr>\n",
       "  </thead>\n",
       "  <tbody>\n",
       "    <tr>\n",
       "      <th>0</th>\n",
       "      <td>Worst phone ever</td>\n",
       "      <td>1.0 out of 5 stars</td>\n",
       "      <td>Hang problem</td>\n",
       "      <td>OnePlus Nord CE 2 5G (Gray Mirror, 8GB RAM, 12...</td>\n",
       "      <td>1.0</td>\n",
       "    </tr>\n",
       "    <tr>\n",
       "      <th>1</th>\n",
       "      <td>Ok !!! Not up to the mark</td>\n",
       "      <td>2.0 out of 5 stars</td>\n",
       "      <td>I'm writing this review after using 3days !!!B...</td>\n",
       "      <td>OnePlus Nord CE 2 5G (Gray Mirror, 8GB RAM, 12...</td>\n",
       "      <td>2.0</td>\n",
       "    </tr>\n",
       "  </tbody>\n",
       "</table>\n",
       "</div>"
      ],
      "text/plain": [
       "                Review-Title              rating  \\\n",
       "0           Worst phone ever  1.0 out of 5 stars   \n",
       "1  Ok !!! Not up to the mark  2.0 out of 5 stars   \n",
       "\n",
       "                                         Review-Body  \\\n",
       "0                                       Hang problem   \n",
       "1  I'm writing this review after using 3days !!!B...   \n",
       "\n",
       "                                        Product Name  rating_processed  \n",
       "0  OnePlus Nord CE 2 5G (Gray Mirror, 8GB RAM, 12...               1.0  \n",
       "1  OnePlus Nord CE 2 5G (Gray Mirror, 8GB RAM, 12...               2.0  "
      ]
     },
     "execution_count": 11,
     "metadata": {},
     "output_type": "execute_result"
    }
   ],
   "source": [
    "df['rating_processed'] = (df['rating'].str[:3]).astype('float')\n",
    "df.head(2)"
   ]
  },
  {
   "cell_type": "code",
   "execution_count": 12,
   "metadata": {
    "colab": {
     "base_uri": "https://localhost:8080/",
     "height": 112
    },
    "id": "GL4SPmS-Pzwx",
    "outputId": "2d9b4d55-3236-479e-de24-24b5986a91bb"
   },
   "outputs": [
    {
     "data": {
      "text/html": [
       "<div>\n",
       "<style scoped>\n",
       "    .dataframe tbody tr th:only-of-type {\n",
       "        vertical-align: middle;\n",
       "    }\n",
       "\n",
       "    .dataframe tbody tr th {\n",
       "        vertical-align: top;\n",
       "    }\n",
       "\n",
       "    .dataframe thead th {\n",
       "        text-align: right;\n",
       "    }\n",
       "</style>\n",
       "<table border=\"1\" class=\"dataframe\">\n",
       "  <thead>\n",
       "    <tr style=\"text-align: right;\">\n",
       "      <th></th>\n",
       "      <th>Review-Title</th>\n",
       "      <th>rating</th>\n",
       "      <th>Review-Body</th>\n",
       "      <th>Product Name</th>\n",
       "      <th>rating_processed</th>\n",
       "      <th>rating_nature</th>\n",
       "    </tr>\n",
       "  </thead>\n",
       "  <tbody>\n",
       "    <tr>\n",
       "      <th>0</th>\n",
       "      <td>Worst phone ever</td>\n",
       "      <td>1.0 out of 5 stars</td>\n",
       "      <td>Hang problem</td>\n",
       "      <td>OnePlus Nord CE 2 5G (Gray Mirror, 8GB RAM, 12...</td>\n",
       "      <td>1.0</td>\n",
       "      <td>0</td>\n",
       "    </tr>\n",
       "    <tr>\n",
       "      <th>1</th>\n",
       "      <td>Ok !!! Not up to the mark</td>\n",
       "      <td>2.0 out of 5 stars</td>\n",
       "      <td>I'm writing this review after using 3days !!!B...</td>\n",
       "      <td>OnePlus Nord CE 2 5G (Gray Mirror, 8GB RAM, 12...</td>\n",
       "      <td>2.0</td>\n",
       "      <td>0</td>\n",
       "    </tr>\n",
       "  </tbody>\n",
       "</table>\n",
       "</div>"
      ],
      "text/plain": [
       "                Review-Title              rating  \\\n",
       "0           Worst phone ever  1.0 out of 5 stars   \n",
       "1  Ok !!! Not up to the mark  2.0 out of 5 stars   \n",
       "\n",
       "                                         Review-Body  \\\n",
       "0                                       Hang problem   \n",
       "1  I'm writing this review after using 3days !!!B...   \n",
       "\n",
       "                                        Product Name  rating_processed  \\\n",
       "0  OnePlus Nord CE 2 5G (Gray Mirror, 8GB RAM, 12...               1.0   \n",
       "1  OnePlus Nord CE 2 5G (Gray Mirror, 8GB RAM, 12...               2.0   \n",
       "\n",
       "   rating_nature  \n",
       "0              0  \n",
       "1              0  "
      ]
     },
     "execution_count": 12,
     "metadata": {},
     "output_type": "execute_result"
    }
   ],
   "source": [
    "df['rating_nature'] =df['rating_processed'].apply(lambda x: 1 if x>2.5 else 0)\n",
    "df.head(2)"
   ]
  },
  {
   "cell_type": "markdown",
   "metadata": {
    "id": "fKxwHHbLcA4h"
   },
   "source": [
    "# Processing"
   ]
  },
  {
   "cell_type": "code",
   "execution_count": 16,
   "metadata": {
    "colab": {
     "base_uri": "https://localhost:8080/"
    },
    "id": "kMVlBsgZGuyB",
    "outputId": "8d050bb5-d8f0-4d69-b2bc-44cf2999f444"
   },
   "outputs": [],
   "source": [
    "df['body_processed'] = df['Review-Body'].str.replace(\"[^a-zA-Z0-9]\", \" \")\n",
    "df['body_processed'] = df['body_processed'].apply(lambda row: ' '.join([word for word in row.split() if len(word)>2 or word in ['UI']]))\n",
    "df['body_processed'] = [review.lower() for review in df['body_processed']]\n",
    "\n",
    "df['title_processed'] = df['Review-Title'].str.replace(\"[^a-zA-Z0-9]\", \" \")\n",
    "df['title_processed'] = df['title_processed'].apply(lambda row: ' '.join([word for word in row.split() if len(word)>2 or word in ['UI']]))\n",
    "df['title_processed'] = [review.lower() for review in df['title_processed']]\n"
   ]
  },
  {
   "cell_type": "code",
   "execution_count": 17,
   "metadata": {
    "colab": {
     "base_uri": "https://localhost:8080/"
    },
    "id": "OMf_v3JIp26x",
    "outputId": "1915ce53-92cd-47ac-f4f6-da5c71b93238"
   },
   "outputs": [
    {
     "data": {
      "text/html": [
       "<div>\n",
       "<style scoped>\n",
       "    .dataframe tbody tr th:only-of-type {\n",
       "        vertical-align: middle;\n",
       "    }\n",
       "\n",
       "    .dataframe tbody tr th {\n",
       "        vertical-align: top;\n",
       "    }\n",
       "\n",
       "    .dataframe thead th {\n",
       "        text-align: right;\n",
       "    }\n",
       "</style>\n",
       "<table border=\"1\" class=\"dataframe\">\n",
       "  <thead>\n",
       "    <tr style=\"text-align: right;\">\n",
       "      <th></th>\n",
       "      <th>Review-Title</th>\n",
       "      <th>title_processed</th>\n",
       "      <th>Review-Body</th>\n",
       "      <th>body_processed</th>\n",
       "    </tr>\n",
       "  </thead>\n",
       "  <tbody>\n",
       "    <tr>\n",
       "      <th>0</th>\n",
       "      <td>Worst phone ever</td>\n",
       "      <td>worst phone ever</td>\n",
       "      <td>Hang problem</td>\n",
       "      <td>hang problem</td>\n",
       "    </tr>\n",
       "    <tr>\n",
       "      <th>1</th>\n",
       "      <td>Ok !!! Not up to the mark</td>\n",
       "      <td>not the mark</td>\n",
       "      <td>I'm writing this review after using 3days !!!B...</td>\n",
       "      <td>writing this review after using 3days honest t...</td>\n",
       "    </tr>\n",
       "    <tr>\n",
       "      <th>2</th>\n",
       "      <td>Awesome look</td>\n",
       "      <td>awesome look</td>\n",
       "      <td>Camera is so good n very fast phone back look ...</td>\n",
       "      <td>camera good very fast phone back look awesomew...</td>\n",
       "    </tr>\n",
       "    <tr>\n",
       "      <th>3</th>\n",
       "      <td>One plus losing is originality!!!</td>\n",
       "      <td>one plus losing originality</td>\n",
       "      <td>The media could not be loaded.\\n              ...</td>\n",
       "      <td>the media could not loaded average product dec...</td>\n",
       "    </tr>\n",
       "    <tr>\n",
       "      <th>4</th>\n",
       "      <td>Read</td>\n",
       "      <td>read</td>\n",
       "      <td>I got my delivery on 23 feb when I unboxed the...</td>\n",
       "      <td>got delivery feb when unboxed the phone the di...</td>\n",
       "    </tr>\n",
       "    <tr>\n",
       "      <th>...</th>\n",
       "      <td>...</td>\n",
       "      <td>...</td>\n",
       "      <td>...</td>\n",
       "      <td>...</td>\n",
       "    </tr>\n",
       "    <tr>\n",
       "      <th>23154</th>\n",
       "      <td>Batten in this rangee</td>\n",
       "      <td>batten this rangee</td>\n",
       "      <td>Must he Bhai iss range me bas cemra thoda sa s...</td>\n",
       "      <td>must bhai iss range bas cemra thoda shi nhi</td>\n",
       "    </tr>\n",
       "    <tr>\n",
       "      <th>23155</th>\n",
       "      <td>Good mobile</td>\n",
       "      <td>good mobile</td>\n",
       "      <td>Good product</td>\n",
       "      <td>good product</td>\n",
       "    </tr>\n",
       "    <tr>\n",
       "      <th>23156</th>\n",
       "      <td>Good camera</td>\n",
       "      <td>good camera</td>\n",
       "      <td>Good</td>\n",
       "      <td>good</td>\n",
       "    </tr>\n",
       "    <tr>\n",
       "      <th>23157</th>\n",
       "      <td>Warest mobile</td>\n",
       "      <td>warest mobile</td>\n",
       "      <td>Don't buy this mobile phone money weast screen...</td>\n",
       "      <td>don buy this mobile phone money weast screen t...</td>\n",
       "    </tr>\n",
       "    <tr>\n",
       "      <th>23158</th>\n",
       "      <td>Good phone complicated UI.</td>\n",
       "      <td>good phone complicated ui</td>\n",
       "      <td>Phone is Good . Camera not upto the mark. UI i...</td>\n",
       "      <td>phone good camera not upto the mark ui complic...</td>\n",
       "    </tr>\n",
       "  </tbody>\n",
       "</table>\n",
       "<p>23159 rows × 4 columns</p>\n",
       "</div>"
      ],
      "text/plain": [
       "                            Review-Title              title_processed  \\\n",
       "0                       Worst phone ever             worst phone ever   \n",
       "1              Ok !!! Not up to the mark                 not the mark   \n",
       "2                           Awesome look                 awesome look   \n",
       "3      One plus losing is originality!!!  one plus losing originality   \n",
       "4                                   Read                         read   \n",
       "...                                  ...                          ...   \n",
       "23154              Batten in this rangee           batten this rangee   \n",
       "23155                        Good mobile                  good mobile   \n",
       "23156                        Good camera                  good camera   \n",
       "23157                      Warest mobile                warest mobile   \n",
       "23158         Good phone complicated UI.    good phone complicated ui   \n",
       "\n",
       "                                             Review-Body  \\\n",
       "0                                           Hang problem   \n",
       "1      I'm writing this review after using 3days !!!B...   \n",
       "2      Camera is so good n very fast phone back look ...   \n",
       "3      The media could not be loaded.\\n              ...   \n",
       "4      I got my delivery on 23 feb when I unboxed the...   \n",
       "...                                                  ...   \n",
       "23154  Must he Bhai iss range me bas cemra thoda sa s...   \n",
       "23155                                       Good product   \n",
       "23156                                               Good   \n",
       "23157  Don't buy this mobile phone money weast screen...   \n",
       "23158  Phone is Good . Camera not upto the mark. UI i...   \n",
       "\n",
       "                                          body_processed  \n",
       "0                                           hang problem  \n",
       "1      writing this review after using 3days honest t...  \n",
       "2      camera good very fast phone back look awesomew...  \n",
       "3      the media could not loaded average product dec...  \n",
       "4      got delivery feb when unboxed the phone the di...  \n",
       "...                                                  ...  \n",
       "23154        must bhai iss range bas cemra thoda shi nhi  \n",
       "23155                                       good product  \n",
       "23156                                               good  \n",
       "23157  don buy this mobile phone money weast screen t...  \n",
       "23158  phone good camera not upto the mark ui complic...  \n",
       "\n",
       "[23159 rows x 4 columns]"
      ]
     },
     "execution_count": 17,
     "metadata": {},
     "output_type": "execute_result"
    }
   ],
   "source": [
    "df[['Review-Title','title_processed', 'Review-Body','body_processed']]"
   ]
  },
  {
   "cell_type": "code",
   "execution_count": 18,
   "metadata": {
    "colab": {
     "base_uri": "https://localhost:8080/"
    },
    "id": "SI1fkv4Y59fp",
    "outputId": "7a902aa8-a33f-40c5-ce7f-93b125f28de0"
   },
   "outputs": [
    {
     "name": "stderr",
     "output_type": "stream",
     "text": [
      "[nltk_data] Downloading package punkt to\n",
      "[nltk_data]     C:\\Users\\Deepu\\AppData\\Roaming\\nltk_data...\n",
      "[nltk_data]   Unzipping tokenizers\\punkt.zip.\n",
      "[nltk_data] Downloading package stopwords to\n",
      "[nltk_data]     C:\\Users\\Deepu\\AppData\\Roaming\\nltk_data...\n",
      "[nltk_data]   Unzipping corpora\\stopwords.zip.\n"
     ]
    }
   ],
   "source": [
    "nltk.download('punkt')\n",
    "nltk.download('stopwords')\n",
    "stop_words = stopwords.words('english')\n",
    "\n",
    "\n",
    "def remove_stopwords(rev):\n",
    "    # iNPUT : IT WILL TAKE ROW/REVIEW AS AN INPUT\n",
    "    # take the paragraph, break into words, check if the word is a stop word, remove if stop word, combine the words into a para again\n",
    "    review_tokenized = word_tokenize(rev)\n",
    "    rev_new = \" \".join([i for i in review_tokenized  if i not in stop_words])\n",
    "    return rev_new\n",
    "\n",
    "# Removing stopwords\n",
    "df['body_processed'] = [remove_stopwords(r) for r in df['body_processed']]\n",
    "df['title_processed'] = [remove_stopwords(r) for r in df['title_processed']]\n",
    "\n"
   ]
  },
  {
   "cell_type": "code",
   "execution_count": 19,
   "metadata": {
    "colab": {
     "base_uri": "https://localhost:8080/"
    },
    "id": "ecsc6YJA6fLi",
    "outputId": "1ad9bb80-d13a-4069-e9ff-4bdc059be480"
   },
   "outputs": [
    {
     "name": "stderr",
     "output_type": "stream",
     "text": [
      "[nltk_data] Downloading package wordnet to\n",
      "[nltk_data]     C:\\Users\\Deepu\\AppData\\Roaming\\nltk_data...\n",
      "[nltk_data] Downloading package averaged_perceptron_tagger to\n",
      "[nltk_data]     C:\\Users\\Deepu\\AppData\\Roaming\\nltk_data...\n",
      "[nltk_data]   Unzipping taggers\\averaged_perceptron_tagger.zip.\n",
      "[nltk_data] Downloading package omw-1.4 to\n",
      "[nltk_data]     C:\\Users\\Deepu\\AppData\\Roaming\\nltk_data...\n"
     ]
    }
   ],
   "source": [
    "nltk.download('wordnet')\n",
    "nltk.download('averaged_perceptron_tagger') # Run atleast once \n",
    "\n",
    "lemmatizer = WordNetLemmatizer()\n",
    "nltk.download('omw-1.4')\n",
    "\n",
    "# Finds the part of speech tag\n",
    "# Convert the detailed POS tag into a shallow information\n",
    "def nltk_tag_to_wordnet_tag(nltk_tag):\n",
    "    if nltk_tag.startswith('J'):\n",
    "        return wordnet.ADJ\n",
    "    elif nltk_tag.startswith('V'):\n",
    "        return wordnet.VERB\n",
    "    elif nltk_tag.startswith('N'):\n",
    "        return wordnet.NOUN\n",
    "    elif nltk_tag.startswith('R'):\n",
    "        return wordnet.ADV\n",
    "    else:          \n",
    "        return None\n",
    "\n",
    "# lemmatize sentence using pos tag\n",
    "def lemmatize_sentence(sentence):\n",
    "  # word tokenize -> pos tag (detailed) -> wordnet tag (shallow pos) -> lemmatizer -> root word\n",
    "    #tokenize the sentence and find the POS tag for each token\n",
    "    nltk_tagged = nltk.pos_tag(nltk.word_tokenize(sentence))  \n",
    "    #tuple of (token, wordnet_tag)\n",
    "    wordnet_tagged = map(lambda x: (x[0], nltk_tag_to_wordnet_tag(x[1])), nltk_tagged)\n",
    "    lemmatized_sentence = []\n",
    "    for word, tag in wordnet_tagged:\n",
    "        if tag is None:\n",
    "            #if there is no available tag, append the token as is\n",
    "            lemmatized_sentence.append(word)\n",
    "        else:        \n",
    "            #else use the tag to lemmatize the token\n",
    "            lemmatized_sentence.append(lemmatizer.lemmatize(word, tag))\n",
    "    return \" \".join(lemmatized_sentence)\n",
    "\n",
    "\n",
    "df['body_processed'] = df['body_processed'].apply(lambda x: lemmatize_sentence(x))\n",
    "df['title_processed'] = df['title_processed'].apply(lambda x: lemmatize_sentence(x))"
   ]
  },
  {
   "cell_type": "markdown",
   "metadata": {
    "id": "pOY6zw4lcYD3"
   },
   "source": [
    "# Bagging of Words"
   ]
  },
  {
   "cell_type": "code",
   "execution_count": 20,
   "metadata": {
    "id": "a_gR6km9n8ag"
   },
   "outputs": [],
   "source": [
    "tfidf = TfidfVectorizer(max_features=None)\n",
    "\n",
    "x1 = tfidf.fit_transform(df.body_processed).toarray()\n",
    "x2 = tfidf.fit_transform(df.title_processed).toarray()\n",
    "\n",
    "X=np.concatenate((x1,x2), axis=1)\n",
    "\n",
    "y = df.rating_nature.values"
   ]
  },
  {
   "cell_type": "code",
   "execution_count": 21,
   "metadata": {
    "colab": {
     "base_uri": "https://localhost:8080/"
    },
    "id": "yjP2jXT4n8Qg",
    "outputId": "b9cc0ec7-0650-493d-fe60-608b8b48dea9"
   },
   "outputs": [
    {
     "name": "stdout",
     "output_type": "stream",
     "text": [
      "(23159, 12781)\n",
      "(23159, 4316)\n",
      "(23159, 17097)\n"
     ]
    }
   ],
   "source": [
    "print(x1.shape)\n",
    "print(x2.shape)\n",
    "print(X.shape)"
   ]
  },
  {
   "cell_type": "code",
   "execution_count": 22,
   "metadata": {
    "id": "6t2JdJRen8O7"
   },
   "outputs": [],
   "source": [
    "X_train, X_test, y_train, y_test = train_test_split(X, y, test_size = 0.20)\n"
   ]
  },
  {
   "cell_type": "markdown",
   "metadata": {
    "id": "P0d0mq_1bt6f"
   },
   "source": [
    "# Decision Tree"
   ]
  },
  {
   "cell_type": "code",
   "execution_count": null,
   "metadata": {
    "id": "5nx3xtg7n8K1"
   },
   "outputs": [],
   "source": [
    "dt = DecisionTreeClassifier()\n",
    "dt.fit(X_train,y_train)\n",
    "\n",
    "y_pred = dt.predict(X_test)"
   ]
  },
  {
   "cell_type": "code",
   "execution_count": null,
   "metadata": {
    "colab": {
     "base_uri": "https://localhost:8080/"
    },
    "id": "I4p24YezCGe5",
    "outputId": "0e9deb67-d8e3-4ee6-f310-0a53c8cc7f7b"
   },
   "outputs": [
    {
     "data": {
      "text/plain": [
       "(4632,)"
      ]
     },
     "execution_count": 39,
     "metadata": {},
     "output_type": "execute_result"
    }
   ],
   "source": [
    "y_pred.shape"
   ]
  },
  {
   "cell_type": "code",
   "execution_count": null,
   "metadata": {
    "colab": {
     "base_uri": "https://localhost:8080/"
    },
    "id": "wAX1kpcRn8JS",
    "outputId": "99029dd0-f0c8-4130-dd79-6caafed3fdcf"
   },
   "outputs": [
    {
     "name": "stdout",
     "output_type": "stream",
     "text": [
      "[[ 901  430]\n",
      " [ 385 2916]]\n",
      "The model accuracy is 0.8240500863557858\n"
     ]
    }
   ],
   "source": [
    "accuracy = accuracy_score(y_test, y_pred)\n",
    "cm = confusion_matrix(y_test, y_pred)\n",
    "print(cm)\n",
    "print(\"The model accuracy is\", accuracy )"
   ]
  },
  {
   "cell_type": "code",
   "execution_count": null,
   "metadata": {
    "colab": {
     "base_uri": "https://localhost:8080/"
    },
    "id": "KSuVhDPCIV-K",
    "outputId": "ff10ac0b-bf1f-4ed7-dec9-da6e5056f2c9"
   },
   "outputs": [
    {
     "data": {
      "text/plain": [
       "(4632,)"
      ]
     },
     "execution_count": 45,
     "metadata": {},
     "output_type": "execute_result"
    }
   ],
   "source": [
    "y_test.shape"
   ]
  },
  {
   "cell_type": "code",
   "execution_count": null,
   "metadata": {
    "colab": {
     "base_uri": "https://localhost:8080/"
    },
    "id": "uouLcLt5_lXu",
    "outputId": "cdb20450-de1c-4420-d608-d1c1fd990a86"
   },
   "outputs": [
    {
     "data": {
      "text/plain": [
       "0.7782067952452084"
      ]
     },
     "execution_count": 46,
     "metadata": {},
     "output_type": "execute_result"
    }
   ],
   "source": [
    "#roc_auc_score(y_test, dt.predict_proba(X_test))#,multi_class='ovr'\n",
    "\n",
    "roc_auc_score(y_test, dt.predict_proba(X_test)[:, 1])"
   ]
  },
  {
   "cell_type": "markdown",
   "metadata": {
    "id": "Wk5dTaiHbycF"
   },
   "source": [
    "# Multinomial NB"
   ]
  },
  {
   "cell_type": "code",
   "execution_count": 32,
   "metadata": {
    "colab": {
     "base_uri": "https://localhost:8080/"
    },
    "id": "45jt8-5o_lWK",
    "outputId": "18315097-2b0f-412d-e87b-ec50a1bd98ef"
   },
   "outputs": [
    {
     "data": {
      "text/plain": [
       "MultinomialNB()"
      ]
     },
     "execution_count": 32,
     "metadata": {},
     "output_type": "execute_result"
    }
   ],
   "source": [
    "nb = MultinomialNB()\n",
    "nb.fit(X_train,y_train)"
   ]
  },
  {
   "cell_type": "code",
   "execution_count": 33,
   "metadata": {
    "id": "-_uzqP4W_lSi"
   },
   "outputs": [],
   "source": [
    "predictions = nb.predict(X_test)"
   ]
  },
  {
   "cell_type": "code",
   "execution_count": 34,
   "metadata": {
    "colab": {
     "base_uri": "https://localhost:8080/"
    },
    "id": "dTn_KLDQ_lQ8",
    "outputId": "13c74c80-970c-425c-e0d4-2efa734c3899"
   },
   "outputs": [
    {
     "name": "stdout",
     "output_type": "stream",
     "text": [
      "[[ 935  410]\n",
      " [ 220 3067]]\n"
     ]
    }
   ],
   "source": [
    "print(confusion_matrix(y_test,predictions))\n"
   ]
  },
  {
   "cell_type": "code",
   "execution_count": 35,
   "metadata": {
    "colab": {
     "base_uri": "https://localhost:8080/"
    },
    "id": "sQHmZSPP_lON",
    "outputId": "e4c8beff-1cfe-4468-a2c7-5887a5b36d4c",
    "scrolled": true
   },
   "outputs": [
    {
     "data": {
      "text/plain": [
       "0.9256639029725074"
      ]
     },
     "execution_count": 35,
     "metadata": {},
     "output_type": "execute_result"
    }
   ],
   "source": [
    "roc_auc_score(y_test, nb.predict_proba(X_test)[:, 1],multi_class='ovr')"
   ]
  },
  {
   "cell_type": "code",
   "execution_count": 36,
   "metadata": {
    "scrolled": true
   },
   "outputs": [
    {
     "name": "stdout",
     "output_type": "stream",
     "text": [
      "              precision    recall  f1-score   support\n",
      "\n",
      "           0       0.81      0.70      0.75      1345\n",
      "           1       0.88      0.93      0.91      3287\n",
      "\n",
      "    accuracy                           0.86      4632\n",
      "   macro avg       0.85      0.81      0.83      4632\n",
      "weighted avg       0.86      0.86      0.86      4632\n",
      "\n"
     ]
    }
   ],
   "source": [
    "print(classification_report(y_test,predictions))"
   ]
  },
  {
   "cell_type": "markdown",
   "metadata": {},
   "source": [
    "# Bernoulli NB"
   ]
  },
  {
   "cell_type": "code",
   "execution_count": 28,
   "metadata": {
    "id": "tPtE3m75_lMf"
   },
   "outputs": [],
   "source": [
    "#crashing due to inadequate RAM\n",
    "\n",
    "from sklearn.naive_bayes import BernoulliNB\n",
    "\n",
    "clf = BernoulliNB()\n",
    "clf.fit(X_train,y_train)\n",
    "predictions = clf.predict(X_test)"
   ]
  },
  {
   "cell_type": "code",
   "execution_count": 29,
   "metadata": {
    "id": "Hwn0FAa0Q06n"
   },
   "outputs": [
    {
     "name": "stdout",
     "output_type": "stream",
     "text": [
      "[[ 854  491]\n",
      " [ 246 3041]]\n"
     ]
    }
   ],
   "source": [
    "print(confusion_matrix(y_test,predictions))"
   ]
  },
  {
   "cell_type": "code",
   "execution_count": 30,
   "metadata": {
    "id": "CEWvyhwgQ04u",
    "scrolled": false
   },
   "outputs": [
    {
     "data": {
      "text/plain": [
       "0.9256639029725074"
      ]
     },
     "execution_count": 30,
     "metadata": {},
     "output_type": "execute_result"
    }
   ],
   "source": [
    "roc_auc_score(y_test, nb.predict_proba(X_test)[:, 1],multi_class='ovr')"
   ]
  },
  {
   "cell_type": "code",
   "execution_count": null,
   "metadata": {},
   "outputs": [],
   "source": []
  },
  {
   "cell_type": "code",
   "execution_count": 31,
   "metadata": {},
   "outputs": [
    {
     "data": {
      "text/html": [
       "<div>\n",
       "<style scoped>\n",
       "    .dataframe tbody tr th:only-of-type {\n",
       "        vertical-align: middle;\n",
       "    }\n",
       "\n",
       "    .dataframe tbody tr th {\n",
       "        vertical-align: top;\n",
       "    }\n",
       "\n",
       "    .dataframe thead th {\n",
       "        text-align: right;\n",
       "    }\n",
       "</style>\n",
       "<table border=\"1\" class=\"dataframe\">\n",
       "  <thead>\n",
       "    <tr style=\"text-align: right;\">\n",
       "      <th></th>\n",
       "      <th>Review-Title</th>\n",
       "      <th>rating</th>\n",
       "      <th>Review-Body</th>\n",
       "      <th>Product Name</th>\n",
       "      <th>rating_processed</th>\n",
       "      <th>rating_nature</th>\n",
       "      <th>body_processed</th>\n",
       "      <th>title_processed</th>\n",
       "    </tr>\n",
       "  </thead>\n",
       "  <tbody>\n",
       "    <tr>\n",
       "      <th>0</th>\n",
       "      <td>Worst phone ever</td>\n",
       "      <td>1.0 out of 5 stars</td>\n",
       "      <td>Hang problem</td>\n",
       "      <td>OnePlus Nord CE 2 5G (Gray Mirror, 8GB RAM, 12...</td>\n",
       "      <td>1.0</td>\n",
       "      <td>0</td>\n",
       "      <td>hang problem</td>\n",
       "      <td>worst phone ever</td>\n",
       "    </tr>\n",
       "    <tr>\n",
       "      <th>1</th>\n",
       "      <td>Ok !!! Not up to the mark</td>\n",
       "      <td>2.0 out of 5 stars</td>\n",
       "      <td>I'm writing this review after using 3days !!!B...</td>\n",
       "      <td>OnePlus Nord CE 2 5G (Gray Mirror, 8GB RAM, 12...</td>\n",
       "      <td>2.0</td>\n",
       "      <td>0</td>\n",
       "      <td>write review use 3days honest normal android p...</td>\n",
       "      <td>mark</td>\n",
       "    </tr>\n",
       "    <tr>\n",
       "      <th>2</th>\n",
       "      <td>Awesome look</td>\n",
       "      <td>5.0 out of 5 stars</td>\n",
       "      <td>Camera is so good n very fast phone back look ...</td>\n",
       "      <td>OnePlus Nord CE 2 5G (Gray Mirror, 8GB RAM, 12...</td>\n",
       "      <td>5.0</td>\n",
       "      <td>1</td>\n",
       "      <td>camera good fast phone back look awesomewith d...</td>\n",
       "      <td>awesome look</td>\n",
       "    </tr>\n",
       "  </tbody>\n",
       "</table>\n",
       "</div>"
      ],
      "text/plain": [
       "                Review-Title              rating  \\\n",
       "0           Worst phone ever  1.0 out of 5 stars   \n",
       "1  Ok !!! Not up to the mark  2.0 out of 5 stars   \n",
       "2               Awesome look  5.0 out of 5 stars   \n",
       "\n",
       "                                         Review-Body  \\\n",
       "0                                       Hang problem   \n",
       "1  I'm writing this review after using 3days !!!B...   \n",
       "2  Camera is so good n very fast phone back look ...   \n",
       "\n",
       "                                        Product Name  rating_processed  \\\n",
       "0  OnePlus Nord CE 2 5G (Gray Mirror, 8GB RAM, 12...               1.0   \n",
       "1  OnePlus Nord CE 2 5G (Gray Mirror, 8GB RAM, 12...               2.0   \n",
       "2  OnePlus Nord CE 2 5G (Gray Mirror, 8GB RAM, 12...               5.0   \n",
       "\n",
       "   rating_nature                                     body_processed  \\\n",
       "0              0                                       hang problem   \n",
       "1              0  write review use 3days honest normal android p...   \n",
       "2              1  camera good fast phone back look awesomewith d...   \n",
       "\n",
       "    title_processed  \n",
       "0  worst phone ever  \n",
       "1              mark  \n",
       "2      awesome look  "
      ]
     },
     "execution_count": 31,
     "metadata": {},
     "output_type": "execute_result"
    }
   ],
   "source": [
    "df.head(3)"
   ]
  },
  {
   "cell_type": "code",
   "execution_count": 37,
   "metadata": {
    "id": "lKuyJRGWQ00i"
   },
   "outputs": [],
   "source": [
    "df['rating_nature_pred']=nb.predict(X)"
   ]
  },
  {
   "cell_type": "code",
   "execution_count": 38,
   "metadata": {
    "id": "io1V91veQ0yu",
    "scrolled": true
   },
   "outputs": [
    {
     "data": {
      "text/html": [
       "<div>\n",
       "<style scoped>\n",
       "    .dataframe tbody tr th:only-of-type {\n",
       "        vertical-align: middle;\n",
       "    }\n",
       "\n",
       "    .dataframe tbody tr th {\n",
       "        vertical-align: top;\n",
       "    }\n",
       "\n",
       "    .dataframe thead th {\n",
       "        text-align: right;\n",
       "    }\n",
       "</style>\n",
       "<table border=\"1\" class=\"dataframe\">\n",
       "  <thead>\n",
       "    <tr style=\"text-align: right;\">\n",
       "      <th></th>\n",
       "      <th>Review-Title</th>\n",
       "      <th>rating</th>\n",
       "      <th>Review-Body</th>\n",
       "      <th>Product Name</th>\n",
       "      <th>rating_processed</th>\n",
       "      <th>rating_nature</th>\n",
       "      <th>body_processed</th>\n",
       "      <th>title_processed</th>\n",
       "      <th>rating_nature_pred</th>\n",
       "    </tr>\n",
       "  </thead>\n",
       "  <tbody>\n",
       "    <tr>\n",
       "      <th>0</th>\n",
       "      <td>Worst phone ever</td>\n",
       "      <td>1.0 out of 5 stars</td>\n",
       "      <td>Hang problem</td>\n",
       "      <td>OnePlus Nord CE 2 5G (Gray Mirror, 8GB RAM, 12...</td>\n",
       "      <td>1.0</td>\n",
       "      <td>0</td>\n",
       "      <td>hang problem</td>\n",
       "      <td>worst phone ever</td>\n",
       "      <td>0</td>\n",
       "    </tr>\n",
       "    <tr>\n",
       "      <th>1</th>\n",
       "      <td>Ok !!! Not up to the mark</td>\n",
       "      <td>2.0 out of 5 stars</td>\n",
       "      <td>I'm writing this review after using 3days !!!B...</td>\n",
       "      <td>OnePlus Nord CE 2 5G (Gray Mirror, 8GB RAM, 12...</td>\n",
       "      <td>2.0</td>\n",
       "      <td>0</td>\n",
       "      <td>write review use 3days honest normal android p...</td>\n",
       "      <td>mark</td>\n",
       "      <td>0</td>\n",
       "    </tr>\n",
       "    <tr>\n",
       "      <th>2</th>\n",
       "      <td>Awesome look</td>\n",
       "      <td>5.0 out of 5 stars</td>\n",
       "      <td>Camera is so good n very fast phone back look ...</td>\n",
       "      <td>OnePlus Nord CE 2 5G (Gray Mirror, 8GB RAM, 12...</td>\n",
       "      <td>5.0</td>\n",
       "      <td>1</td>\n",
       "      <td>camera good fast phone back look awesomewith d...</td>\n",
       "      <td>awesome look</td>\n",
       "      <td>1</td>\n",
       "    </tr>\n",
       "  </tbody>\n",
       "</table>\n",
       "</div>"
      ],
      "text/plain": [
       "                Review-Title              rating  \\\n",
       "0           Worst phone ever  1.0 out of 5 stars   \n",
       "1  Ok !!! Not up to the mark  2.0 out of 5 stars   \n",
       "2               Awesome look  5.0 out of 5 stars   \n",
       "\n",
       "                                         Review-Body  \\\n",
       "0                                       Hang problem   \n",
       "1  I'm writing this review after using 3days !!!B...   \n",
       "2  Camera is so good n very fast phone back look ...   \n",
       "\n",
       "                                        Product Name  rating_processed  \\\n",
       "0  OnePlus Nord CE 2 5G (Gray Mirror, 8GB RAM, 12...               1.0   \n",
       "1  OnePlus Nord CE 2 5G (Gray Mirror, 8GB RAM, 12...               2.0   \n",
       "2  OnePlus Nord CE 2 5G (Gray Mirror, 8GB RAM, 12...               5.0   \n",
       "\n",
       "   rating_nature                                     body_processed  \\\n",
       "0              0                                       hang problem   \n",
       "1              0  write review use 3days honest normal android p...   \n",
       "2              1  camera good fast phone back look awesomewith d...   \n",
       "\n",
       "    title_processed  rating_nature_pred  \n",
       "0  worst phone ever                   0  \n",
       "1              mark                   0  \n",
       "2      awesome look                   1  "
      ]
     },
     "execution_count": 38,
     "metadata": {},
     "output_type": "execute_result"
    }
   ],
   "source": [
    "df.head(3)"
   ]
  },
  {
   "cell_type": "markdown",
   "metadata": {},
   "source": [
    "## Problem 1"
   ]
  },
  {
   "cell_type": "code",
   "execution_count": 104,
   "metadata": {},
   "outputs": [
    {
     "data": {
      "text/html": [
       "<div>\n",
       "<style scoped>\n",
       "    .dataframe tbody tr th:only-of-type {\n",
       "        vertical-align: middle;\n",
       "    }\n",
       "\n",
       "    .dataframe tbody tr th {\n",
       "        vertical-align: top;\n",
       "    }\n",
       "\n",
       "    .dataframe thead th {\n",
       "        text-align: right;\n",
       "    }\n",
       "</style>\n",
       "<table border=\"1\" class=\"dataframe\">\n",
       "  <thead>\n",
       "    <tr style=\"text-align: right;\">\n",
       "      <th></th>\n",
       "      <th>rating_nature_pred</th>\n",
       "    </tr>\n",
       "    <tr>\n",
       "      <th>Product Name</th>\n",
       "      <th></th>\n",
       "    </tr>\n",
       "  </thead>\n",
       "  <tbody>\n",
       "    <tr>\n",
       "      <th>OPPO A31 (Mystery Black, 6GB RAM, 128GB Storage)</th>\n",
       "      <td>3426</td>\n",
       "    </tr>\n",
       "    <tr>\n",
       "      <th>OnePlus Nord CE 2 5G (Gray Mirror, 8GB RAM, 128GB Storage)</th>\n",
       "      <td>2741</td>\n",
       "    </tr>\n",
       "    <tr>\n",
       "      <th>Redmi 10 Prime (Bifrost Blue 4GB RAM 64GB ROM</th>\n",
       "      <td>2491</td>\n",
       "    </tr>\n",
       "    <tr>\n",
       "      <th>Redmi 9 Activ (Carbon Black, 4GB RAM, 64GB Storage)</th>\n",
       "      <td>3226</td>\n",
       "    </tr>\n",
       "    <tr>\n",
       "      <th>Redmi Note 11 (Space Black, 4GB RAM, 64GB Storage)</th>\n",
       "      <td>1875</td>\n",
       "    </tr>\n",
       "    <tr>\n",
       "      <th>Samsung Galaxy M32</th>\n",
       "      <td>868</td>\n",
       "    </tr>\n",
       "    <tr>\n",
       "      <th>realme narzo 50A (Oxygen Blue , 4GB RAM + 64 GB Storage)</th>\n",
       "      <td>1687</td>\n",
       "    </tr>\n",
       "    <tr>\n",
       "      <th>vivo iQOO Z6 5G (Chromatic Blue, 6GB RAM, 128GB Storage)</th>\n",
       "      <td>1019</td>\n",
       "    </tr>\n",
       "  </tbody>\n",
       "</table>\n",
       "</div>"
      ],
      "text/plain": [
       "                                                    rating_nature_pred\n",
       "Product Name                                                          \n",
       "OPPO A31 (Mystery Black, 6GB RAM, 128GB Storage)                  3426\n",
       "OnePlus Nord CE 2 5G (Gray Mirror, 8GB RAM, 128...                2741\n",
       "Redmi 10 Prime (Bifrost Blue 4GB RAM 64GB ROM                     2491\n",
       "Redmi 9 Activ (Carbon Black, 4GB RAM, 64GB Stor...                3226\n",
       "Redmi Note 11 (Space Black, 4GB RAM, 64GB Storage)                1875\n",
       "Samsung Galaxy M32                                                 868\n",
       "realme narzo 50A (Oxygen Blue , 4GB RAM + 64 GB...                1687\n",
       "vivo iQOO Z6 5G (Chromatic Blue, 6GB RAM, 128GB...                1019"
      ]
     },
     "execution_count": 104,
     "metadata": {},
     "output_type": "execute_result"
    }
   ],
   "source": [
    "df1=pd.DataFrame(df.groupby(\"Product Name\")[\"rating_nature_pred\"].sum())#.reset_index())\n",
    "df1"
   ]
  },
  {
   "cell_type": "code",
   "execution_count": 105,
   "metadata": {},
   "outputs": [
    {
     "data": {
      "text/html": [
       "<div>\n",
       "<style scoped>\n",
       "    .dataframe tbody tr th:only-of-type {\n",
       "        vertical-align: middle;\n",
       "    }\n",
       "\n",
       "    .dataframe tbody tr th {\n",
       "        vertical-align: top;\n",
       "    }\n",
       "\n",
       "    .dataframe thead th {\n",
       "        text-align: right;\n",
       "    }\n",
       "</style>\n",
       "<table border=\"1\" class=\"dataframe\">\n",
       "  <thead>\n",
       "    <tr style=\"text-align: right;\">\n",
       "      <th></th>\n",
       "      <th>pred_pos</th>\n",
       "    </tr>\n",
       "    <tr>\n",
       "      <th>Product Name</th>\n",
       "      <th></th>\n",
       "    </tr>\n",
       "  </thead>\n",
       "  <tbody>\n",
       "    <tr>\n",
       "      <th>OPPO A31 (Mystery Black, 6GB RAM, 128GB Storage)</th>\n",
       "      <td>3426</td>\n",
       "    </tr>\n",
       "    <tr>\n",
       "      <th>OnePlus Nord CE 2 5G (Gray Mirror, 8GB RAM, 128GB Storage)</th>\n",
       "      <td>2741</td>\n",
       "    </tr>\n",
       "    <tr>\n",
       "      <th>Redmi 10 Prime (Bifrost Blue 4GB RAM 64GB ROM</th>\n",
       "      <td>2491</td>\n",
       "    </tr>\n",
       "    <tr>\n",
       "      <th>Redmi 9 Activ (Carbon Black, 4GB RAM, 64GB Storage)</th>\n",
       "      <td>3226</td>\n",
       "    </tr>\n",
       "    <tr>\n",
       "      <th>Redmi Note 11 (Space Black, 4GB RAM, 64GB Storage)</th>\n",
       "      <td>1875</td>\n",
       "    </tr>\n",
       "    <tr>\n",
       "      <th>Samsung Galaxy M32</th>\n",
       "      <td>868</td>\n",
       "    </tr>\n",
       "    <tr>\n",
       "      <th>realme narzo 50A (Oxygen Blue , 4GB RAM + 64 GB Storage)</th>\n",
       "      <td>1687</td>\n",
       "    </tr>\n",
       "    <tr>\n",
       "      <th>vivo iQOO Z6 5G (Chromatic Blue, 6GB RAM, 128GB Storage)</th>\n",
       "      <td>1019</td>\n",
       "    </tr>\n",
       "  </tbody>\n",
       "</table>\n",
       "</div>"
      ],
      "text/plain": [
       "                                                    pred_pos\n",
       "Product Name                                                \n",
       "OPPO A31 (Mystery Black, 6GB RAM, 128GB Storage)        3426\n",
       "OnePlus Nord CE 2 5G (Gray Mirror, 8GB RAM, 128...      2741\n",
       "Redmi 10 Prime (Bifrost Blue 4GB RAM 64GB ROM           2491\n",
       "Redmi 9 Activ (Carbon Black, 4GB RAM, 64GB Stor...      3226\n",
       "Redmi Note 11 (Space Black, 4GB RAM, 64GB Storage)      1875\n",
       "Samsung Galaxy M32                                       868\n",
       "realme narzo 50A (Oxygen Blue , 4GB RAM + 64 GB...      1687\n",
       "vivo iQOO Z6 5G (Chromatic Blue, 6GB RAM, 128GB...      1019"
      ]
     },
     "execution_count": 105,
     "metadata": {},
     "output_type": "execute_result"
    }
   ],
   "source": [
    "df1.rename(columns = {'rating_nature_pred':'pred_pos'}, inplace = True)\n",
    "df1"
   ]
  },
  {
   "cell_type": "code",
   "execution_count": 106,
   "metadata": {},
   "outputs": [
    {
     "data": {
      "text/html": [
       "<div>\n",
       "<style scoped>\n",
       "    .dataframe tbody tr th:only-of-type {\n",
       "        vertical-align: middle;\n",
       "    }\n",
       "\n",
       "    .dataframe tbody tr th {\n",
       "        vertical-align: top;\n",
       "    }\n",
       "\n",
       "    .dataframe thead th {\n",
       "        text-align: right;\n",
       "    }\n",
       "</style>\n",
       "<table border=\"1\" class=\"dataframe\">\n",
       "  <thead>\n",
       "    <tr style=\"text-align: right;\">\n",
       "      <th></th>\n",
       "      <th>pred_pos</th>\n",
       "      <th>act_pos</th>\n",
       "    </tr>\n",
       "    <tr>\n",
       "      <th>Product Name</th>\n",
       "      <th></th>\n",
       "      <th></th>\n",
       "    </tr>\n",
       "  </thead>\n",
       "  <tbody>\n",
       "    <tr>\n",
       "      <th>OPPO A31 (Mystery Black, 6GB RAM, 128GB Storage)</th>\n",
       "      <td>3426</td>\n",
       "      <td>3254</td>\n",
       "    </tr>\n",
       "    <tr>\n",
       "      <th>OnePlus Nord CE 2 5G (Gray Mirror, 8GB RAM, 128GB Storage)</th>\n",
       "      <td>2741</td>\n",
       "      <td>2616</td>\n",
       "    </tr>\n",
       "    <tr>\n",
       "      <th>Redmi 10 Prime (Bifrost Blue 4GB RAM 64GB ROM</th>\n",
       "      <td>2491</td>\n",
       "      <td>2311</td>\n",
       "    </tr>\n",
       "    <tr>\n",
       "      <th>Redmi 9 Activ (Carbon Black, 4GB RAM, 64GB Storage)</th>\n",
       "      <td>3226</td>\n",
       "      <td>3126</td>\n",
       "    </tr>\n",
       "    <tr>\n",
       "      <th>Redmi Note 11 (Space Black, 4GB RAM, 64GB Storage)</th>\n",
       "      <td>1875</td>\n",
       "      <td>1795</td>\n",
       "    </tr>\n",
       "    <tr>\n",
       "      <th>Samsung Galaxy M32</th>\n",
       "      <td>868</td>\n",
       "      <td>847</td>\n",
       "    </tr>\n",
       "    <tr>\n",
       "      <th>realme narzo 50A (Oxygen Blue , 4GB RAM + 64 GB Storage)</th>\n",
       "      <td>1687</td>\n",
       "      <td>1595</td>\n",
       "    </tr>\n",
       "    <tr>\n",
       "      <th>vivo iQOO Z6 5G (Chromatic Blue, 6GB RAM, 128GB Storage)</th>\n",
       "      <td>1019</td>\n",
       "      <td>924</td>\n",
       "    </tr>\n",
       "  </tbody>\n",
       "</table>\n",
       "</div>"
      ],
      "text/plain": [
       "                                                    pred_pos  act_pos\n",
       "Product Name                                                         \n",
       "OPPO A31 (Mystery Black, 6GB RAM, 128GB Storage)        3426     3254\n",
       "OnePlus Nord CE 2 5G (Gray Mirror, 8GB RAM, 128...      2741     2616\n",
       "Redmi 10 Prime (Bifrost Blue 4GB RAM 64GB ROM           2491     2311\n",
       "Redmi 9 Activ (Carbon Black, 4GB RAM, 64GB Stor...      3226     3126\n",
       "Redmi Note 11 (Space Black, 4GB RAM, 64GB Storage)      1875     1795\n",
       "Samsung Galaxy M32                                       868      847\n",
       "realme narzo 50A (Oxygen Blue , 4GB RAM + 64 GB...      1687     1595\n",
       "vivo iQOO Z6 5G (Chromatic Blue, 6GB RAM, 128GB...      1019      924"
      ]
     },
     "execution_count": 106,
     "metadata": {},
     "output_type": "execute_result"
    }
   ],
   "source": [
    "df1[\"act_pos\"]=df.groupby(\"Product Name\")[\"rating_nature\"].sum().tolist()\n",
    "df1"
   ]
  },
  {
   "cell_type": "code",
   "execution_count": 99,
   "metadata": {
    "scrolled": true
   },
   "outputs": [
    {
     "data": {
      "text/plain": [
       "Product Name\n",
       "OPPO A31 (Mystery Black, 6GB RAM, 128GB Storage)              3254\n",
       "OnePlus Nord CE 2 5G (Gray Mirror, 8GB RAM, 128GB Storage)    2616\n",
       "Redmi 10 Prime (Bifrost Blue 4GB RAM 64GB ROM                 2311\n",
       "Redmi 9 Activ (Carbon Black, 4GB RAM, 64GB Storage)           3126\n",
       "Redmi Note 11 (Space Black, 4GB RAM, 64GB Storage)            1795\n",
       "Samsung Galaxy M32                                             847\n",
       "realme narzo 50A (Oxygen Blue , 4GB RAM + 64 GB Storage)      1595\n",
       "vivo iQOO Z6 5G (Chromatic Blue, 6GB RAM, 128GB Storage)       924\n",
       "Name: rating_nature, dtype: int64"
      ]
     },
     "execution_count": 99,
     "metadata": {},
     "output_type": "execute_result"
    }
   ],
   "source": [
    "df.groupby(\"Product Name\")[\"rating_nature\"].sum()#.tolist()"
   ]
  },
  {
   "cell_type": "code",
   "execution_count": 121,
   "metadata": {
    "scrolled": true
   },
   "outputs": [
    {
     "data": {
      "text/html": [
       "<div>\n",
       "<style scoped>\n",
       "    .dataframe tbody tr th:only-of-type {\n",
       "        vertical-align: middle;\n",
       "    }\n",
       "\n",
       "    .dataframe tbody tr th {\n",
       "        vertical-align: top;\n",
       "    }\n",
       "\n",
       "    .dataframe thead th {\n",
       "        text-align: right;\n",
       "    }\n",
       "</style>\n",
       "<table border=\"1\" class=\"dataframe\">\n",
       "  <thead>\n",
       "    <tr style=\"text-align: right;\">\n",
       "      <th></th>\n",
       "      <th>pred_pos</th>\n",
       "      <th>act_pos</th>\n",
       "      <th>tot_rev</th>\n",
       "    </tr>\n",
       "    <tr>\n",
       "      <th>Product Name</th>\n",
       "      <th></th>\n",
       "      <th></th>\n",
       "      <th></th>\n",
       "    </tr>\n",
       "  </thead>\n",
       "  <tbody>\n",
       "    <tr>\n",
       "      <th>OPPO A31 (Mystery Black, 6GB RAM, 128GB Storage)</th>\n",
       "      <td>3426</td>\n",
       "      <td>3254</td>\n",
       "      <td>4273</td>\n",
       "    </tr>\n",
       "    <tr>\n",
       "      <th>OnePlus Nord CE 2 5G (Gray Mirror, 8GB RAM, 128GB Storage)</th>\n",
       "      <td>2741</td>\n",
       "      <td>2616</td>\n",
       "      <td>3396</td>\n",
       "    </tr>\n",
       "    <tr>\n",
       "      <th>Redmi 10 Prime (Bifrost Blue 4GB RAM 64GB ROM</th>\n",
       "      <td>2491</td>\n",
       "      <td>2311</td>\n",
       "      <td>3597</td>\n",
       "    </tr>\n",
       "    <tr>\n",
       "      <th>Redmi 9 Activ (Carbon Black, 4GB RAM, 64GB Storage)</th>\n",
       "      <td>3226</td>\n",
       "      <td>3126</td>\n",
       "      <td>4450</td>\n",
       "    </tr>\n",
       "    <tr>\n",
       "      <th>Redmi Note 11 (Space Black, 4GB RAM, 64GB Storage)</th>\n",
       "      <td>1875</td>\n",
       "      <td>1795</td>\n",
       "      <td>2642</td>\n",
       "    </tr>\n",
       "    <tr>\n",
       "      <th>Samsung Galaxy M32</th>\n",
       "      <td>868</td>\n",
       "      <td>847</td>\n",
       "      <td>1336</td>\n",
       "    </tr>\n",
       "    <tr>\n",
       "      <th>realme narzo 50A (Oxygen Blue , 4GB RAM + 64 GB Storage)</th>\n",
       "      <td>1687</td>\n",
       "      <td>1595</td>\n",
       "      <td>2100</td>\n",
       "    </tr>\n",
       "    <tr>\n",
       "      <th>vivo iQOO Z6 5G (Chromatic Blue, 6GB RAM, 128GB Storage)</th>\n",
       "      <td>1019</td>\n",
       "      <td>924</td>\n",
       "      <td>1365</td>\n",
       "    </tr>\n",
       "  </tbody>\n",
       "</table>\n",
       "</div>"
      ],
      "text/plain": [
       "                                                    pred_pos  act_pos  tot_rev\n",
       "Product Name                                                                  \n",
       "OPPO A31 (Mystery Black, 6GB RAM, 128GB Storage)        3426     3254     4273\n",
       "OnePlus Nord CE 2 5G (Gray Mirror, 8GB RAM, 128...      2741     2616     3396\n",
       "Redmi 10 Prime (Bifrost Blue 4GB RAM 64GB ROM           2491     2311     3597\n",
       "Redmi 9 Activ (Carbon Black, 4GB RAM, 64GB Stor...      3226     3126     4450\n",
       "Redmi Note 11 (Space Black, 4GB RAM, 64GB Storage)      1875     1795     2642\n",
       "Samsung Galaxy M32                                       868      847     1336\n",
       "realme narzo 50A (Oxygen Blue , 4GB RAM + 64 GB...      1687     1595     2100\n",
       "vivo iQOO Z6 5G (Chromatic Blue, 6GB RAM, 128GB...      1019      924     1365"
      ]
     },
     "execution_count": 121,
     "metadata": {},
     "output_type": "execute_result"
    }
   ],
   "source": [
    "df1[\"tot_rev\"]=df.groupby('Product Name')['rating_nature'].count()\n",
    "\n",
    "df1"
   ]
  },
  {
   "cell_type": "code",
   "execution_count": 108,
   "metadata": {},
   "outputs": [
    {
     "data": {
      "text/plain": [
       "Redmi 9 Activ (Carbon Black, 4GB RAM, 64GB Storage)           4450\n",
       "OPPO A31 (Mystery Black, 6GB RAM, 128GB Storage)              4273\n",
       "Redmi 10 Prime (Bifrost Blue 4GB RAM 64GB ROM                 3597\n",
       "OnePlus Nord CE 2 5G (Gray Mirror, 8GB RAM, 128GB Storage)    3396\n",
       "Redmi Note 11 (Space Black, 4GB RAM, 64GB Storage)            2642\n",
       "realme narzo 50A (Oxygen Blue , 4GB RAM + 64 GB Storage)      2100\n",
       "vivo iQOO Z6 5G (Chromatic Blue, 6GB RAM, 128GB Storage)      1365\n",
       "Samsung Galaxy M32                                            1336\n",
       "Name: Product Name, dtype: int64"
      ]
     },
     "execution_count": 108,
     "metadata": {},
     "output_type": "execute_result"
    }
   ],
   "source": [
    "df[\"Product Name\"].value_counts()"
   ]
  },
  {
   "cell_type": "code",
   "execution_count": 130,
   "metadata": {},
   "outputs": [
    {
     "data": {
      "text/plain": [
       "Index(['Product Name', 'pred_pos', 'act_pos', 'tot_rev'], dtype='object')"
      ]
     },
     "execution_count": 130,
     "metadata": {},
     "output_type": "execute_result"
    }
   ],
   "source": []
  },
  {
   "cell_type": "code",
   "execution_count": 132,
   "metadata": {},
   "outputs": [
    {
     "data": {
      "text/html": [
       "<div>\n",
       "<style scoped>\n",
       "    .dataframe tbody tr th:only-of-type {\n",
       "        vertical-align: middle;\n",
       "    }\n",
       "\n",
       "    .dataframe tbody tr th {\n",
       "        vertical-align: top;\n",
       "    }\n",
       "\n",
       "    .dataframe thead th {\n",
       "        text-align: right;\n",
       "    }\n",
       "</style>\n",
       "<table border=\"1\" class=\"dataframe\">\n",
       "  <thead>\n",
       "    <tr style=\"text-align: right;\">\n",
       "      <th></th>\n",
       "      <th>Product Name</th>\n",
       "      <th>tot_rev</th>\n",
       "      <th>act_pos</th>\n",
       "      <th>pred_pos</th>\n",
       "    </tr>\n",
       "  </thead>\n",
       "  <tbody>\n",
       "    <tr>\n",
       "      <th>0</th>\n",
       "      <td>OPPO A31 (Mystery Black, 6GB RAM, 128GB Storage)</td>\n",
       "      <td>4273</td>\n",
       "      <td>3254</td>\n",
       "      <td>3426</td>\n",
       "    </tr>\n",
       "    <tr>\n",
       "      <th>1</th>\n",
       "      <td>OnePlus Nord CE 2 5G (Gray Mirror, 8GB RAM, 12...</td>\n",
       "      <td>3396</td>\n",
       "      <td>2616</td>\n",
       "      <td>2741</td>\n",
       "    </tr>\n",
       "    <tr>\n",
       "      <th>2</th>\n",
       "      <td>Redmi 10 Prime (Bifrost Blue 4GB RAM 64GB ROM</td>\n",
       "      <td>3597</td>\n",
       "      <td>2311</td>\n",
       "      <td>2491</td>\n",
       "    </tr>\n",
       "    <tr>\n",
       "      <th>3</th>\n",
       "      <td>Redmi 9 Activ (Carbon Black, 4GB RAM, 64GB Sto...</td>\n",
       "      <td>4450</td>\n",
       "      <td>3126</td>\n",
       "      <td>3226</td>\n",
       "    </tr>\n",
       "    <tr>\n",
       "      <th>4</th>\n",
       "      <td>Redmi Note 11 (Space Black, 4GB RAM, 64GB Stor...</td>\n",
       "      <td>2642</td>\n",
       "      <td>1795</td>\n",
       "      <td>1875</td>\n",
       "    </tr>\n",
       "    <tr>\n",
       "      <th>5</th>\n",
       "      <td>Samsung Galaxy M32</td>\n",
       "      <td>1336</td>\n",
       "      <td>847</td>\n",
       "      <td>868</td>\n",
       "    </tr>\n",
       "    <tr>\n",
       "      <th>6</th>\n",
       "      <td>realme narzo 50A (Oxygen Blue , 4GB RAM + 64 G...</td>\n",
       "      <td>2100</td>\n",
       "      <td>1595</td>\n",
       "      <td>1687</td>\n",
       "    </tr>\n",
       "    <tr>\n",
       "      <th>7</th>\n",
       "      <td>vivo iQOO Z6 5G (Chromatic Blue, 6GB RAM, 128G...</td>\n",
       "      <td>1365</td>\n",
       "      <td>924</td>\n",
       "      <td>1019</td>\n",
       "    </tr>\n",
       "  </tbody>\n",
       "</table>\n",
       "</div>"
      ],
      "text/plain": [
       "                                        Product Name  tot_rev  act_pos  \\\n",
       "0   OPPO A31 (Mystery Black, 6GB RAM, 128GB Storage)     4273     3254   \n",
       "1  OnePlus Nord CE 2 5G (Gray Mirror, 8GB RAM, 12...     3396     2616   \n",
       "2     Redmi 10 Prime (Bifrost Blue 4GB RAM 64GB ROM      3597     2311   \n",
       "3  Redmi 9 Activ (Carbon Black, 4GB RAM, 64GB Sto...     4450     3126   \n",
       "4  Redmi Note 11 (Space Black, 4GB RAM, 64GB Stor...     2642     1795   \n",
       "5                                 Samsung Galaxy M32     1336      847   \n",
       "6  realme narzo 50A (Oxygen Blue , 4GB RAM + 64 G...     2100     1595   \n",
       "7  vivo iQOO Z6 5G (Chromatic Blue, 6GB RAM, 128G...     1365      924   \n",
       "\n",
       "   pred_pos  \n",
       "0      3426  \n",
       "1      2741  \n",
       "2      2491  \n",
       "3      3226  \n",
       "4      1875  \n",
       "5       868  \n",
       "6      1687  \n",
       "7      1019  "
      ]
     },
     "execution_count": 132,
     "metadata": {},
     "output_type": "execute_result"
    }
   ],
   "source": [
    "df1.reset_index(inplace=True)\n",
    "df1=df1[[\"Product Name\",\"tot_rev\",\"act_pos\",\"pred_pos\"]]\n",
    "df1"
   ]
  },
  {
   "cell_type": "code",
   "execution_count": 134,
   "metadata": {},
   "outputs": [
    {
     "data": {
      "text/html": [
       "<div>\n",
       "<style scoped>\n",
       "    .dataframe tbody tr th:only-of-type {\n",
       "        vertical-align: middle;\n",
       "    }\n",
       "\n",
       "    .dataframe tbody tr th {\n",
       "        vertical-align: top;\n",
       "    }\n",
       "\n",
       "    .dataframe thead th {\n",
       "        text-align: right;\n",
       "    }\n",
       "</style>\n",
       "<table border=\"1\" class=\"dataframe\">\n",
       "  <thead>\n",
       "    <tr style=\"text-align: right;\">\n",
       "      <th></th>\n",
       "      <th>Product Name</th>\n",
       "      <th>tot_rev</th>\n",
       "      <th>act_pos</th>\n",
       "      <th>pred_pos</th>\n",
       "      <th>pred_pos_prcnt</th>\n",
       "      <th>act_pos_prcnt</th>\n",
       "    </tr>\n",
       "  </thead>\n",
       "  <tbody>\n",
       "    <tr>\n",
       "      <th>0</th>\n",
       "      <td>OPPO A31 (Mystery Black, 6GB RAM, 128GB Storage)</td>\n",
       "      <td>4273</td>\n",
       "      <td>3254</td>\n",
       "      <td>3426</td>\n",
       "      <td>80.18</td>\n",
       "      <td>76.15</td>\n",
       "    </tr>\n",
       "    <tr>\n",
       "      <th>1</th>\n",
       "      <td>OnePlus Nord CE 2 5G (Gray Mirror, 8GB RAM, 12...</td>\n",
       "      <td>3396</td>\n",
       "      <td>2616</td>\n",
       "      <td>2741</td>\n",
       "      <td>80.71</td>\n",
       "      <td>77.03</td>\n",
       "    </tr>\n",
       "    <tr>\n",
       "      <th>2</th>\n",
       "      <td>Redmi 10 Prime (Bifrost Blue 4GB RAM 64GB ROM</td>\n",
       "      <td>3597</td>\n",
       "      <td>2311</td>\n",
       "      <td>2491</td>\n",
       "      <td>69.25</td>\n",
       "      <td>64.25</td>\n",
       "    </tr>\n",
       "    <tr>\n",
       "      <th>3</th>\n",
       "      <td>Redmi 9 Activ (Carbon Black, 4GB RAM, 64GB Sto...</td>\n",
       "      <td>4450</td>\n",
       "      <td>3126</td>\n",
       "      <td>3226</td>\n",
       "      <td>72.49</td>\n",
       "      <td>70.25</td>\n",
       "    </tr>\n",
       "    <tr>\n",
       "      <th>4</th>\n",
       "      <td>Redmi Note 11 (Space Black, 4GB RAM, 64GB Stor...</td>\n",
       "      <td>2642</td>\n",
       "      <td>1795</td>\n",
       "      <td>1875</td>\n",
       "      <td>70.97</td>\n",
       "      <td>67.94</td>\n",
       "    </tr>\n",
       "    <tr>\n",
       "      <th>5</th>\n",
       "      <td>Samsung Galaxy M32</td>\n",
       "      <td>1336</td>\n",
       "      <td>847</td>\n",
       "      <td>868</td>\n",
       "      <td>64.97</td>\n",
       "      <td>63.40</td>\n",
       "    </tr>\n",
       "    <tr>\n",
       "      <th>6</th>\n",
       "      <td>realme narzo 50A (Oxygen Blue , 4GB RAM + 64 G...</td>\n",
       "      <td>2100</td>\n",
       "      <td>1595</td>\n",
       "      <td>1687</td>\n",
       "      <td>80.33</td>\n",
       "      <td>75.95</td>\n",
       "    </tr>\n",
       "    <tr>\n",
       "      <th>7</th>\n",
       "      <td>vivo iQOO Z6 5G (Chromatic Blue, 6GB RAM, 128G...</td>\n",
       "      <td>1365</td>\n",
       "      <td>924</td>\n",
       "      <td>1019</td>\n",
       "      <td>74.65</td>\n",
       "      <td>67.69</td>\n",
       "    </tr>\n",
       "  </tbody>\n",
       "</table>\n",
       "</div>"
      ],
      "text/plain": [
       "                                        Product Name  tot_rev  act_pos  \\\n",
       "0   OPPO A31 (Mystery Black, 6GB RAM, 128GB Storage)     4273     3254   \n",
       "1  OnePlus Nord CE 2 5G (Gray Mirror, 8GB RAM, 12...     3396     2616   \n",
       "2     Redmi 10 Prime (Bifrost Blue 4GB RAM 64GB ROM      3597     2311   \n",
       "3  Redmi 9 Activ (Carbon Black, 4GB RAM, 64GB Sto...     4450     3126   \n",
       "4  Redmi Note 11 (Space Black, 4GB RAM, 64GB Stor...     2642     1795   \n",
       "5                                 Samsung Galaxy M32     1336      847   \n",
       "6  realme narzo 50A (Oxygen Blue , 4GB RAM + 64 G...     2100     1595   \n",
       "7  vivo iQOO Z6 5G (Chromatic Blue, 6GB RAM, 128G...     1365      924   \n",
       "\n",
       "   pred_pos  pred_pos_prcnt  act_pos_prcnt  \n",
       "0      3426           80.18          76.15  \n",
       "1      2741           80.71          77.03  \n",
       "2      2491           69.25          64.25  \n",
       "3      3226           72.49          70.25  \n",
       "4      1875           70.97          67.94  \n",
       "5       868           64.97          63.40  \n",
       "6      1687           80.33          75.95  \n",
       "7      1019           74.65          67.69  "
      ]
     },
     "execution_count": 134,
     "metadata": {},
     "output_type": "execute_result"
    }
   ],
   "source": [
    "df1[\"pred_pos_prcnt\"]=(df1[\"pred_pos\"]/df1[\"tot_rev\"]*100).round(2)\n",
    "df1[\"act_pos_prcnt\"]=(df1[\"act_pos\"]/df1[\"tot_rev\"]*100).round(2)\n",
    "df1"
   ]
  },
  {
   "cell_type": "markdown",
   "metadata": {},
   "source": [
    "## Problem 2"
   ]
  },
  {
   "cell_type": "code",
   "execution_count": 136,
   "metadata": {},
   "outputs": [],
   "source": [
    "cam=[\"camera\"]\n",
    "bat=[\"battery\"]\n",
    "disp=[\"display\",\"screen\"]\n",
    "value=[\"price\",\"money\"]\n",
    "perf=[\"performance\"]"
   ]
  },
  {
   "cell_type": "code",
   "execution_count": 143,
   "metadata": {},
   "outputs": [],
   "source": [
    "df['cat'] = 0\n"
   ]
  },
  {
   "cell_type": "code",
   "execution_count": 147,
   "metadata": {},
   "outputs": [],
   "source": [
    "df.loc[df['Review-Body'].str.contains('camera'), 'cat'] = 1"
   ]
  },
  {
   "cell_type": "code",
   "execution_count": 153,
   "metadata": {},
   "outputs": [],
   "source": [
    "pd.set_option(\"display.max_colwidth\", -1)"
   ]
  },
  {
   "cell_type": "code",
   "execution_count": 171,
   "metadata": {},
   "outputs": [
    {
     "data": {
      "text/plain": [
       "Index(['Review-Title', 'rating', 'Review-Body', 'Product Name',\n",
       "       'rating_processed', 'rating_nature', 'body_processed',\n",
       "       'title_processed', 'rating_nature_pred', 'cat'],\n",
       "      dtype='object')"
      ]
     },
     "execution_count": 171,
     "metadata": {},
     "output_type": "execute_result"
    }
   ],
   "source": [
    "df.columns"
   ]
  },
  {
   "cell_type": "code",
   "execution_count": 174,
   "metadata": {},
   "outputs": [
    {
     "data": {
      "text/html": [
       "<div>\n",
       "<style scoped>\n",
       "    .dataframe tbody tr th:only-of-type {\n",
       "        vertical-align: middle;\n",
       "    }\n",
       "\n",
       "    .dataframe tbody tr th {\n",
       "        vertical-align: top;\n",
       "    }\n",
       "\n",
       "    .dataframe thead th {\n",
       "        text-align: right;\n",
       "    }\n",
       "</style>\n",
       "<table border=\"1\" class=\"dataframe\">\n",
       "  <thead>\n",
       "    <tr style=\"text-align: right;\">\n",
       "      <th></th>\n",
       "      <th>Review-Body</th>\n",
       "    </tr>\n",
       "  </thead>\n",
       "  <tbody>\n",
       "    <tr>\n",
       "      <th>3</th>\n",
       "      <td>The media could not be loaded.\\n                \\n\\n\\n\\n It’s A average product decent for day to day activity.. one the thing I would like to mention that exchange was Far Far alot Good On amazon it was like 2 to 3 minutes and delivery agent was very Good with me although I had 2 scratches on it but he neglected it as it was minor scratches and I exchanged poco m2 pro 6 64gb variant which was exchanged for rupees 10100. I bought it at 12499 1 and Half year ago and sold it at at very good price!! So plus point To amazonComing Back to device I would say it’s a ok device camera is average performance is Fine one plus is losing it’s originality oxygen os to color or..WARP CHARGER TO VOOC CHARGER!! yes it has been taken by oppo!! I wish the way we believed in one plus doesn’t change with it as A one plus Fan We don’t want To merge with Other brands please keep your Originality Maintained!! thanx amazon for such a hasselfree exchange alot better than FLIPKART</td>\n",
       "    </tr>\n",
       "    <tr>\n",
       "      <th>5</th>\n",
       "      <td>The media could not be loaded.\\n                \\n\\n\\n\\n Phone is is Fab!But sometime apps like Gaana, LinkedIn, etc are crashing, I think need to fix some bugs from OnePlus end.However, camera is good, finishing quality is good, sound effect could be better(not that load as compared to iPhone or other Mi phones)Touch is awesome, finger print sensor works too fast, excellent face detection unlockMost sexiest thing is charging, it charges way too quickly, 35-40min approx for full chageMany more extra features from Android Oxygen &amp; One plus!!Phone is handy &amp; a good buy in this range!</td>\n",
       "    </tr>\n",
       "    <tr>\n",
       "      <th>6</th>\n",
       "      <td>Nord CE 2 is a decent choice for someone looking to upgrade from an under 15k segment phone. Review after using the 6GB variant for 5 days:Pros:- Decent battery life and excellent charging speed- Smooth performance and display- Comparatively compact and light weight- \"Unofficial\" water resistance (read below)- Design and color is neatCons:- Speaker isn't great- Camera is okayish- Unsure of OS experience in the future, stable and bloat free as of nowDetailed:- Decent battery life and performance. I got around 7 to 8 hrs of screen time from battery at 100% to 20% with normal use with 4G internet (social media, chat, some camera and mobile hotspot tethering at 90HZ display refresh rate). Changing display refresh rate to 60Hz seems to improve battery drain, but 90Hz looks very smooth.- 65W fast charging is great, can charge from 20% to 100% in 30 minutes. Also not much heating during charging.- OS looks clean, some preinstalled apps could be uninstalled or disabled. But surprisingly found 3 file manager apps (of which two can be disabled) and two photos app (OnePlus Gallery and Google Photos app, which can't be uninstalled). Didn't find any bugs or functionality issue, no lags or stuttering. Apps open instantly and work fine. OxygenOS 11.3 with Feb 2022 security patch. I guess a stable Android 11 is better than a buggier Android 12 for most customers. But not sure what will happen from OxygenOS 12 which shares Oppo's ColorOS.- Some heating issue was there on a first day of use, but then got a system update and haven't noticed any heating afterwards.- Saw a rubber seal for the SIM tray, which could mean that there is some degree of water resistance, but there is no official IP rating. Also saw a YouTube video that tests the water resistance and the phone survived 15 min submersion in water. So there seems to be \"unofficial\" water resistance.- Cameras are okayish. Main cam takes good pictures at good lighting, but colors are a bit saturated. In wide angle camera, the exposure and color is less. Photos from selfie cam are a bit soft without any filters or modes. Haven't tested much low light or night photography.- Phone back panel is made of plastic, feels like plastic to touch but the blue color back panel looks really good. Good to hold in hand and use because of comparatively compact and thin size. A smaller bottom chin / bezel would have been better. The case provided is translucent and has a small pattern design (ie its not a plain).Overall it's a good phone to buy, you get some features like headphone jack and expandable memory which is good for people who have been using it from their previous phones.</td>\n",
       "    </tr>\n",
       "    <tr>\n",
       "      <th>8</th>\n",
       "      <td>****Don't buy any phones from Amazon*** i really had a bad exp. DISLIKE:For 25k poor build quality. Same configuration in real me etc are coming less than 18k only. Just for 1+ brand don't buy for 25k.---&gt; Audio is worst, single speaker but volume too low in calls for other end. I think phone mic issues.----&gt; Back camera not good---&gt; phone touch also I felt bit lack.Like:--------+Fast charging, within 30min 100% charge .Front cam bit okay.Battery backup is good.8 5g bands. Support, dual 4g standby.**** If OnePlus can promise if they can do something on back camera quality and Audio improvements with updates buy it with any offers. Otherwise go for real me gt master or 9pro or 9pro plus.  And moto mobiles also good. I was using moto for 6years for only good camera and sound i took this but those two only drawback for this phone rest all okay manageble. And no return policy only replacement.</td>\n",
       "    </tr>\n",
       "    <tr>\n",
       "      <th>12</th>\n",
       "      <td>The media could not be loaded.\\n                \\n\\n\\n\\n Build quality - Rating 7.5 : One of the light weight phones out there and has to say it's quite comfortable for one hand usage and even the material used is polycarbonate but gets the job done but doesn't matter if back cover is there . In terms of styling it's similar to oppo phone but i liked it but won't recommend gray one as it attaches fingerprints but if you are going to use back cover then it doesn't matterDisplay -  Rating 8 : Really good amoled plan and 90hz refresh rate works well wish it could have been 120hz . But the bottom chin is quite thick that is the only thing and yes there is gorilla glass 5 protection and screen guard pre applied too . But the panel on this one is the not the best out there but it's pretty decent as wellPerformance - Rating 9 :Dimensity 900 with ufs 2.2 and lppdr4x Ram gets the job done for regular day to day operations and I didn't played games so can't say but considering this soc is pretty good you can expect 50 fps stable in bgmi and cod . Still I would say this processor is good but competition is offering better so you decide . For me gaming doesn't matter and for next 2 years it can last me easily for normal.usageSoftware- 8.5 : biggest con is Android 11 based on oxygen OS or should I say future color oos 😂 but overall it's quite stable and no bugs as of now but still can't say a lot will have to wait for Android 12 to have better ideaCamera -  Rating 7.5 : 64mp is decent I was atleast expecting samsung sensor though but they provided omnivison sensor which gets the job done but to be Frank I am not into camera that much so better to check other reviews and video stability in 1080p is good and 8mp ultratwide is decent as well . Still the camera is not the best out there again I am saying this because others are offering better but OnePlus managed to give decent thingsBattery -  Rating 9: on 90hz refresh rate with 40 percent brightness and dark mode excluding gaming it gives 7 hrs of sot from 99 to 89 on wifi network and then 89 to 59 on jio network and rest remaining on wifi . So battery for normal tasks can last more than 1.5 day . Charging takes about 30 minutes to charge from 10 percent to 99 which is pretty fastSpeakers -  6: pathetic only single speaker and quality is moderate5g bands - 8 bands so it' is futuristicCall quality - Rating 10 :  it's amazing pretty loud and none of the parties ever complained about my voice that is getting mumbledSo to conclude you can buy this one if you only care for OnePlus and you want to try OnePlus for the first time . I was even getting mi 11 lite ne 5g at same price but rejected it due to miui . So for normal users and those who want a stable software without any ads or notification or bloatwares its good</td>\n",
       "    </tr>\n",
       "    <tr>\n",
       "      <th>...</th>\n",
       "      <td>...</td>\n",
       "    </tr>\n",
       "    <tr>\n",
       "      <th>23129</th>\n",
       "      <td>This phone battery is good but it takes long time to charge...And camera is not so good so look and get</td>\n",
       "    </tr>\n",
       "    <tr>\n",
       "      <th>23132</th>\n",
       "      <td>Surprisingly good performance for a phone at this price. Killer performance and gaming is smooth AF even on high settings. The speaker quality is really good and the camera is also decent (Both primary and front). The display is bright and refresh rate is insanely good. Battery life easily lasts more than a day.Definitely a steal at this price.</td>\n",
       "    </tr>\n",
       "    <tr>\n",
       "      <th>23133</th>\n",
       "      <td>Bought on 10 being a 2 band 5g which I still doubt what would the performance on a 5g network. The phone overall is great. The battery is awesome for a average user like me last around 2days. No heating touch is good in some app found a slight glitch for hitting back. The camera is average for main one. The selfie camera is good. The look, size and design is good worth at this prize.</td>\n",
       "    </tr>\n",
       "    <tr>\n",
       "      <th>23149</th>\n",
       "      <td>Battery backup is awesome.Sound is normal.camera don't expect more.Software: stock is expected.</td>\n",
       "    </tr>\n",
       "    <tr>\n",
       "      <th>23157</th>\n",
       "      <td>Don't buy this mobile phone money weast screen tach problem,no camera quality, no battery 🔋 life, Phone very slow, please don't buy this mobile phone please 🙏🙏🙏🙏🙏</td>\n",
       "    </tr>\n",
       "  </tbody>\n",
       "</table>\n",
       "<p>3770 rows × 1 columns</p>\n",
       "</div>"
      ],
      "text/plain": [
       "                                                                                                                                                                                                                                                                                                                                                                                                                                                                                                                                                                                                                                                                                                                                                                                                                                                                                                                                                                                                                                                                                                                                                                                                                                                                                                                                                                                                                                                                                                                                                                                                                                                                                                                                                                                                                                                                                                                                                                                                                                                                                                                                                                                                                                                                                                                                                                                                                                                                                                                                                                                                                                                                                                                                                                                                                                                                                                         Review-Body\n",
       "3      The media could not be loaded.\\n                \\n\\n\\n\\n It’s A average product decent for day to day activity.. one the thing I would like to mention that exchange was Far Far alot Good On amazon it was like 2 to 3 minutes and delivery agent was very Good with me although I had 2 scratches on it but he neglected it as it was minor scratches and I exchanged poco m2 pro 6 64gb variant which was exchanged for rupees 10100. I bought it at 12499 1 and Half year ago and sold it at at very good price!! So plus point To amazonComing Back to device I would say it’s a ok device camera is average performance is Fine one plus is losing it’s originality oxygen os to color or..WARP CHARGER TO VOOC CHARGER!! yes it has been taken by oppo!! I wish the way we believed in one plus doesn’t change with it as A one plus Fan We don’t want To merge with Other brands please keep your Originality Maintained!! thanx amazon for such a hasselfree exchange alot better than FLIPKART                                                                                                                                                                                                                                                                                                                                                                                                                                                                                                                                                                                                                                                                                                                                                                                                                                                                                                                                                                                                                                                                                                                                                                                                                                                                                                                                                                                                                                                                                                                                                                                                                                                                                                                                                                                                                                                                                                     \n",
       "5      The media could not be loaded.\\n                \\n\\n\\n\\n Phone is is Fab!But sometime apps like Gaana, LinkedIn, etc are crashing, I think need to fix some bugs from OnePlus end.However, camera is good, finishing quality is good, sound effect could be better(not that load as compared to iPhone or other Mi phones)Touch is awesome, finger print sensor works too fast, excellent face detection unlockMost sexiest thing is charging, it charges way too quickly, 35-40min approx for full chageMany more extra features from Android Oxygen & One plus!!Phone is handy & a good buy in this range!                                                                                                                                                                                                                                                                                                                                                                                                                                                                                                                                                                                                                                                                                                                                                                                                                                                                                                                                                                                                                                                                                                                                                                                                                                                                                                                                                                                                                                                                                                                                                                                                                                                                                                                                                                                                                                                                                                                                                                                                                                                                                                                                                                                                                                                                                                 \n",
       "6      Nord CE 2 is a decent choice for someone looking to upgrade from an under 15k segment phone. Review after using the 6GB variant for 5 days:Pros:- Decent battery life and excellent charging speed- Smooth performance and display- Comparatively compact and light weight- \"Unofficial\" water resistance (read below)- Design and color is neatCons:- Speaker isn't great- Camera is okayish- Unsure of OS experience in the future, stable and bloat free as of nowDetailed:- Decent battery life and performance. I got around 7 to 8 hrs of screen time from battery at 100% to 20% with normal use with 4G internet (social media, chat, some camera and mobile hotspot tethering at 90HZ display refresh rate). Changing display refresh rate to 60Hz seems to improve battery drain, but 90Hz looks very smooth.- 65W fast charging is great, can charge from 20% to 100% in 30 minutes. Also not much heating during charging.- OS looks clean, some preinstalled apps could be uninstalled or disabled. But surprisingly found 3 file manager apps (of which two can be disabled) and two photos app (OnePlus Gallery and Google Photos app, which can't be uninstalled). Didn't find any bugs or functionality issue, no lags or stuttering. Apps open instantly and work fine. OxygenOS 11.3 with Feb 2022 security patch. I guess a stable Android 11 is better than a buggier Android 12 for most customers. But not sure what will happen from OxygenOS 12 which shares Oppo's ColorOS.- Some heating issue was there on a first day of use, but then got a system update and haven't noticed any heating afterwards.- Saw a rubber seal for the SIM tray, which could mean that there is some degree of water resistance, but there is no official IP rating. Also saw a YouTube video that tests the water resistance and the phone survived 15 min submersion in water. So there seems to be \"unofficial\" water resistance.- Cameras are okayish. Main cam takes good pictures at good lighting, but colors are a bit saturated. In wide angle camera, the exposure and color is less. Photos from selfie cam are a bit soft without any filters or modes. Haven't tested much low light or night photography.- Phone back panel is made of plastic, feels like plastic to touch but the blue color back panel looks really good. Good to hold in hand and use because of comparatively compact and thin size. A smaller bottom chin / bezel would have been better. The case provided is translucent and has a small pattern design (ie its not a plain).Overall it's a good phone to buy, you get some features like headphone jack and expandable memory which is good for people who have been using it from their previous phones.                                                                                                                                                     \n",
       "8      ****Don't buy any phones from Amazon*** i really had a bad exp. DISLIKE:For 25k poor build quality. Same configuration in real me etc are coming less than 18k only. Just for 1+ brand don't buy for 25k.---> Audio is worst, single speaker but volume too low in calls for other end. I think phone mic issues.----> Back camera not good---> phone touch also I felt bit lack.Like:--------+Fast charging, within 30min 100% charge .Front cam bit okay.Battery backup is good.8 5g bands. Support, dual 4g standby.**** If OnePlus can promise if they can do something on back camera quality and Audio improvements with updates buy it with any offers. Otherwise go for real me gt master or 9pro or 9pro plus.  And moto mobiles also good. I was using moto for 6years for only good camera and sound i took this but those two only drawback for this phone rest all okay manageble. And no return policy only replacement.                                                                                                                                                                                                                                                                                                                                                                                                                                                                                                                                                                                                                                                                                                                                                                                                                                                                                                                                                                                                                                                                                                                                                                                                                                                                                                                                                                                                                                                                                                                                                                                                                                                                                                                                                                                                                                                                                                                                                                       \n",
       "12     The media could not be loaded.\\n                \\n\\n\\n\\n Build quality - Rating 7.5 : One of the light weight phones out there and has to say it's quite comfortable for one hand usage and even the material used is polycarbonate but gets the job done but doesn't matter if back cover is there . In terms of styling it's similar to oppo phone but i liked it but won't recommend gray one as it attaches fingerprints but if you are going to use back cover then it doesn't matterDisplay -  Rating 8 : Really good amoled plan and 90hz refresh rate works well wish it could have been 120hz . But the bottom chin is quite thick that is the only thing and yes there is gorilla glass 5 protection and screen guard pre applied too . But the panel on this one is the not the best out there but it's pretty decent as wellPerformance - Rating 9 :Dimensity 900 with ufs 2.2 and lppdr4x Ram gets the job done for regular day to day operations and I didn't played games so can't say but considering this soc is pretty good you can expect 50 fps stable in bgmi and cod . Still I would say this processor is good but competition is offering better so you decide . For me gaming doesn't matter and for next 2 years it can last me easily for normal.usageSoftware- 8.5 : biggest con is Android 11 based on oxygen OS or should I say future color oos 😂 but overall it's quite stable and no bugs as of now but still can't say a lot will have to wait for Android 12 to have better ideaCamera -  Rating 7.5 : 64mp is decent I was atleast expecting samsung sensor though but they provided omnivison sensor which gets the job done but to be Frank I am not into camera that much so better to check other reviews and video stability in 1080p is good and 8mp ultratwide is decent as well . Still the camera is not the best out there again I am saying this because others are offering better but OnePlus managed to give decent thingsBattery -  Rating 9: on 90hz refresh rate with 40 percent brightness and dark mode excluding gaming it gives 7 hrs of sot from 99 to 89 on wifi network and then 89 to 59 on jio network and rest remaining on wifi . So battery for normal tasks can last more than 1.5 day . Charging takes about 30 minutes to charge from 10 percent to 99 which is pretty fastSpeakers -  6: pathetic only single speaker and quality is moderate5g bands - 8 bands so it' is futuristicCall quality - Rating 10 :  it's amazing pretty loud and none of the parties ever complained about my voice that is getting mumbledSo to conclude you can buy this one if you only care for OnePlus and you want to try OnePlus for the first time . I was even getting mi 11 lite ne 5g at same price but rejected it due to miui . So for normal users and those who want a stable software without any ads or notification or bloatwares its good\n",
       "...                                                                                                                                                                                                                                                                                                                                                                                                                                                                                                                                                                                                                                                                                                                                                                                                                                                                                                                                                                                                                                                                                                                                                                                                                                                                                                                                                                                                                                                                                                                                                                                                                                                                                                                                                                                                                                                                                                                                                                                                                                                                                                                                                                                                                                                                                                                                                                                                                                                                                                                                                                                                                                                                                                                                                                                                                                                                                                              ...\n",
       "23129  This phone battery is good but it takes long time to charge...And camera is not so good so look and get                                                                                                                                                                                                                                                                                                                                                                                                                                                                                                                                                                                                                                                                                                                                                                                                                                                                                                                                                                                                                                                                                                                                                                                                                                                                                                                                                                                                                                                                                                                                                                                                                                                                                                                                                                                                                                                                                                                                                                                                                                                                                                                                                                                                                                                                                                                                                                                                                                                                                                                                                                                                                                                                                                                                                                                                      \n",
       "23132  Surprisingly good performance for a phone at this price. Killer performance and gaming is smooth AF even on high settings. The speaker quality is really good and the camera is also decent (Both primary and front). The display is bright and refresh rate is insanely good. Battery life easily lasts more than a day.Definitely a steal at this price.                                                                                                                                                                                                                                                                                                                                                                                                                                                                                                                                                                                                                                                                                                                                                                                                                                                                                                                                                                                                                                                                                                                                                                                                                                                                                                                                                                                                                                                                                                                                                                                                                                                                                                                                                                                                                                                                                                                                                                                                                                                                                                                                                                                                                                                                                                                                                                                                                                                                                                                                                   \n",
       "23133  Bought on 10 being a 2 band 5g which I still doubt what would the performance on a 5g network. The phone overall is great. The battery is awesome for a average user like me last around 2days. No heating touch is good in some app found a slight glitch for hitting back. The camera is average for main one. The selfie camera is good. The look, size and design is good worth at this prize.                                                                                                                                                                                                                                                                                                                                                                                                                                                                                                                                                                                                                                                                                                                                                                                                                                                                                                                                                                                                                                                                                                                                                                                                                                                                                                                                                                                                                                                                                                                                                                                                                                                                                                                                                                                                                                                                                                                                                                                                                                                                                                                                                                                                                                                                                                                                                                                                                                                                                                           \n",
       "23149  Battery backup is awesome.Sound is normal.camera don't expect more.Software: stock is expected.                                                                                                                                                                                                                                                                                                                                                                                                                                                                                                                                                                                                                                                                                                                                                                                                                                                                                                                                                                                                                                                                                                                                                                                                                                                                                                                                                                                                                                                                                                                                                                                                                                                                                                                                                                                                                                                                                                                                                                                                                                                                                                                                                                                                                                                                                                                                                                                                                                                                                                                                                                                                                                                                                                                                                                                                              \n",
       "23157  Don't buy this mobile phone money weast screen tach problem,no camera quality, no battery 🔋 life, Phone very slow, please don't buy this mobile phone please 🙏🙏🙏🙏🙏                                                                                                                                                                                                                                                                                                                                                                                                                                                                                                                                                                                                                                                                                                                                                                                                                                                                                                                                                                                                                                                                                                                                                                                                                                                                                                                                                                                                                                                                                                                                                                                                                                                                                                                                                                                                                                                                                                                                                                                                                                                                                                                                                                                                                                                                                                                                                                                                                                                                                                                                                                                                                                                                                                                                           \n",
       "\n",
       "[3770 rows x 1 columns]"
      ]
     },
     "execution_count": 174,
     "metadata": {},
     "output_type": "execute_result"
    }
   ],
   "source": [
    "pd.DataFrame(df.loc[df['cat']==1]['Review-Body'])#,'rating_processed'])#['rating_processes']['rating_nature_pred'])\n"
   ]
  },
  {
   "cell_type": "code",
   "execution_count": 181,
   "metadata": {},
   "outputs": [
    {
     "data": {
      "text/html": [
       "<div>\n",
       "<style scoped>\n",
       "    .dataframe tbody tr th:only-of-type {\n",
       "        vertical-align: middle;\n",
       "    }\n",
       "\n",
       "    .dataframe tbody tr th {\n",
       "        vertical-align: top;\n",
       "    }\n",
       "\n",
       "    .dataframe thead th {\n",
       "        text-align: right;\n",
       "    }\n",
       "</style>\n",
       "<table border=\"1\" class=\"dataframe\">\n",
       "  <thead>\n",
       "    <tr style=\"text-align: right;\">\n",
       "      <th></th>\n",
       "      <th>Review-Body</th>\n",
       "      <th>rating_processed</th>\n",
       "      <th>rating_nature_pred</th>\n",
       "    </tr>\n",
       "  </thead>\n",
       "  <tbody>\n",
       "    <tr>\n",
       "      <th>3</th>\n",
       "      <td>The media could not be loaded.\\n                \\n\\n\\n\\n It’s A average product decent for day to day activity.. one the thing I would like to mention that exchange was Far Far alot Good On amazon it was like 2 to 3 minutes and delivery agent was very Good with me although I had 2 scratches on it but he neglected it as it was minor scratches and I exchanged poco m2 pro 6 64gb variant which was exchanged for rupees 10100. I bought it at 12499 1 and Half year ago and sold it at at very good price!! So plus point To amazonComing Back to device I would say it’s a ok device camera is average performance is Fine one plus is losing it’s originality oxygen os to color or..WARP CHARGER TO VOOC CHARGER!! yes it has been taken by oppo!! I wish the way we believed in one plus doesn’t change with it as A one plus Fan We don’t want To merge with Other brands please keep your Originality Maintained!! thanx amazon for such a hasselfree exchange alot better than FLIPKART</td>\n",
       "      <td>3.0</td>\n",
       "      <td>1</td>\n",
       "    </tr>\n",
       "    <tr>\n",
       "      <th>5</th>\n",
       "      <td>The media could not be loaded.\\n                \\n\\n\\n\\n Phone is is Fab!But sometime apps like Gaana, LinkedIn, etc are crashing, I think need to fix some bugs from OnePlus end.However, camera is good, finishing quality is good, sound effect could be better(not that load as compared to iPhone or other Mi phones)Touch is awesome, finger print sensor works too fast, excellent face detection unlockMost sexiest thing is charging, it charges way too quickly, 35-40min approx for full chageMany more extra features from Android Oxygen &amp; One plus!!Phone is handy &amp; a good buy in this range!</td>\n",
       "      <td>4.0</td>\n",
       "      <td>1</td>\n",
       "    </tr>\n",
       "    <tr>\n",
       "      <th>6</th>\n",
       "      <td>Nord CE 2 is a decent choice for someone looking to upgrade from an under 15k segment phone. Review after using the 6GB variant for 5 days:Pros:- Decent battery life and excellent charging speed- Smooth performance and display- Comparatively compact and light weight- \"Unofficial\" water resistance (read below)- Design and color is neatCons:- Speaker isn't great- Camera is okayish- Unsure of OS experience in the future, stable and bloat free as of nowDetailed:- Decent battery life and performance. I got around 7 to 8 hrs of screen time from battery at 100% to 20% with normal use with 4G internet (social media, chat, some camera and mobile hotspot tethering at 90HZ display refresh rate). Changing display refresh rate to 60Hz seems to improve battery drain, but 90Hz looks very smooth.- 65W fast charging is great, can charge from 20% to 100% in 30 minutes. Also not much heating during charging.- OS looks clean, some preinstalled apps could be uninstalled or disabled. But surprisingly found 3 file manager apps (of which two can be disabled) and two photos app (OnePlus Gallery and Google Photos app, which can't be uninstalled). Didn't find any bugs or functionality issue, no lags or stuttering. Apps open instantly and work fine. OxygenOS 11.3 with Feb 2022 security patch. I guess a stable Android 11 is better than a buggier Android 12 for most customers. But not sure what will happen from OxygenOS 12 which shares Oppo's ColorOS.- Some heating issue was there on a first day of use, but then got a system update and haven't noticed any heating afterwards.- Saw a rubber seal for the SIM tray, which could mean that there is some degree of water resistance, but there is no official IP rating. Also saw a YouTube video that tests the water resistance and the phone survived 15 min submersion in water. So there seems to be \"unofficial\" water resistance.- Cameras are okayish. Main cam takes good pictures at good lighting, but colors are a bit saturated. In wide angle camera, the exposure and color is less. Photos from selfie cam are a bit soft without any filters or modes. Haven't tested much low light or night photography.- Phone back panel is made of plastic, feels like plastic to touch but the blue color back panel looks really good. Good to hold in hand and use because of comparatively compact and thin size. A smaller bottom chin / bezel would have been better. The case provided is translucent and has a small pattern design (ie its not a plain).Overall it's a good phone to buy, you get some features like headphone jack and expandable memory which is good for people who have been using it from their previous phones.</td>\n",
       "      <td>5.0</td>\n",
       "      <td>1</td>\n",
       "    </tr>\n",
       "    <tr>\n",
       "      <th>8</th>\n",
       "      <td>****Don't buy any phones from Amazon*** i really had a bad exp. DISLIKE:For 25k poor build quality. Same configuration in real me etc are coming less than 18k only. Just for 1+ brand don't buy for 25k.---&gt; Audio is worst, single speaker but volume too low in calls for other end. I think phone mic issues.----&gt; Back camera not good---&gt; phone touch also I felt bit lack.Like:--------+Fast charging, within 30min 100% charge .Front cam bit okay.Battery backup is good.8 5g bands. Support, dual 4g standby.**** If OnePlus can promise if they can do something on back camera quality and Audio improvements with updates buy it with any offers. Otherwise go for real me gt master or 9pro or 9pro plus.  And moto mobiles also good. I was using moto for 6years for only good camera and sound i took this but those two only drawback for this phone rest all okay manageble. And no return policy only replacement.</td>\n",
       "      <td>1.0</td>\n",
       "      <td>0</td>\n",
       "    </tr>\n",
       "    <tr>\n",
       "      <th>12</th>\n",
       "      <td>The media could not be loaded.\\n                \\n\\n\\n\\n Build quality - Rating 7.5 : One of the light weight phones out there and has to say it's quite comfortable for one hand usage and even the material used is polycarbonate but gets the job done but doesn't matter if back cover is there . In terms of styling it's similar to oppo phone but i liked it but won't recommend gray one as it attaches fingerprints but if you are going to use back cover then it doesn't matterDisplay -  Rating 8 : Really good amoled plan and 90hz refresh rate works well wish it could have been 120hz . But the bottom chin is quite thick that is the only thing and yes there is gorilla glass 5 protection and screen guard pre applied too . But the panel on this one is the not the best out there but it's pretty decent as wellPerformance - Rating 9 :Dimensity 900 with ufs 2.2 and lppdr4x Ram gets the job done for regular day to day operations and I didn't played games so can't say but considering this soc is pretty good you can expect 50 fps stable in bgmi and cod . Still I would say this processor is good but competition is offering better so you decide . For me gaming doesn't matter and for next 2 years it can last me easily for normal.usageSoftware- 8.5 : biggest con is Android 11 based on oxygen OS or should I say future color oos 😂 but overall it's quite stable and no bugs as of now but still can't say a lot will have to wait for Android 12 to have better ideaCamera -  Rating 7.5 : 64mp is decent I was atleast expecting samsung sensor though but they provided omnivison sensor which gets the job done but to be Frank I am not into camera that much so better to check other reviews and video stability in 1080p is good and 8mp ultratwide is decent as well . Still the camera is not the best out there again I am saying this because others are offering better but OnePlus managed to give decent thingsBattery -  Rating 9: on 90hz refresh rate with 40 percent brightness and dark mode excluding gaming it gives 7 hrs of sot from 99 to 89 on wifi network and then 89 to 59 on jio network and rest remaining on wifi . So battery for normal tasks can last more than 1.5 day . Charging takes about 30 minutes to charge from 10 percent to 99 which is pretty fastSpeakers -  6: pathetic only single speaker and quality is moderate5g bands - 8 bands so it' is futuristicCall quality - Rating 10 :  it's amazing pretty loud and none of the parties ever complained about my voice that is getting mumbledSo to conclude you can buy this one if you only care for OnePlus and you want to try OnePlus for the first time . I was even getting mi 11 lite ne 5g at same price but rejected it due to miui . So for normal users and those who want a stable software without any ads or notification or bloatwares its good</td>\n",
       "      <td>4.0</td>\n",
       "      <td>1</td>\n",
       "    </tr>\n",
       "    <tr>\n",
       "      <th>...</th>\n",
       "      <td>...</td>\n",
       "      <td>...</td>\n",
       "      <td>...</td>\n",
       "    </tr>\n",
       "    <tr>\n",
       "      <th>23129</th>\n",
       "      <td>This phone battery is good but it takes long time to charge...And camera is not so good so look and get</td>\n",
       "      <td>3.0</td>\n",
       "      <td>1</td>\n",
       "    </tr>\n",
       "    <tr>\n",
       "      <th>23132</th>\n",
       "      <td>Surprisingly good performance for a phone at this price. Killer performance and gaming is smooth AF even on high settings. The speaker quality is really good and the camera is also decent (Both primary and front). The display is bright and refresh rate is insanely good. Battery life easily lasts more than a day.Definitely a steal at this price.</td>\n",
       "      <td>5.0</td>\n",
       "      <td>1</td>\n",
       "    </tr>\n",
       "    <tr>\n",
       "      <th>23133</th>\n",
       "      <td>Bought on 10 being a 2 band 5g which I still doubt what would the performance on a 5g network. The phone overall is great. The battery is awesome for a average user like me last around 2days. No heating touch is good in some app found a slight glitch for hitting back. The camera is average for main one. The selfie camera is good. The look, size and design is good worth at this prize.</td>\n",
       "      <td>4.0</td>\n",
       "      <td>1</td>\n",
       "    </tr>\n",
       "    <tr>\n",
       "      <th>23149</th>\n",
       "      <td>Battery backup is awesome.Sound is normal.camera don't expect more.Software: stock is expected.</td>\n",
       "      <td>4.0</td>\n",
       "      <td>1</td>\n",
       "    </tr>\n",
       "    <tr>\n",
       "      <th>23157</th>\n",
       "      <td>Don't buy this mobile phone money weast screen tach problem,no camera quality, no battery 🔋 life, Phone very slow, please don't buy this mobile phone please 🙏🙏🙏🙏🙏</td>\n",
       "      <td>1.0</td>\n",
       "      <td>0</td>\n",
       "    </tr>\n",
       "  </tbody>\n",
       "</table>\n",
       "<p>3770 rows × 3 columns</p>\n",
       "</div>"
      ],
      "text/plain": [
       "                                                                                                                                                                                                                                                                                                                                                                                                                                                                                                                                                                                                                                                                                                                                                                                                                                                                                                                                                                                                                                                                                                                                                                                                                                                                                                                                                                                                                                                                                                                                                                                                                                                                                                                                                                                                                                                                                                                                                                                                                                                                                                                                                                                                                                                                                                                                                                                                                                                                                                                                                                                                                                                                                                                                                                                                                                                                                                         Review-Body  \\\n",
       "3      The media could not be loaded.\\n                \\n\\n\\n\\n It’s A average product decent for day to day activity.. one the thing I would like to mention that exchange was Far Far alot Good On amazon it was like 2 to 3 minutes and delivery agent was very Good with me although I had 2 scratches on it but he neglected it as it was minor scratches and I exchanged poco m2 pro 6 64gb variant which was exchanged for rupees 10100. I bought it at 12499 1 and Half year ago and sold it at at very good price!! So plus point To amazonComing Back to device I would say it’s a ok device camera is average performance is Fine one plus is losing it’s originality oxygen os to color or..WARP CHARGER TO VOOC CHARGER!! yes it has been taken by oppo!! I wish the way we believed in one plus doesn’t change with it as A one plus Fan We don’t want To merge with Other brands please keep your Originality Maintained!! thanx amazon for such a hasselfree exchange alot better than FLIPKART                                                                                                                                                                                                                                                                                                                                                                                                                                                                                                                                                                                                                                                                                                                                                                                                                                                                                                                                                                                                                                                                                                                                                                                                                                                                                                                                                                                                                                                                                                                                                                                                                                                                                                                                                                                                                                                                                                        \n",
       "5      The media could not be loaded.\\n                \\n\\n\\n\\n Phone is is Fab!But sometime apps like Gaana, LinkedIn, etc are crashing, I think need to fix some bugs from OnePlus end.However, camera is good, finishing quality is good, sound effect could be better(not that load as compared to iPhone or other Mi phones)Touch is awesome, finger print sensor works too fast, excellent face detection unlockMost sexiest thing is charging, it charges way too quickly, 35-40min approx for full chageMany more extra features from Android Oxygen & One plus!!Phone is handy & a good buy in this range!                                                                                                                                                                                                                                                                                                                                                                                                                                                                                                                                                                                                                                                                                                                                                                                                                                                                                                                                                                                                                                                                                                                                                                                                                                                                                                                                                                                                                                                                                                                                                                                                                                                                                                                                                                                                                                                                                                                                                                                                                                                                                                                                                                                                                                                                                                    \n",
       "6      Nord CE 2 is a decent choice for someone looking to upgrade from an under 15k segment phone. Review after using the 6GB variant for 5 days:Pros:- Decent battery life and excellent charging speed- Smooth performance and display- Comparatively compact and light weight- \"Unofficial\" water resistance (read below)- Design and color is neatCons:- Speaker isn't great- Camera is okayish- Unsure of OS experience in the future, stable and bloat free as of nowDetailed:- Decent battery life and performance. I got around 7 to 8 hrs of screen time from battery at 100% to 20% with normal use with 4G internet (social media, chat, some camera and mobile hotspot tethering at 90HZ display refresh rate). Changing display refresh rate to 60Hz seems to improve battery drain, but 90Hz looks very smooth.- 65W fast charging is great, can charge from 20% to 100% in 30 minutes. Also not much heating during charging.- OS looks clean, some preinstalled apps could be uninstalled or disabled. But surprisingly found 3 file manager apps (of which two can be disabled) and two photos app (OnePlus Gallery and Google Photos app, which can't be uninstalled). Didn't find any bugs or functionality issue, no lags or stuttering. Apps open instantly and work fine. OxygenOS 11.3 with Feb 2022 security patch. I guess a stable Android 11 is better than a buggier Android 12 for most customers. But not sure what will happen from OxygenOS 12 which shares Oppo's ColorOS.- Some heating issue was there on a first day of use, but then got a system update and haven't noticed any heating afterwards.- Saw a rubber seal for the SIM tray, which could mean that there is some degree of water resistance, but there is no official IP rating. Also saw a YouTube video that tests the water resistance and the phone survived 15 min submersion in water. So there seems to be \"unofficial\" water resistance.- Cameras are okayish. Main cam takes good pictures at good lighting, but colors are a bit saturated. In wide angle camera, the exposure and color is less. Photos from selfie cam are a bit soft without any filters or modes. Haven't tested much low light or night photography.- Phone back panel is made of plastic, feels like plastic to touch but the blue color back panel looks really good. Good to hold in hand and use because of comparatively compact and thin size. A smaller bottom chin / bezel would have been better. The case provided is translucent and has a small pattern design (ie its not a plain).Overall it's a good phone to buy, you get some features like headphone jack and expandable memory which is good for people who have been using it from their previous phones.                                                                                                                                                        \n",
       "8      ****Don't buy any phones from Amazon*** i really had a bad exp. DISLIKE:For 25k poor build quality. Same configuration in real me etc are coming less than 18k only. Just for 1+ brand don't buy for 25k.---> Audio is worst, single speaker but volume too low in calls for other end. I think phone mic issues.----> Back camera not good---> phone touch also I felt bit lack.Like:--------+Fast charging, within 30min 100% charge .Front cam bit okay.Battery backup is good.8 5g bands. Support, dual 4g standby.**** If OnePlus can promise if they can do something on back camera quality and Audio improvements with updates buy it with any offers. Otherwise go for real me gt master or 9pro or 9pro plus.  And moto mobiles also good. I was using moto for 6years for only good camera and sound i took this but those two only drawback for this phone rest all okay manageble. And no return policy only replacement.                                                                                                                                                                                                                                                                                                                                                                                                                                                                                                                                                                                                                                                                                                                                                                                                                                                                                                                                                                                                                                                                                                                                                                                                                                                                                                                                                                                                                                                                                                                                                                                                                                                                                                                                                                                                                                                                                                                                                                          \n",
       "12     The media could not be loaded.\\n                \\n\\n\\n\\n Build quality - Rating 7.5 : One of the light weight phones out there and has to say it's quite comfortable for one hand usage and even the material used is polycarbonate but gets the job done but doesn't matter if back cover is there . In terms of styling it's similar to oppo phone but i liked it but won't recommend gray one as it attaches fingerprints but if you are going to use back cover then it doesn't matterDisplay -  Rating 8 : Really good amoled plan and 90hz refresh rate works well wish it could have been 120hz . But the bottom chin is quite thick that is the only thing and yes there is gorilla glass 5 protection and screen guard pre applied too . But the panel on this one is the not the best out there but it's pretty decent as wellPerformance - Rating 9 :Dimensity 900 with ufs 2.2 and lppdr4x Ram gets the job done for regular day to day operations and I didn't played games so can't say but considering this soc is pretty good you can expect 50 fps stable in bgmi and cod . Still I would say this processor is good but competition is offering better so you decide . For me gaming doesn't matter and for next 2 years it can last me easily for normal.usageSoftware- 8.5 : biggest con is Android 11 based on oxygen OS or should I say future color oos 😂 but overall it's quite stable and no bugs as of now but still can't say a lot will have to wait for Android 12 to have better ideaCamera -  Rating 7.5 : 64mp is decent I was atleast expecting samsung sensor though but they provided omnivison sensor which gets the job done but to be Frank I am not into camera that much so better to check other reviews and video stability in 1080p is good and 8mp ultratwide is decent as well . Still the camera is not the best out there again I am saying this because others are offering better but OnePlus managed to give decent thingsBattery -  Rating 9: on 90hz refresh rate with 40 percent brightness and dark mode excluding gaming it gives 7 hrs of sot from 99 to 89 on wifi network and then 89 to 59 on jio network and rest remaining on wifi . So battery for normal tasks can last more than 1.5 day . Charging takes about 30 minutes to charge from 10 percent to 99 which is pretty fastSpeakers -  6: pathetic only single speaker and quality is moderate5g bands - 8 bands so it' is futuristicCall quality - Rating 10 :  it's amazing pretty loud and none of the parties ever complained about my voice that is getting mumbledSo to conclude you can buy this one if you only care for OnePlus and you want to try OnePlus for the first time . I was even getting mi 11 lite ne 5g at same price but rejected it due to miui . So for normal users and those who want a stable software without any ads or notification or bloatwares its good   \n",
       "...                                                                                                                                                                                                                                                                                                                                                                                                                                                                                                                                                                                                                                                                                                                                                                                                                                                                                                                                                                                                                                                                                                                                                                                                                                                                                                                                                                                                                                                                                                                                                                                                                                                                                                                                                                                                                                                                                                                                                                                                                                                                                                                                                                                                                                                                                                                                                                                                                                                                                                                                                                                                                                                                                                                                                                                                                                                                                                              ...   \n",
       "23129  This phone battery is good but it takes long time to charge...And camera is not so good so look and get                                                                                                                                                                                                                                                                                                                                                                                                                                                                                                                                                                                                                                                                                                                                                                                                                                                                                                                                                                                                                                                                                                                                                                                                                                                                                                                                                                                                                                                                                                                                                                                                                                                                                                                                                                                                                                                                                                                                                                                                                                                                                                                                                                                                                                                                                                                                                                                                                                                                                                                                                                                                                                                                                                                                                                                                         \n",
       "23132  Surprisingly good performance for a phone at this price. Killer performance and gaming is smooth AF even on high settings. The speaker quality is really good and the camera is also decent (Both primary and front). The display is bright and refresh rate is insanely good. Battery life easily lasts more than a day.Definitely a steal at this price.                                                                                                                                                                                                                                                                                                                                                                                                                                                                                                                                                                                                                                                                                                                                                                                                                                                                                                                                                                                                                                                                                                                                                                                                                                                                                                                                                                                                                                                                                                                                                                                                                                                                                                                                                                                                                                                                                                                                                                                                                                                                                                                                                                                                                                                                                                                                                                                                                                                                                                                                                      \n",
       "23133  Bought on 10 being a 2 band 5g which I still doubt what would the performance on a 5g network. The phone overall is great. The battery is awesome for a average user like me last around 2days. No heating touch is good in some app found a slight glitch for hitting back. The camera is average for main one. The selfie camera is good. The look, size and design is good worth at this prize.                                                                                                                                                                                                                                                                                                                                                                                                                                                                                                                                                                                                                                                                                                                                                                                                                                                                                                                                                                                                                                                                                                                                                                                                                                                                                                                                                                                                                                                                                                                                                                                                                                                                                                                                                                                                                                                                                                                                                                                                                                                                                                                                                                                                                                                                                                                                                                                                                                                                                                              \n",
       "23149  Battery backup is awesome.Sound is normal.camera don't expect more.Software: stock is expected.                                                                                                                                                                                                                                                                                                                                                                                                                                                                                                                                                                                                                                                                                                                                                                                                                                                                                                                                                                                                                                                                                                                                                                                                                                                                                                                                                                                                                                                                                                                                                                                                                                                                                                                                                                                                                                                                                                                                                                                                                                                                                                                                                                                                                                                                                                                                                                                                                                                                                                                                                                                                                                                                                                                                                                                                                 \n",
       "23157  Don't buy this mobile phone money weast screen tach problem,no camera quality, no battery 🔋 life, Phone very slow, please don't buy this mobile phone please 🙏🙏🙏🙏🙏                                                                                                                                                                                                                                                                                                                                                                                                                                                                                                                                                                                                                                                                                                                                                                                                                                                                                                                                                                                                                                                                                                                                                                                                                                                                                                                                                                                                                                                                                                                                                                                                                                                                                                                                                                                                                                                                                                                                                                                                                                                                                                                                                                                                                                                                                                                                                                                                                                                                                                                                                                                                                                                                                                                                              \n",
       "\n",
       "       rating_processed  rating_nature_pred  \n",
       "3      3.0               1                   \n",
       "5      4.0               1                   \n",
       "6      5.0               1                   \n",
       "8      1.0               0                   \n",
       "12     4.0               1                   \n",
       "...    ...              ..                   \n",
       "23129  3.0               1                   \n",
       "23132  5.0               1                   \n",
       "23133  4.0               1                   \n",
       "23149  4.0               1                   \n",
       "23157  1.0               0                   \n",
       "\n",
       "[3770 rows x 3 columns]"
      ]
     },
     "execution_count": 181,
     "metadata": {},
     "output_type": "execute_result"
    }
   ],
   "source": [
    "df[['Review-Body','rating_processed','rating_nature_pred']] [df['cat'] == 1]"
   ]
  },
  {
   "cell_type": "code",
   "execution_count": null,
   "metadata": {},
   "outputs": [],
   "source": []
  },
  {
   "cell_type": "code",
   "execution_count": null,
   "metadata": {},
   "outputs": [],
   "source": []
  },
  {
   "cell_type": "code",
   "execution_count": null,
   "metadata": {},
   "outputs": [],
   "source": []
  },
  {
   "cell_type": "code",
   "execution_count": null,
   "metadata": {},
   "outputs": [],
   "source": []
  },
  {
   "cell_type": "markdown",
   "metadata": {
    "id": "sLqhnAKfwU7-"
   },
   "source": [
    "# Sentiment Analysis"
   ]
  },
  {
   "cell_type": "code",
   "execution_count": null,
   "metadata": {
    "colab": {
     "base_uri": "https://localhost:8080/"
    },
    "id": "722P4Fn-lVAT",
    "outputId": "426c35bd-21cb-4490-d839-c7f7ed82d68a"
   },
   "outputs": [
    {
     "name": "stderr",
     "output_type": "stream",
     "text": [
      "/usr/local/lib/python3.7/dist-packages/ipykernel_launcher.py:1: FutureWarning: Passing a negative integer is deprecated in version 1.0 and will not be supported in future version. Instead, use None to not limit the column width.\n",
      "  \"\"\"Entry point for launching an IPython kernel.\n"
     ]
    }
   ],
   "source": [
    "pd.set_option(\"display.max_colwidth\", -1)"
   ]
  },
  {
   "cell_type": "code",
   "execution_count": null,
   "metadata": {
    "colab": {
     "base_uri": "https://localhost:8080/"
    },
    "id": "BrB4mcG1HoJX",
    "outputId": "3a6f9c57-a7f2-46df-e0f3-e0b5c50fd5c7"
   },
   "outputs": [
    {
     "name": "stderr",
     "output_type": "stream",
     "text": [
      "[nltk_data] Downloading package vader_lexicon to /root/nltk_data...\n"
     ]
    }
   ],
   "source": [
    "nltk.download('vader_lexicon')\n",
    "\n",
    "def sentiment_analyse(sentiment_text):\n",
    "    score = SentimentIntensityAnalyzer().polarity_scores(sentiment_text)\n",
    "    if score['neg'] > score['pos']:\n",
    "        return (\"Negative\")\n",
    "    elif score['neg'] < score['pos']:\n",
    "        return (\"Positive\")\n",
    "    else:\n",
    "        return (\"Neutral\")"
   ]
  },
  {
   "cell_type": "code",
   "execution_count": null,
   "metadata": {
    "id": "rd8YYwZhYqn_"
   },
   "outputs": [],
   "source": [
    "sid = SentimentIntensityAnalyzer()\n",
    "def comp_score(txt):\n",
    "    score=sid.polarity_scores(txt)\n",
    "    if score['compound']>0 : return \"Pos\"\n",
    "    else : return \"Neg\""
   ]
  },
  {
   "cell_type": "code",
   "execution_count": null,
   "metadata": {
    "id": "eQhMtOsRYfsj"
   },
   "outputs": [],
   "source": [
    "df['review_score']=[sentiment_analyse(r) for r in df['Review-Body']]\n",
    "#df['review_comp']=[comp_score(r) for r in df['Review-Body']]"
   ]
  },
  {
   "cell_type": "code",
   "execution_count": null,
   "metadata": {
    "id": "2KyNeFe1YNCs"
   },
   "outputs": [],
   "source": [
    "df['review_comp']=[comp_score(r) for r in df['Review-Body']]"
   ]
  },
  {
   "cell_type": "code",
   "execution_count": null,
   "metadata": {
    "colab": {
     "base_uri": "https://localhost:8080/",
     "height": 780
    },
    "id": "qby43MxgI1x5",
    "outputId": "e73cf70d-0fe3-4bae-d430-fb62ee0d1021",
    "scrolled": true
   },
   "outputs": [
    {
     "data": {
      "text/html": [
       "\n",
       "  <div id=\"df-4dc34700-7293-4b99-b639-40ae71cf8e3e\">\n",
       "    <div class=\"colab-df-container\">\n",
       "      <div>\n",
       "<style scoped>\n",
       "    .dataframe tbody tr th:only-of-type {\n",
       "        vertical-align: middle;\n",
       "    }\n",
       "\n",
       "    .dataframe tbody tr th {\n",
       "        vertical-align: top;\n",
       "    }\n",
       "\n",
       "    .dataframe thead th {\n",
       "        text-align: right;\n",
       "    }\n",
       "</style>\n",
       "<table border=\"1\" class=\"dataframe\">\n",
       "  <thead>\n",
       "    <tr style=\"text-align: right;\">\n",
       "      <th></th>\n",
       "      <th>Review-Body</th>\n",
       "      <th>review_score</th>\n",
       "      <th>review_comp</th>\n",
       "    </tr>\n",
       "  </thead>\n",
       "  <tbody>\n",
       "    <tr>\n",
       "      <th>0</th>\n",
       "      <td>Hang problem</td>\n",
       "      <td>Negative</td>\n",
       "      <td>Neg</td>\n",
       "    </tr>\n",
       "    <tr>\n",
       "      <th>1</th>\n",
       "      <td>I'm writing this review after using 3days !!!Be to honest this is normal Android phoneIt's not like OnePlusCamera quality very low it says 64mp but notSound also lowBattery 🔋 backup ok !!! For one day normal use itsIf ur Gamer don't go for itOverall price it High for this handsetIf u really wanna buy OnePlus ho for higher end modelI'm first time buying OnePlusLittle disappointment</td>\n",
       "      <td>Negative</td>\n",
       "      <td>Neg</td>\n",
       "    </tr>\n",
       "    <tr>\n",
       "      <th>2</th>\n",
       "      <td>Camera is so good n very fast phone back look is awesomeWith dis price segment it's worth it n d most important thing is the phone has dedicated memory card slot I think dis is the first one plus phone which has d dedicated slot for memory cardBattery backup is also good n wit the help of 65w charger u can charge ur phone frm 50-100% in just 15 minsIt has the super vooc charger frm Dat u can charge ur phone very fastVery smooth touch n very fast phone u can play games with no lagInternet connectivity is also fast n lightning wit my Jio sim as u can c I hav pasted one photo showing d downloading speed of 11mbps wit my cellular networkI think everyone who wants to buy dis phone just go for itI think oneplus launched dis phone with lots of good features n d most important thing is price is very lessI recommendJust go for itThank u oneplus n Amazon for dis wonderful product</td>\n",
       "      <td>Positive</td>\n",
       "      <td>Pos</td>\n",
       "    </tr>\n",
       "    <tr>\n",
       "      <th>3</th>\n",
       "      <td>The media could not be loaded.\\n                \\n\\n\\n\\n It’s A average product decent for day to day activity.. one the thing I would like to mention that exchange was Far Far alot Good On amazon it was like 2 to 3 minutes and delivery agent was very Good with me although I had 2 scratches on it but he neglected it as it was minor scratches and I exchanged poco m2 pro 6 64gb variant which was exchanged for rupees 10100. I bought it at 12499 1 and Half year ago and sold it at at very good price!! So plus point To amazonComing Back to device I would say it’s a ok device camera is average performance is Fine one plus is losing it’s originality oxygen os to color or..WARP CHARGER TO VOOC CHARGER!! yes it has been taken by oppo!! I wish the way we believed in one plus doesn’t change with it as A one plus Fan We don’t want To merge with Other brands please keep your Originality Maintained!! thanx amazon for such a hasselfree exchange alot better than FLIPKART</td>\n",
       "      <td>Positive</td>\n",
       "      <td>Pos</td>\n",
       "    </tr>\n",
       "    <tr>\n",
       "      <th>4</th>\n",
       "      <td>I got my delivery on 23 feb when I unboxed the phone the display was damaged. I requested for replacement of my new phone so technician was suppose to come for inspection but instead of a visit he just talked on call and asked me to install an application. He did not even saw the damage of my display screen.Lets hope amazon does it right replace my phone. Will update the rest later.But amazon pls consider my request and replace the item as soon as possibleEdit- The phone is perfect... They replaced it and now everything is perfect...Camera quality is as expected very perfectOverall performance bestYou can go for it</td>\n",
       "      <td>Positive</td>\n",
       "      <td>Pos</td>\n",
       "    </tr>\n",
       "    <tr>\n",
       "      <th>...</th>\n",
       "      <td>...</td>\n",
       "      <td>...</td>\n",
       "      <td>...</td>\n",
       "    </tr>\n",
       "    <tr>\n",
       "      <th>23154</th>\n",
       "      <td>Must he Bhai iss range me bas cemra thoda sa shi nhi he</td>\n",
       "      <td>Neutral</td>\n",
       "      <td>Neg</td>\n",
       "    </tr>\n",
       "    <tr>\n",
       "      <th>23155</th>\n",
       "      <td>Good product</td>\n",
       "      <td>Positive</td>\n",
       "      <td>Pos</td>\n",
       "    </tr>\n",
       "    <tr>\n",
       "      <th>23156</th>\n",
       "      <td>Good</td>\n",
       "      <td>Positive</td>\n",
       "      <td>Pos</td>\n",
       "    </tr>\n",
       "    <tr>\n",
       "      <th>23157</th>\n",
       "      <td>Don't buy this mobile phone money weast screen tach problem,no camera quality, no battery 🔋 life, Phone very slow, please don't buy this mobile phone please 🙏🙏🙏🙏🙏</td>\n",
       "      <td>Positive</td>\n",
       "      <td>Pos</td>\n",
       "    </tr>\n",
       "    <tr>\n",
       "      <th>23158</th>\n",
       "      <td>Phone is Good . Camera not upto the mark. UI is complicated.</td>\n",
       "      <td>Positive</td>\n",
       "      <td>Pos</td>\n",
       "    </tr>\n",
       "  </tbody>\n",
       "</table>\n",
       "<p>23159 rows × 3 columns</p>\n",
       "</div>\n",
       "      <button class=\"colab-df-convert\" onclick=\"convertToInteractive('df-4dc34700-7293-4b99-b639-40ae71cf8e3e')\"\n",
       "              title=\"Convert this dataframe to an interactive table.\"\n",
       "              style=\"display:none;\">\n",
       "        \n",
       "  <svg xmlns=\"http://www.w3.org/2000/svg\" height=\"24px\"viewBox=\"0 0 24 24\"\n",
       "       width=\"24px\">\n",
       "    <path d=\"M0 0h24v24H0V0z\" fill=\"none\"/>\n",
       "    <path d=\"M18.56 5.44l.94 2.06.94-2.06 2.06-.94-2.06-.94-.94-2.06-.94 2.06-2.06.94zm-11 1L8.5 8.5l.94-2.06 2.06-.94-2.06-.94L8.5 2.5l-.94 2.06-2.06.94zm10 10l.94 2.06.94-2.06 2.06-.94-2.06-.94-.94-2.06-.94 2.06-2.06.94z\"/><path d=\"M17.41 7.96l-1.37-1.37c-.4-.4-.92-.59-1.43-.59-.52 0-1.04.2-1.43.59L10.3 9.45l-7.72 7.72c-.78.78-.78 2.05 0 2.83L4 21.41c.39.39.9.59 1.41.59.51 0 1.02-.2 1.41-.59l7.78-7.78 2.81-2.81c.8-.78.8-2.07 0-2.86zM5.41 20L4 18.59l7.72-7.72 1.47 1.35L5.41 20z\"/>\n",
       "  </svg>\n",
       "      </button>\n",
       "      \n",
       "  <style>\n",
       "    .colab-df-container {\n",
       "      display:flex;\n",
       "      flex-wrap:wrap;\n",
       "      gap: 12px;\n",
       "    }\n",
       "\n",
       "    .colab-df-convert {\n",
       "      background-color: #E8F0FE;\n",
       "      border: none;\n",
       "      border-radius: 50%;\n",
       "      cursor: pointer;\n",
       "      display: none;\n",
       "      fill: #1967D2;\n",
       "      height: 32px;\n",
       "      padding: 0 0 0 0;\n",
       "      width: 32px;\n",
       "    }\n",
       "\n",
       "    .colab-df-convert:hover {\n",
       "      background-color: #E2EBFA;\n",
       "      box-shadow: 0px 1px 2px rgba(60, 64, 67, 0.3), 0px 1px 3px 1px rgba(60, 64, 67, 0.15);\n",
       "      fill: #174EA6;\n",
       "    }\n",
       "\n",
       "    [theme=dark] .colab-df-convert {\n",
       "      background-color: #3B4455;\n",
       "      fill: #D2E3FC;\n",
       "    }\n",
       "\n",
       "    [theme=dark] .colab-df-convert:hover {\n",
       "      background-color: #434B5C;\n",
       "      box-shadow: 0px 1px 3px 1px rgba(0, 0, 0, 0.15);\n",
       "      filter: drop-shadow(0px 1px 2px rgba(0, 0, 0, 0.3));\n",
       "      fill: #FFFFFF;\n",
       "    }\n",
       "  </style>\n",
       "\n",
       "      <script>\n",
       "        const buttonEl =\n",
       "          document.querySelector('#df-4dc34700-7293-4b99-b639-40ae71cf8e3e button.colab-df-convert');\n",
       "        buttonEl.style.display =\n",
       "          google.colab.kernel.accessAllowed ? 'block' : 'none';\n",
       "\n",
       "        async function convertToInteractive(key) {\n",
       "          const element = document.querySelector('#df-4dc34700-7293-4b99-b639-40ae71cf8e3e');\n",
       "          const dataTable =\n",
       "            await google.colab.kernel.invokeFunction('convertToInteractive',\n",
       "                                                     [key], {});\n",
       "          if (!dataTable) return;\n",
       "\n",
       "          const docLinkHtml = 'Like what you see? Visit the ' +\n",
       "            '<a target=\"_blank\" href=https://colab.research.google.com/notebooks/data_table.ipynb>data table notebook</a>'\n",
       "            + ' to learn more about interactive tables.';\n",
       "          element.innerHTML = '';\n",
       "          dataTable['output_type'] = 'display_data';\n",
       "          await google.colab.output.renderOutput(dataTable, element);\n",
       "          const docLink = document.createElement('div');\n",
       "          docLink.innerHTML = docLinkHtml;\n",
       "          element.appendChild(docLink);\n",
       "        }\n",
       "      </script>\n",
       "    </div>\n",
       "  </div>\n",
       "  "
      ],
      "text/plain": [
       "                                                                                                                                                                                                                                                                                                                                                                                                                                                                                                                                                                                                                                                                                                                                                                                                                                                                                                                                                                                                    Review-Body  \\\n",
       "0      Hang problem                                                                                                                                                                                                                                                                                                                                                                                                                                                                                                                                                                                                                                                                                                                                                                                                                                                                                                                                                                                               \n",
       "1      I'm writing this review after using 3days !!!Be to honest this is normal Android phoneIt's not like OnePlusCamera quality very low it says 64mp but notSound also lowBattery 🔋 backup ok !!! For one day normal use itsIf ur Gamer don't go for itOverall price it High for this handsetIf u really wanna buy OnePlus ho for higher end modelI'm first time buying OnePlusLittle disappointment                                                                                                                                                                                                                                                                                                                                                                                                                                                                                                                                                                                                            \n",
       "2      Camera is so good n very fast phone back look is awesomeWith dis price segment it's worth it n d most important thing is the phone has dedicated memory card slot I think dis is the first one plus phone which has d dedicated slot for memory cardBattery backup is also good n wit the help of 65w charger u can charge ur phone frm 50-100% in just 15 minsIt has the super vooc charger frm Dat u can charge ur phone very fastVery smooth touch n very fast phone u can play games with no lagInternet connectivity is also fast n lightning wit my Jio sim as u can c I hav pasted one photo showing d downloading speed of 11mbps wit my cellular networkI think everyone who wants to buy dis phone just go for itI think oneplus launched dis phone with lots of good features n d most important thing is price is very lessI recommendJust go for itThank u oneplus n Amazon for dis wonderful product                                                                                         \n",
       "3      The media could not be loaded.\\n                \\n\\n\\n\\n It’s A average product decent for day to day activity.. one the thing I would like to mention that exchange was Far Far alot Good On amazon it was like 2 to 3 minutes and delivery agent was very Good with me although I had 2 scratches on it but he neglected it as it was minor scratches and I exchanged poco m2 pro 6 64gb variant which was exchanged for rupees 10100. I bought it at 12499 1 and Half year ago and sold it at at very good price!! So plus point To amazonComing Back to device I would say it’s a ok device camera is average performance is Fine one plus is losing it’s originality oxygen os to color or..WARP CHARGER TO VOOC CHARGER!! yes it has been taken by oppo!! I wish the way we believed in one plus doesn’t change with it as A one plus Fan We don’t want To merge with Other brands please keep your Originality Maintained!! thanx amazon for such a hasselfree exchange alot better than FLIPKART   \n",
       "4      I got my delivery on 23 feb when I unboxed the phone the display was damaged. I requested for replacement of my new phone so technician was suppose to come for inspection but instead of a visit he just talked on call and asked me to install an application. He did not even saw the damage of my display screen.Lets hope amazon does it right replace my phone. Will update the rest later.But amazon pls consider my request and replace the item as soon as possibleEdit- The phone is perfect... They replaced it and now everything is perfect...Camera quality is as expected very perfectOverall performance bestYou can go for it                                                                                                                                                                                                                                                                                                                                                             \n",
       "...                                                                                                                                                                                                                                                                                                                                                                                                                                                                                                                                                                                                                                               ...                                                                                                                                                                                                                                                                                                                                                             \n",
       "23154  Must he Bhai iss range me bas cemra thoda sa shi nhi he                                                                                                                                                                                                                                                                                                                                                                                                                                                                                                                                                                                                                                                                                                                                                                                                                                                                                                                                                    \n",
       "23155  Good product                                                                                                                                                                                                                                                                                                                                                                                                                                                                                                                                                                                                                                                                                                                                                                                                                                                                                                                                                                                               \n",
       "23156  Good                                                                                                                                                                                                                                                                                                                                                                                                                                                                                                                                                                                                                                                                                                                                                                                                                                                                                                                                                                                                       \n",
       "23157  Don't buy this mobile phone money weast screen tach problem,no camera quality, no battery 🔋 life, Phone very slow, please don't buy this mobile phone please 🙏🙏🙏🙏🙏                                                                                                                                                                                                                                                                                                                                                                                                                                                                                                                                                                                                                                                                                                                                                                                                                                         \n",
       "23158  Phone is Good . Camera not upto the mark. UI is complicated.                                                                                                                                                                                                                                                                                                                                                                                                                                                                                                                                                                                                                                                                                                                                                                                                                                                                                                                                               \n",
       "\n",
       "      review_score review_comp  \n",
       "0      Negative     Neg         \n",
       "1      Negative     Neg         \n",
       "2      Positive     Pos         \n",
       "3      Positive     Pos         \n",
       "4      Positive     Pos         \n",
       "...         ...     ...         \n",
       "23154  Neutral      Neg         \n",
       "23155  Positive     Pos         \n",
       "23156  Positive     Pos         \n",
       "23157  Positive     Pos         \n",
       "23158  Positive     Pos         \n",
       "\n",
       "[23159 rows x 3 columns]"
      ]
     },
     "execution_count": 19,
     "metadata": {},
     "output_type": "execute_result"
    }
   ],
   "source": [
    "df[['Review-Body','review_score','review_comp']]"
   ]
  },
  {
   "cell_type": "code",
   "execution_count": null,
   "metadata": {
    "colab": {
     "base_uri": "https://localhost:8080/",
     "height": 35
    },
    "id": "KcrHVDNJHIuX",
    "outputId": "bc36e2bc-1ca9-4b0a-fd20-c7151eaec1c7"
   },
   "outputs": [
    {
     "data": {
      "application/vnd.google.colaboratory.intrinsic+json": {
       "type": "string"
      },
      "text/plain": [
       "'Negative'"
      ]
     },
     "execution_count": 23,
     "metadata": {},
     "output_type": "execute_result"
    }
   ],
   "source": [
    "sentiment_analyse(\"Don't buy this mobile phone money weast screen tach problem,no camera quality, no battery life,Phone very slow,\")# please don't buy this mobile phone please \")"
   ]
  },
  {
   "cell_type": "code",
   "execution_count": null,
   "metadata": {
    "colab": {
     "base_uri": "https://localhost:8080/"
    },
    "id": "o95JcEfyHInd",
    "outputId": "4f31ec5e-cf78-4943-f137-b8c79a0d911f"
   },
   "outputs": [
    {
     "data": {
      "text/plain": [
       "{'compound': -0.5423, 'neg': 0.538, 'neu': 0.462, 'pos': 0.0}"
      ]
     },
     "execution_count": 31,
     "metadata": {},
     "output_type": "execute_result"
    }
   ],
   "source": [
    "a = 'This was a bad movie.'\n",
    "sid.polarity_scores(a)"
   ]
  },
  {
   "cell_type": "code",
   "execution_count": null,
   "metadata": {
    "colab": {
     "base_uri": "https://localhost:8080/"
    },
    "id": "nf5cLZRrEV8u",
    "outputId": "e2dfcb08-8232-4594-ec23-44011ff0c7e7"
   },
   "outputs": [
    {
     "data": {
      "text/plain": [
       "{'compound': 0.5859, 'neg': 0.0, 'neu': 0.513, 'pos': 0.487}"
      ]
     },
     "execution_count": 28,
     "metadata": {},
     "output_type": "execute_result"
    }
   ],
   "source": [
    "sid.polarity_scores('The shoes I brought were amazing.')\n"
   ]
  },
  {
   "cell_type": "code",
   "execution_count": null,
   "metadata": {
    "colab": {
     "base_uri": "https://localhost:8080/",
     "height": 35
    },
    "id": "EgCHmV3yHIsq",
    "outputId": "ebd955a8-ef65-4cee-e427-454e5e7e8bdd"
   },
   "outputs": [
    {
     "data": {
      "application/vnd.google.colaboratory.intrinsic+json": {
       "type": "string"
      },
      "text/plain": [
       "'Positive'"
      ]
     },
     "execution_count": 25,
     "metadata": {},
     "output_type": "execute_result"
    }
   ],
   "source": [
    "sentiment_analyse(\"please don't buy this mobile phone please\")"
   ]
  },
  {
   "cell_type": "code",
   "execution_count": null,
   "metadata": {
    "colab": {
     "base_uri": "https://localhost:8080/",
     "height": 35
    },
    "id": "_UzxSKEfZ12p",
    "outputId": "1d858c7d-e93c-4f1e-8599-caffbcba5f6d"
   },
   "outputs": [
    {
     "data": {
      "application/vnd.google.colaboratory.intrinsic+json": {
       "type": "string"
      },
      "text/plain": [
       "'Positive'"
      ]
     },
     "execution_count": 15,
     "metadata": {},
     "output_type": "execute_result"
    }
   ],
   "source": [
    "sentiment_analyse(\"The shoes I brought were amazing.\")"
   ]
  },
  {
   "cell_type": "code",
   "execution_count": null,
   "metadata": {
    "colab": {
     "base_uri": "https://localhost:8080/",
     "height": 35
    },
    "id": "c6Fv8oQxO1y-",
    "outputId": "f82649e9-d136-483a-b866-929d6d4d9fd2"
   },
   "outputs": [
    {
     "data": {
      "application/vnd.google.colaboratory.intrinsic+json": {
       "type": "string"
      },
      "text/plain": [
       "'Pos'"
      ]
     },
     "execution_count": 12,
     "metadata": {},
     "output_type": "execute_result"
    }
   ],
   "source": [
    "comp_score('The shoes I brought were amazing.')"
   ]
  },
  {
   "cell_type": "code",
   "execution_count": null,
   "metadata": {
    "colab": {
     "base_uri": "https://localhost:8080/",
     "height": 35
    },
    "id": "DzAY_5UxZqiE",
    "outputId": "e5eb261f-e62b-46bc-9dd6-c3662f930962"
   },
   "outputs": [
    {
     "data": {
      "application/vnd.google.colaboratory.intrinsic+json": {
       "type": "string"
      },
      "text/plain": [
       "'Pos'"
      ]
     },
     "execution_count": 13,
     "metadata": {},
     "output_type": "execute_result"
    }
   ],
   "source": [
    "comp_score(\"please don't buy this mobile phone please\")"
   ]
  },
  {
   "cell_type": "code",
   "execution_count": null,
   "metadata": {
    "id": "p8Y2VlVO6Gf9"
   },
   "outputs": [],
   "source": [
    "txt1='Must he Bhai iss range me bas cemra thoda sa shi nhi he'"
   ]
  },
  {
   "cell_type": "code",
   "execution_count": null,
   "metadata": {
    "colab": {
     "base_uri": "https://localhost:8080/"
    },
    "id": "f1MDcPJD6KCh",
    "outputId": "2f5b2ac5-853e-461c-a710-adcb6521b80e"
   },
   "outputs": [
    {
     "data": {
      "text/plain": [
       "[]"
      ]
     },
     "execution_count": 2,
     "metadata": {},
     "output_type": "execute_result"
    }
   ],
   "source": []
  }
 ],
 "metadata": {
  "colab": {
   "name": "Amazon_Prod_review .ipynb",
   "provenance": []
  },
  "kernelspec": {
   "display_name": "Python 3 (ipykernel)",
   "language": "python",
   "name": "python3"
  },
  "language_info": {
   "codemirror_mode": {
    "name": "ipython",
    "version": 3
   },
   "file_extension": ".py",
   "mimetype": "text/x-python",
   "name": "python",
   "nbconvert_exporter": "python",
   "pygments_lexer": "ipython3",
   "version": "3.9.7"
  }
 },
 "nbformat": 4,
 "nbformat_minor": 1
}
