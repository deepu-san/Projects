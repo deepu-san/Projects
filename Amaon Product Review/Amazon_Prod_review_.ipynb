{
  "nbformat": 4,
  "nbformat_minor": 0,
  "metadata": {
    "colab": {
      "name": "Amazon_Prod_review .ipynb",
      "provenance": [],
      "authorship_tag": "ABX9TyPxf+GmQeObNDRE3zqqSXy4",
      "include_colab_link": true
    },
    "kernelspec": {
      "name": "python3",
      "display_name": "Python 3"
    },
    "language_info": {
      "name": "python"
    }
  },
  "cells": [
    {
      "cell_type": "markdown",
      "metadata": {
        "id": "view-in-github",
        "colab_type": "text"
      },
      "source": [
        "<a href=\"https://colab.research.google.com/github/deepu-san/Projects/blob/main/Amaon%20Product%20Review/Amazon_Prod_review_.ipynb\" target=\"_parent\"><img src=\"https://colab.research.google.com/assets/colab-badge.svg\" alt=\"Open In Colab\"/></a>"
      ]
    },
    {
      "cell_type": "code",
      "execution_count": null,
      "metadata": {
        "id": "QergyoYksPr1"
      },
      "outputs": [],
      "source": [
        "import pandas as pd\n",
        "# import matplotlib.pyplot as plt\n",
        "import numpy as np\n",
        "# import seaborn as sns\n",
        "# from sklearn.linear_model import LinearRegression \n",
        "from sklearn.model_selection import train_test_split \n",
        "from sklearn import metrics \n",
        "from sklearn.model_selection import cross_val_score\n",
        "# from sklearn.ensemble import RandomForestRegressor\n",
        "# from sklearn.tree import DecisionTreeRegressor\n",
        "# import xgboost as xgb\n",
        "from sklearn.tree import DecisionTreeClassifier\n",
        "from scipy import stats\n",
        "\n",
        "from sklearn.feature_extraction.text import TfidfVectorizer\n",
        "from sklearn.metrics import confusion_matrix, accuracy_score,classification_report\n",
        "from sklearn.metrics import roc_auc_score\n",
        "from sklearn.naive_bayes import MultinomialNB\n",
        "\n",
        "import nltk\n",
        "# from nltk.sentiment.vader import SentimentIntensityAnalyzer\n",
        "from nltk.corpus import stopwords\n",
        "from nltk import word_tokenize\n",
        "from nltk.stem import WordNetLemmatizer\n",
        "from nltk.corpus import wordnet"
      ]
    },
    {
      "cell_type": "code",
      "source": [
        "path=\"https://github.com/deepu-san/Projects/blob/main/Amaon%20Product%20Review/Flipkart_Amazon%20Mobile%20Reviews.csv?raw=true\"\n",
        "df = pd.read_csv(path)\n",
        "df.head(3)\n",
        "#df.shape"
      ],
      "metadata": {
        "colab": {
          "base_uri": "https://localhost:8080/",
          "height": 143
        },
        "id": "TCx0dC3ptEPh",
        "outputId": "35a7a8be-8001-47fe-bd84-5ea914819411"
      },
      "execution_count": null,
      "outputs": [
        {
          "output_type": "execute_result",
          "data": {
            "text/plain": [
              "   Unnamed: 0               Review-Title              rating  \\\n",
              "0           0           Worst phone ever  1.0 out of 5 stars   \n",
              "1           1  Ok !!! Not up to the mark  2.0 out of 5 stars   \n",
              "2           2               Awesome look  5.0 out of 5 stars   \n",
              "\n",
              "                                         Review-Body  \\\n",
              "0                                       Hang problem   \n",
              "1  I'm writing this review after using 3days !!!B...   \n",
              "2  Camera is so good n very fast phone back look ...   \n",
              "\n",
              "                                        Product Name  \n",
              "0  OnePlus Nord CE 2 5G (Gray Mirror, 8GB RAM, 12...  \n",
              "1  OnePlus Nord CE 2 5G (Gray Mirror, 8GB RAM, 12...  \n",
              "2  OnePlus Nord CE 2 5G (Gray Mirror, 8GB RAM, 12...  "
            ],
            "text/html": [
              "\n",
              "  <div id=\"df-5a1c6a35-b044-435d-aae7-fca5427c87d0\">\n",
              "    <div class=\"colab-df-container\">\n",
              "      <div>\n",
              "<style scoped>\n",
              "    .dataframe tbody tr th:only-of-type {\n",
              "        vertical-align: middle;\n",
              "    }\n",
              "\n",
              "    .dataframe tbody tr th {\n",
              "        vertical-align: top;\n",
              "    }\n",
              "\n",
              "    .dataframe thead th {\n",
              "        text-align: right;\n",
              "    }\n",
              "</style>\n",
              "<table border=\"1\" class=\"dataframe\">\n",
              "  <thead>\n",
              "    <tr style=\"text-align: right;\">\n",
              "      <th></th>\n",
              "      <th>Unnamed: 0</th>\n",
              "      <th>Review-Title</th>\n",
              "      <th>rating</th>\n",
              "      <th>Review-Body</th>\n",
              "      <th>Product Name</th>\n",
              "    </tr>\n",
              "  </thead>\n",
              "  <tbody>\n",
              "    <tr>\n",
              "      <th>0</th>\n",
              "      <td>0</td>\n",
              "      <td>Worst phone ever</td>\n",
              "      <td>1.0 out of 5 stars</td>\n",
              "      <td>Hang problem</td>\n",
              "      <td>OnePlus Nord CE 2 5G (Gray Mirror, 8GB RAM, 12...</td>\n",
              "    </tr>\n",
              "    <tr>\n",
              "      <th>1</th>\n",
              "      <td>1</td>\n",
              "      <td>Ok !!! Not up to the mark</td>\n",
              "      <td>2.0 out of 5 stars</td>\n",
              "      <td>I'm writing this review after using 3days !!!B...</td>\n",
              "      <td>OnePlus Nord CE 2 5G (Gray Mirror, 8GB RAM, 12...</td>\n",
              "    </tr>\n",
              "    <tr>\n",
              "      <th>2</th>\n",
              "      <td>2</td>\n",
              "      <td>Awesome look</td>\n",
              "      <td>5.0 out of 5 stars</td>\n",
              "      <td>Camera is so good n very fast phone back look ...</td>\n",
              "      <td>OnePlus Nord CE 2 5G (Gray Mirror, 8GB RAM, 12...</td>\n",
              "    </tr>\n",
              "  </tbody>\n",
              "</table>\n",
              "</div>\n",
              "      <button class=\"colab-df-convert\" onclick=\"convertToInteractive('df-5a1c6a35-b044-435d-aae7-fca5427c87d0')\"\n",
              "              title=\"Convert this dataframe to an interactive table.\"\n",
              "              style=\"display:none;\">\n",
              "        \n",
              "  <svg xmlns=\"http://www.w3.org/2000/svg\" height=\"24px\"viewBox=\"0 0 24 24\"\n",
              "       width=\"24px\">\n",
              "    <path d=\"M0 0h24v24H0V0z\" fill=\"none\"/>\n",
              "    <path d=\"M18.56 5.44l.94 2.06.94-2.06 2.06-.94-2.06-.94-.94-2.06-.94 2.06-2.06.94zm-11 1L8.5 8.5l.94-2.06 2.06-.94-2.06-.94L8.5 2.5l-.94 2.06-2.06.94zm10 10l.94 2.06.94-2.06 2.06-.94-2.06-.94-.94-2.06-.94 2.06-2.06.94z\"/><path d=\"M17.41 7.96l-1.37-1.37c-.4-.4-.92-.59-1.43-.59-.52 0-1.04.2-1.43.59L10.3 9.45l-7.72 7.72c-.78.78-.78 2.05 0 2.83L4 21.41c.39.39.9.59 1.41.59.51 0 1.02-.2 1.41-.59l7.78-7.78 2.81-2.81c.8-.78.8-2.07 0-2.86zM5.41 20L4 18.59l7.72-7.72 1.47 1.35L5.41 20z\"/>\n",
              "  </svg>\n",
              "      </button>\n",
              "      \n",
              "  <style>\n",
              "    .colab-df-container {\n",
              "      display:flex;\n",
              "      flex-wrap:wrap;\n",
              "      gap: 12px;\n",
              "    }\n",
              "\n",
              "    .colab-df-convert {\n",
              "      background-color: #E8F0FE;\n",
              "      border: none;\n",
              "      border-radius: 50%;\n",
              "      cursor: pointer;\n",
              "      display: none;\n",
              "      fill: #1967D2;\n",
              "      height: 32px;\n",
              "      padding: 0 0 0 0;\n",
              "      width: 32px;\n",
              "    }\n",
              "\n",
              "    .colab-df-convert:hover {\n",
              "      background-color: #E2EBFA;\n",
              "      box-shadow: 0px 1px 2px rgba(60, 64, 67, 0.3), 0px 1px 3px 1px rgba(60, 64, 67, 0.15);\n",
              "      fill: #174EA6;\n",
              "    }\n",
              "\n",
              "    [theme=dark] .colab-df-convert {\n",
              "      background-color: #3B4455;\n",
              "      fill: #D2E3FC;\n",
              "    }\n",
              "\n",
              "    [theme=dark] .colab-df-convert:hover {\n",
              "      background-color: #434B5C;\n",
              "      box-shadow: 0px 1px 3px 1px rgba(0, 0, 0, 0.15);\n",
              "      filter: drop-shadow(0px 1px 2px rgba(0, 0, 0, 0.3));\n",
              "      fill: #FFFFFF;\n",
              "    }\n",
              "  </style>\n",
              "\n",
              "      <script>\n",
              "        const buttonEl =\n",
              "          document.querySelector('#df-5a1c6a35-b044-435d-aae7-fca5427c87d0 button.colab-df-convert');\n",
              "        buttonEl.style.display =\n",
              "          google.colab.kernel.accessAllowed ? 'block' : 'none';\n",
              "\n",
              "        async function convertToInteractive(key) {\n",
              "          const element = document.querySelector('#df-5a1c6a35-b044-435d-aae7-fca5427c87d0');\n",
              "          const dataTable =\n",
              "            await google.colab.kernel.invokeFunction('convertToInteractive',\n",
              "                                                     [key], {});\n",
              "          if (!dataTable) return;\n",
              "\n",
              "          const docLinkHtml = 'Like what you see? Visit the ' +\n",
              "            '<a target=\"_blank\" href=https://colab.research.google.com/notebooks/data_table.ipynb>data table notebook</a>'\n",
              "            + ' to learn more about interactive tables.';\n",
              "          element.innerHTML = '';\n",
              "          dataTable['output_type'] = 'display_data';\n",
              "          await google.colab.output.renderOutput(dataTable, element);\n",
              "          const docLink = document.createElement('div');\n",
              "          docLink.innerHTML = docLinkHtml;\n",
              "          element.appendChild(docLink);\n",
              "        }\n",
              "      </script>\n",
              "    </div>\n",
              "  </div>\n",
              "  "
            ]
          },
          "metadata": {},
          "execution_count": 2
        }
      ]
    },
    {
      "cell_type": "code",
      "source": [
        "df.drop('Unnamed: 0',axis=1,inplace=True)"
      ],
      "metadata": {
        "id": "rx77ezA9uqND"
      },
      "execution_count": null,
      "outputs": []
    },
    {
      "cell_type": "code",
      "source": [
        "df.dtypes"
      ],
      "metadata": {
        "colab": {
          "base_uri": "https://localhost:8080/"
        },
        "id": "MdXT30jbuMTw",
        "outputId": "fa8bdcf5-b8cb-42cb-d110-5e0880e93da0"
      },
      "execution_count": null,
      "outputs": [
        {
          "output_type": "execute_result",
          "data": {
            "text/plain": [
              "Review-Title    object\n",
              "rating          object\n",
              "Review-Body     object\n",
              "Product Name    object\n",
              "dtype: object"
            ]
          },
          "metadata": {},
          "execution_count": 4
        }
      ]
    },
    {
      "cell_type": "code",
      "source": [
        "df.isna().sum()"
      ],
      "metadata": {
        "colab": {
          "base_uri": "https://localhost:8080/"
        },
        "id": "GWdE3SFpIGh_",
        "outputId": "10daad05-7eed-417b-bcae-64ae6915027e"
      },
      "execution_count": null,
      "outputs": [
        {
          "output_type": "execute_result",
          "data": {
            "text/plain": [
              "Review-Title      2\n",
              "rating            0\n",
              "Review-Body     617\n",
              "Product Name      0\n",
              "dtype: int64"
            ]
          },
          "metadata": {},
          "execution_count": 5
        }
      ]
    },
    {
      "cell_type": "code",
      "source": [
        "df=df.dropna()\n",
        "df= df.reset_index(drop=True)\n"
      ],
      "metadata": {
        "id": "rbk--ApmI167"
      },
      "execution_count": null,
      "outputs": []
    },
    {
      "cell_type": "code",
      "source": [
        "df['rating'].value_counts()"
      ],
      "metadata": {
        "id": "VKmGtGV5u6MF",
        "outputId": "592b9f92-879f-476d-b08f-37ab2cc4b3b7",
        "colab": {
          "base_uri": "https://localhost:8080/"
        }
      },
      "execution_count": null,
      "outputs": [
        {
          "output_type": "execute_result",
          "data": {
            "text/plain": [
              "5.0 out of 5 stars    9069\n",
              "1.0 out of 5 stars    5161\n",
              "4.0 out of 5 stars    4749\n",
              "3.0 out of 5 stars    2650\n",
              "2.0 out of 5 stars    1530\n",
              "Name: rating, dtype: int64"
            ]
          },
          "metadata": {},
          "execution_count": 6
        }
      ]
    },
    {
      "cell_type": "code",
      "source": [
        "df['Product Name'].value_counts()"
      ],
      "metadata": {
        "colab": {
          "base_uri": "https://localhost:8080/"
        },
        "id": "DWWkcBwRtqum",
        "outputId": "864ca793-caa7-43e0-a4a3-c8823e9962bb"
      },
      "execution_count": null,
      "outputs": [
        {
          "output_type": "execute_result",
          "data": {
            "text/plain": [
              "Redmi 9 Activ (Carbon Black, 4GB RAM, 64GB Storage)           4450\n",
              "OPPO A31 (Mystery Black, 6GB RAM, 128GB Storage)              4273\n",
              "Redmi 10 Prime (Bifrost Blue 4GB RAM 64GB ROM                 3597\n",
              "OnePlus Nord CE 2 5G (Gray Mirror, 8GB RAM, 128GB Storage)    3396\n",
              "Redmi Note 11 (Space Black, 4GB RAM, 64GB Storage)            2642\n",
              "realme narzo 50A (Oxygen Blue , 4GB RAM + 64 GB Storage)      2100\n",
              "vivo iQOO Z6 5G (Chromatic Blue, 6GB RAM, 128GB Storage)      1365\n",
              "Samsung Galaxy M32                                            1336\n",
              "Name: Product Name, dtype: int64"
            ]
          },
          "metadata": {},
          "execution_count": 7
        }
      ]
    },
    {
      "cell_type": "code",
      "source": [
        "df['rating_processed'] = (df['rating'].str[:3]).astype('float')\n",
        "df.head(2)"
      ],
      "metadata": {
        "colab": {
          "base_uri": "https://localhost:8080/",
          "height": 112
        },
        "id": "6JhB5f7EHdPZ",
        "outputId": "e55b0f66-c6b9-42c3-bc35-0f9f299069b2"
      },
      "execution_count": null,
      "outputs": [
        {
          "output_type": "execute_result",
          "data": {
            "text/plain": [
              "                Review-Title              rating  \\\n",
              "0           Worst phone ever  1.0 out of 5 stars   \n",
              "1  Ok !!! Not up to the mark  2.0 out of 5 stars   \n",
              "\n",
              "                                         Review-Body  \\\n",
              "0                                       Hang problem   \n",
              "1  I'm writing this review after using 3days !!!B...   \n",
              "\n",
              "                                        Product Name  rating_processed  \n",
              "0  OnePlus Nord CE 2 5G (Gray Mirror, 8GB RAM, 12...               1.0  \n",
              "1  OnePlus Nord CE 2 5G (Gray Mirror, 8GB RAM, 12...               2.0  "
            ],
            "text/html": [
              "\n",
              "  <div id=\"df-e70ad618-2975-438c-b260-027e44b84ae9\">\n",
              "    <div class=\"colab-df-container\">\n",
              "      <div>\n",
              "<style scoped>\n",
              "    .dataframe tbody tr th:only-of-type {\n",
              "        vertical-align: middle;\n",
              "    }\n",
              "\n",
              "    .dataframe tbody tr th {\n",
              "        vertical-align: top;\n",
              "    }\n",
              "\n",
              "    .dataframe thead th {\n",
              "        text-align: right;\n",
              "    }\n",
              "</style>\n",
              "<table border=\"1\" class=\"dataframe\">\n",
              "  <thead>\n",
              "    <tr style=\"text-align: right;\">\n",
              "      <th></th>\n",
              "      <th>Review-Title</th>\n",
              "      <th>rating</th>\n",
              "      <th>Review-Body</th>\n",
              "      <th>Product Name</th>\n",
              "      <th>rating_processed</th>\n",
              "    </tr>\n",
              "  </thead>\n",
              "  <tbody>\n",
              "    <tr>\n",
              "      <th>0</th>\n",
              "      <td>Worst phone ever</td>\n",
              "      <td>1.0 out of 5 stars</td>\n",
              "      <td>Hang problem</td>\n",
              "      <td>OnePlus Nord CE 2 5G (Gray Mirror, 8GB RAM, 12...</td>\n",
              "      <td>1.0</td>\n",
              "    </tr>\n",
              "    <tr>\n",
              "      <th>1</th>\n",
              "      <td>Ok !!! Not up to the mark</td>\n",
              "      <td>2.0 out of 5 stars</td>\n",
              "      <td>I'm writing this review after using 3days !!!B...</td>\n",
              "      <td>OnePlus Nord CE 2 5G (Gray Mirror, 8GB RAM, 12...</td>\n",
              "      <td>2.0</td>\n",
              "    </tr>\n",
              "  </tbody>\n",
              "</table>\n",
              "</div>\n",
              "      <button class=\"colab-df-convert\" onclick=\"convertToInteractive('df-e70ad618-2975-438c-b260-027e44b84ae9')\"\n",
              "              title=\"Convert this dataframe to an interactive table.\"\n",
              "              style=\"display:none;\">\n",
              "        \n",
              "  <svg xmlns=\"http://www.w3.org/2000/svg\" height=\"24px\"viewBox=\"0 0 24 24\"\n",
              "       width=\"24px\">\n",
              "    <path d=\"M0 0h24v24H0V0z\" fill=\"none\"/>\n",
              "    <path d=\"M18.56 5.44l.94 2.06.94-2.06 2.06-.94-2.06-.94-.94-2.06-.94 2.06-2.06.94zm-11 1L8.5 8.5l.94-2.06 2.06-.94-2.06-.94L8.5 2.5l-.94 2.06-2.06.94zm10 10l.94 2.06.94-2.06 2.06-.94-2.06-.94-.94-2.06-.94 2.06-2.06.94z\"/><path d=\"M17.41 7.96l-1.37-1.37c-.4-.4-.92-.59-1.43-.59-.52 0-1.04.2-1.43.59L10.3 9.45l-7.72 7.72c-.78.78-.78 2.05 0 2.83L4 21.41c.39.39.9.59 1.41.59.51 0 1.02-.2 1.41-.59l7.78-7.78 2.81-2.81c.8-.78.8-2.07 0-2.86zM5.41 20L4 18.59l7.72-7.72 1.47 1.35L5.41 20z\"/>\n",
              "  </svg>\n",
              "      </button>\n",
              "      \n",
              "  <style>\n",
              "    .colab-df-container {\n",
              "      display:flex;\n",
              "      flex-wrap:wrap;\n",
              "      gap: 12px;\n",
              "    }\n",
              "\n",
              "    .colab-df-convert {\n",
              "      background-color: #E8F0FE;\n",
              "      border: none;\n",
              "      border-radius: 50%;\n",
              "      cursor: pointer;\n",
              "      display: none;\n",
              "      fill: #1967D2;\n",
              "      height: 32px;\n",
              "      padding: 0 0 0 0;\n",
              "      width: 32px;\n",
              "    }\n",
              "\n",
              "    .colab-df-convert:hover {\n",
              "      background-color: #E2EBFA;\n",
              "      box-shadow: 0px 1px 2px rgba(60, 64, 67, 0.3), 0px 1px 3px 1px rgba(60, 64, 67, 0.15);\n",
              "      fill: #174EA6;\n",
              "    }\n",
              "\n",
              "    [theme=dark] .colab-df-convert {\n",
              "      background-color: #3B4455;\n",
              "      fill: #D2E3FC;\n",
              "    }\n",
              "\n",
              "    [theme=dark] .colab-df-convert:hover {\n",
              "      background-color: #434B5C;\n",
              "      box-shadow: 0px 1px 3px 1px rgba(0, 0, 0, 0.15);\n",
              "      filter: drop-shadow(0px 1px 2px rgba(0, 0, 0, 0.3));\n",
              "      fill: #FFFFFF;\n",
              "    }\n",
              "  </style>\n",
              "\n",
              "      <script>\n",
              "        const buttonEl =\n",
              "          document.querySelector('#df-e70ad618-2975-438c-b260-027e44b84ae9 button.colab-df-convert');\n",
              "        buttonEl.style.display =\n",
              "          google.colab.kernel.accessAllowed ? 'block' : 'none';\n",
              "\n",
              "        async function convertToInteractive(key) {\n",
              "          const element = document.querySelector('#df-e70ad618-2975-438c-b260-027e44b84ae9');\n",
              "          const dataTable =\n",
              "            await google.colab.kernel.invokeFunction('convertToInteractive',\n",
              "                                                     [key], {});\n",
              "          if (!dataTable) return;\n",
              "\n",
              "          const docLinkHtml = 'Like what you see? Visit the ' +\n",
              "            '<a target=\"_blank\" href=https://colab.research.google.com/notebooks/data_table.ipynb>data table notebook</a>'\n",
              "            + ' to learn more about interactive tables.';\n",
              "          element.innerHTML = '';\n",
              "          dataTable['output_type'] = 'display_data';\n",
              "          await google.colab.output.renderOutput(dataTable, element);\n",
              "          const docLink = document.createElement('div');\n",
              "          docLink.innerHTML = docLinkHtml;\n",
              "          element.appendChild(docLink);\n",
              "        }\n",
              "      </script>\n",
              "    </div>\n",
              "  </div>\n",
              "  "
            ]
          },
          "metadata": {},
          "execution_count": 5
        }
      ]
    },
    {
      "cell_type": "code",
      "source": [
        "df['rating_nature'] =df['rating_processed'].apply(lambda x: 1 if x>2.5 else 0)\n",
        "df.head(2)"
      ],
      "metadata": {
        "colab": {
          "base_uri": "https://localhost:8080/",
          "height": 112
        },
        "id": "GL4SPmS-Pzwx",
        "outputId": "2d9b4d55-3236-479e-de24-24b5986a91bb"
      },
      "execution_count": null,
      "outputs": [
        {
          "output_type": "execute_result",
          "data": {
            "text/plain": [
              "                Review-Title              rating  \\\n",
              "0           Worst phone ever  1.0 out of 5 stars   \n",
              "1  Ok !!! Not up to the mark  2.0 out of 5 stars   \n",
              "\n",
              "                                         Review-Body  \\\n",
              "0                                       Hang problem   \n",
              "1  I'm writing this review after using 3days !!!B...   \n",
              "\n",
              "                                        Product Name  rating_processed  \\\n",
              "0  OnePlus Nord CE 2 5G (Gray Mirror, 8GB RAM, 12...               1.0   \n",
              "1  OnePlus Nord CE 2 5G (Gray Mirror, 8GB RAM, 12...               2.0   \n",
              "\n",
              "   rating_nature  \n",
              "0              0  \n",
              "1              0  "
            ],
            "text/html": [
              "\n",
              "  <div id=\"df-0ffc8615-9024-4263-ae61-07b6803fc604\">\n",
              "    <div class=\"colab-df-container\">\n",
              "      <div>\n",
              "<style scoped>\n",
              "    .dataframe tbody tr th:only-of-type {\n",
              "        vertical-align: middle;\n",
              "    }\n",
              "\n",
              "    .dataframe tbody tr th {\n",
              "        vertical-align: top;\n",
              "    }\n",
              "\n",
              "    .dataframe thead th {\n",
              "        text-align: right;\n",
              "    }\n",
              "</style>\n",
              "<table border=\"1\" class=\"dataframe\">\n",
              "  <thead>\n",
              "    <tr style=\"text-align: right;\">\n",
              "      <th></th>\n",
              "      <th>Review-Title</th>\n",
              "      <th>rating</th>\n",
              "      <th>Review-Body</th>\n",
              "      <th>Product Name</th>\n",
              "      <th>rating_processed</th>\n",
              "      <th>rating_nature</th>\n",
              "    </tr>\n",
              "  </thead>\n",
              "  <tbody>\n",
              "    <tr>\n",
              "      <th>0</th>\n",
              "      <td>Worst phone ever</td>\n",
              "      <td>1.0 out of 5 stars</td>\n",
              "      <td>Hang problem</td>\n",
              "      <td>OnePlus Nord CE 2 5G (Gray Mirror, 8GB RAM, 12...</td>\n",
              "      <td>1.0</td>\n",
              "      <td>0</td>\n",
              "    </tr>\n",
              "    <tr>\n",
              "      <th>1</th>\n",
              "      <td>Ok !!! Not up to the mark</td>\n",
              "      <td>2.0 out of 5 stars</td>\n",
              "      <td>I'm writing this review after using 3days !!!B...</td>\n",
              "      <td>OnePlus Nord CE 2 5G (Gray Mirror, 8GB RAM, 12...</td>\n",
              "      <td>2.0</td>\n",
              "      <td>0</td>\n",
              "    </tr>\n",
              "  </tbody>\n",
              "</table>\n",
              "</div>\n",
              "      <button class=\"colab-df-convert\" onclick=\"convertToInteractive('df-0ffc8615-9024-4263-ae61-07b6803fc604')\"\n",
              "              title=\"Convert this dataframe to an interactive table.\"\n",
              "              style=\"display:none;\">\n",
              "        \n",
              "  <svg xmlns=\"http://www.w3.org/2000/svg\" height=\"24px\"viewBox=\"0 0 24 24\"\n",
              "       width=\"24px\">\n",
              "    <path d=\"M0 0h24v24H0V0z\" fill=\"none\"/>\n",
              "    <path d=\"M18.56 5.44l.94 2.06.94-2.06 2.06-.94-2.06-.94-.94-2.06-.94 2.06-2.06.94zm-11 1L8.5 8.5l.94-2.06 2.06-.94-2.06-.94L8.5 2.5l-.94 2.06-2.06.94zm10 10l.94 2.06.94-2.06 2.06-.94-2.06-.94-.94-2.06-.94 2.06-2.06.94z\"/><path d=\"M17.41 7.96l-1.37-1.37c-.4-.4-.92-.59-1.43-.59-.52 0-1.04.2-1.43.59L10.3 9.45l-7.72 7.72c-.78.78-.78 2.05 0 2.83L4 21.41c.39.39.9.59 1.41.59.51 0 1.02-.2 1.41-.59l7.78-7.78 2.81-2.81c.8-.78.8-2.07 0-2.86zM5.41 20L4 18.59l7.72-7.72 1.47 1.35L5.41 20z\"/>\n",
              "  </svg>\n",
              "      </button>\n",
              "      \n",
              "  <style>\n",
              "    .colab-df-container {\n",
              "      display:flex;\n",
              "      flex-wrap:wrap;\n",
              "      gap: 12px;\n",
              "    }\n",
              "\n",
              "    .colab-df-convert {\n",
              "      background-color: #E8F0FE;\n",
              "      border: none;\n",
              "      border-radius: 50%;\n",
              "      cursor: pointer;\n",
              "      display: none;\n",
              "      fill: #1967D2;\n",
              "      height: 32px;\n",
              "      padding: 0 0 0 0;\n",
              "      width: 32px;\n",
              "    }\n",
              "\n",
              "    .colab-df-convert:hover {\n",
              "      background-color: #E2EBFA;\n",
              "      box-shadow: 0px 1px 2px rgba(60, 64, 67, 0.3), 0px 1px 3px 1px rgba(60, 64, 67, 0.15);\n",
              "      fill: #174EA6;\n",
              "    }\n",
              "\n",
              "    [theme=dark] .colab-df-convert {\n",
              "      background-color: #3B4455;\n",
              "      fill: #D2E3FC;\n",
              "    }\n",
              "\n",
              "    [theme=dark] .colab-df-convert:hover {\n",
              "      background-color: #434B5C;\n",
              "      box-shadow: 0px 1px 3px 1px rgba(0, 0, 0, 0.15);\n",
              "      filter: drop-shadow(0px 1px 2px rgba(0, 0, 0, 0.3));\n",
              "      fill: #FFFFFF;\n",
              "    }\n",
              "  </style>\n",
              "\n",
              "      <script>\n",
              "        const buttonEl =\n",
              "          document.querySelector('#df-0ffc8615-9024-4263-ae61-07b6803fc604 button.colab-df-convert');\n",
              "        buttonEl.style.display =\n",
              "          google.colab.kernel.accessAllowed ? 'block' : 'none';\n",
              "\n",
              "        async function convertToInteractive(key) {\n",
              "          const element = document.querySelector('#df-0ffc8615-9024-4263-ae61-07b6803fc604');\n",
              "          const dataTable =\n",
              "            await google.colab.kernel.invokeFunction('convertToInteractive',\n",
              "                                                     [key], {});\n",
              "          if (!dataTable) return;\n",
              "\n",
              "          const docLinkHtml = 'Like what you see? Visit the ' +\n",
              "            '<a target=\"_blank\" href=https://colab.research.google.com/notebooks/data_table.ipynb>data table notebook</a>'\n",
              "            + ' to learn more about interactive tables.';\n",
              "          element.innerHTML = '';\n",
              "          dataTable['output_type'] = 'display_data';\n",
              "          await google.colab.output.renderOutput(dataTable, element);\n",
              "          const docLink = document.createElement('div');\n",
              "          docLink.innerHTML = docLinkHtml;\n",
              "          element.appendChild(docLink);\n",
              "        }\n",
              "      </script>\n",
              "    </div>\n",
              "  </div>\n",
              "  "
            ]
          },
          "metadata": {},
          "execution_count": 6
        }
      ]
    },
    {
      "cell_type": "markdown",
      "source": [
        "# Processing"
      ],
      "metadata": {
        "id": "fKxwHHbLcA4h"
      }
    },
    {
      "cell_type": "code",
      "source": [
        "df['body_processed'] = df['Review-Body'].str.replace(\"[^a-zA-Z0-9]\", \" \")\n",
        "df['body_processed'] = df['body_processed'].apply(lambda row: ' '.join([word for word in row.split() if len(word)>2 or word in ['UI']]))\n",
        "df['body_processed'] = [review.lower() for review in df['body_processed']]\n",
        "\n",
        "df['title_processed'] = df['Review-Title'].str.replace(\"[^a-zA-Z0-9]\", \" \")\n",
        "df['title_processed'] = df['title_processed'].apply(lambda row: ' '.join([word for word in row.split() if len(word)>2 or word in ['UI']]))\n",
        "df['title_processed'] = [review.lower() for review in df['title_processed']]\n"
      ],
      "metadata": {
        "colab": {
          "base_uri": "https://localhost:8080/"
        },
        "id": "kMVlBsgZGuyB",
        "outputId": "8d050bb5-d8f0-4d69-b2bc-44cf2999f444"
      },
      "execution_count": null,
      "outputs": [
        {
          "output_type": "stream",
          "name": "stderr",
          "text": [
            "/usr/local/lib/python3.7/dist-packages/ipykernel_launcher.py:1: FutureWarning: The default value of regex will change from True to False in a future version.\n",
            "  \"\"\"Entry point for launching an IPython kernel.\n",
            "/usr/local/lib/python3.7/dist-packages/ipykernel_launcher.py:5: FutureWarning: The default value of regex will change from True to False in a future version.\n",
            "  \"\"\"\n"
          ]
        }
      ]
    },
    {
      "cell_type": "code",
      "source": [
        "df[['Review-Title','title_processed', 'Review-Body','body_processed']]"
      ],
      "metadata": {
        "colab": {
          "base_uri": "https://localhost:8080/"
        },
        "id": "OMf_v3JIp26x",
        "outputId": "1915ce53-92cd-47ac-f4f6-da5c71b93238"
      },
      "execution_count": null,
      "outputs": [
        {
          "output_type": "execute_result",
          "data": {
            "text/plain": [
              "                            Review-Title              title_processed  \\\n",
              "0                       Worst phone ever             worst phone ever   \n",
              "1              Ok !!! Not up to the mark                 not the mark   \n",
              "2                           Awesome look                 awesome look   \n",
              "3      One plus losing is originality!!!  one plus losing originality   \n",
              "4                                   Read                         read   \n",
              "...                                  ...                          ...   \n",
              "23154              Batten in this rangee           batten this rangee   \n",
              "23155                        Good mobile                  good mobile   \n",
              "23156                        Good camera                  good camera   \n",
              "23157                      Warest mobile                warest mobile   \n",
              "23158         Good phone complicated UI.    good phone complicated ui   \n",
              "\n",
              "                                             Review-Body  \\\n",
              "0                                           Hang problem   \n",
              "1      I'm writing this review after using 3days !!!B...   \n",
              "2      Camera is so good n very fast phone back look ...   \n",
              "3      The media could not be loaded.\\n              ...   \n",
              "4      I got my delivery on 23 feb when I unboxed the...   \n",
              "...                                                  ...   \n",
              "23154  Must he Bhai iss range me bas cemra thoda sa s...   \n",
              "23155                                       Good product   \n",
              "23156                                               Good   \n",
              "23157  Don't buy this mobile phone money weast screen...   \n",
              "23158  Phone is Good . Camera not upto the mark. UI i...   \n",
              "\n",
              "                                          body_processed  \n",
              "0                                           hang problem  \n",
              "1      writing this review after using 3days honest t...  \n",
              "2      camera good very fast phone back look awesomew...  \n",
              "3      the media could not loaded average product dec...  \n",
              "4      got delivery feb when unboxed the phone the di...  \n",
              "...                                                  ...  \n",
              "23154        must bhai iss range bas cemra thoda shi nhi  \n",
              "23155                                       good product  \n",
              "23156                                               good  \n",
              "23157  don buy this mobile phone money weast screen t...  \n",
              "23158  phone good camera not upto the mark ui complic...  \n",
              "\n",
              "[23159 rows x 4 columns]"
            ],
            "text/html": [
              "\n",
              "  <div id=\"df-cb0aad26-34a2-48ec-af93-4dab330673c7\">\n",
              "    <div class=\"colab-df-container\">\n",
              "      <div>\n",
              "<style scoped>\n",
              "    .dataframe tbody tr th:only-of-type {\n",
              "        vertical-align: middle;\n",
              "    }\n",
              "\n",
              "    .dataframe tbody tr th {\n",
              "        vertical-align: top;\n",
              "    }\n",
              "\n",
              "    .dataframe thead th {\n",
              "        text-align: right;\n",
              "    }\n",
              "</style>\n",
              "<table border=\"1\" class=\"dataframe\">\n",
              "  <thead>\n",
              "    <tr style=\"text-align: right;\">\n",
              "      <th></th>\n",
              "      <th>Review-Title</th>\n",
              "      <th>title_processed</th>\n",
              "      <th>Review-Body</th>\n",
              "      <th>body_processed</th>\n",
              "    </tr>\n",
              "  </thead>\n",
              "  <tbody>\n",
              "    <tr>\n",
              "      <th>0</th>\n",
              "      <td>Worst phone ever</td>\n",
              "      <td>worst phone ever</td>\n",
              "      <td>Hang problem</td>\n",
              "      <td>hang problem</td>\n",
              "    </tr>\n",
              "    <tr>\n",
              "      <th>1</th>\n",
              "      <td>Ok !!! Not up to the mark</td>\n",
              "      <td>not the mark</td>\n",
              "      <td>I'm writing this review after using 3days !!!B...</td>\n",
              "      <td>writing this review after using 3days honest t...</td>\n",
              "    </tr>\n",
              "    <tr>\n",
              "      <th>2</th>\n",
              "      <td>Awesome look</td>\n",
              "      <td>awesome look</td>\n",
              "      <td>Camera is so good n very fast phone back look ...</td>\n",
              "      <td>camera good very fast phone back look awesomew...</td>\n",
              "    </tr>\n",
              "    <tr>\n",
              "      <th>3</th>\n",
              "      <td>One plus losing is originality!!!</td>\n",
              "      <td>one plus losing originality</td>\n",
              "      <td>The media could not be loaded.\\n              ...</td>\n",
              "      <td>the media could not loaded average product dec...</td>\n",
              "    </tr>\n",
              "    <tr>\n",
              "      <th>4</th>\n",
              "      <td>Read</td>\n",
              "      <td>read</td>\n",
              "      <td>I got my delivery on 23 feb when I unboxed the...</td>\n",
              "      <td>got delivery feb when unboxed the phone the di...</td>\n",
              "    </tr>\n",
              "    <tr>\n",
              "      <th>...</th>\n",
              "      <td>...</td>\n",
              "      <td>...</td>\n",
              "      <td>...</td>\n",
              "      <td>...</td>\n",
              "    </tr>\n",
              "    <tr>\n",
              "      <th>23154</th>\n",
              "      <td>Batten in this rangee</td>\n",
              "      <td>batten this rangee</td>\n",
              "      <td>Must he Bhai iss range me bas cemra thoda sa s...</td>\n",
              "      <td>must bhai iss range bas cemra thoda shi nhi</td>\n",
              "    </tr>\n",
              "    <tr>\n",
              "      <th>23155</th>\n",
              "      <td>Good mobile</td>\n",
              "      <td>good mobile</td>\n",
              "      <td>Good product</td>\n",
              "      <td>good product</td>\n",
              "    </tr>\n",
              "    <tr>\n",
              "      <th>23156</th>\n",
              "      <td>Good camera</td>\n",
              "      <td>good camera</td>\n",
              "      <td>Good</td>\n",
              "      <td>good</td>\n",
              "    </tr>\n",
              "    <tr>\n",
              "      <th>23157</th>\n",
              "      <td>Warest mobile</td>\n",
              "      <td>warest mobile</td>\n",
              "      <td>Don't buy this mobile phone money weast screen...</td>\n",
              "      <td>don buy this mobile phone money weast screen t...</td>\n",
              "    </tr>\n",
              "    <tr>\n",
              "      <th>23158</th>\n",
              "      <td>Good phone complicated UI.</td>\n",
              "      <td>good phone complicated ui</td>\n",
              "      <td>Phone is Good . Camera not upto the mark. UI i...</td>\n",
              "      <td>phone good camera not upto the mark ui complic...</td>\n",
              "    </tr>\n",
              "  </tbody>\n",
              "</table>\n",
              "<p>23159 rows × 4 columns</p>\n",
              "</div>\n",
              "      <button class=\"colab-df-convert\" onclick=\"convertToInteractive('df-cb0aad26-34a2-48ec-af93-4dab330673c7')\"\n",
              "              title=\"Convert this dataframe to an interactive table.\"\n",
              "              style=\"display:none;\">\n",
              "        \n",
              "  <svg xmlns=\"http://www.w3.org/2000/svg\" height=\"24px\"viewBox=\"0 0 24 24\"\n",
              "       width=\"24px\">\n",
              "    <path d=\"M0 0h24v24H0V0z\" fill=\"none\"/>\n",
              "    <path d=\"M18.56 5.44l.94 2.06.94-2.06 2.06-.94-2.06-.94-.94-2.06-.94 2.06-2.06.94zm-11 1L8.5 8.5l.94-2.06 2.06-.94-2.06-.94L8.5 2.5l-.94 2.06-2.06.94zm10 10l.94 2.06.94-2.06 2.06-.94-2.06-.94-.94-2.06-.94 2.06-2.06.94z\"/><path d=\"M17.41 7.96l-1.37-1.37c-.4-.4-.92-.59-1.43-.59-.52 0-1.04.2-1.43.59L10.3 9.45l-7.72 7.72c-.78.78-.78 2.05 0 2.83L4 21.41c.39.39.9.59 1.41.59.51 0 1.02-.2 1.41-.59l7.78-7.78 2.81-2.81c.8-.78.8-2.07 0-2.86zM5.41 20L4 18.59l7.72-7.72 1.47 1.35L5.41 20z\"/>\n",
              "  </svg>\n",
              "      </button>\n",
              "      \n",
              "  <style>\n",
              "    .colab-df-container {\n",
              "      display:flex;\n",
              "      flex-wrap:wrap;\n",
              "      gap: 12px;\n",
              "    }\n",
              "\n",
              "    .colab-df-convert {\n",
              "      background-color: #E8F0FE;\n",
              "      border: none;\n",
              "      border-radius: 50%;\n",
              "      cursor: pointer;\n",
              "      display: none;\n",
              "      fill: #1967D2;\n",
              "      height: 32px;\n",
              "      padding: 0 0 0 0;\n",
              "      width: 32px;\n",
              "    }\n",
              "\n",
              "    .colab-df-convert:hover {\n",
              "      background-color: #E2EBFA;\n",
              "      box-shadow: 0px 1px 2px rgba(60, 64, 67, 0.3), 0px 1px 3px 1px rgba(60, 64, 67, 0.15);\n",
              "      fill: #174EA6;\n",
              "    }\n",
              "\n",
              "    [theme=dark] .colab-df-convert {\n",
              "      background-color: #3B4455;\n",
              "      fill: #D2E3FC;\n",
              "    }\n",
              "\n",
              "    [theme=dark] .colab-df-convert:hover {\n",
              "      background-color: #434B5C;\n",
              "      box-shadow: 0px 1px 3px 1px rgba(0, 0, 0, 0.15);\n",
              "      filter: drop-shadow(0px 1px 2px rgba(0, 0, 0, 0.3));\n",
              "      fill: #FFFFFF;\n",
              "    }\n",
              "  </style>\n",
              "\n",
              "      <script>\n",
              "        const buttonEl =\n",
              "          document.querySelector('#df-cb0aad26-34a2-48ec-af93-4dab330673c7 button.colab-df-convert');\n",
              "        buttonEl.style.display =\n",
              "          google.colab.kernel.accessAllowed ? 'block' : 'none';\n",
              "\n",
              "        async function convertToInteractive(key) {\n",
              "          const element = document.querySelector('#df-cb0aad26-34a2-48ec-af93-4dab330673c7');\n",
              "          const dataTable =\n",
              "            await google.colab.kernel.invokeFunction('convertToInteractive',\n",
              "                                                     [key], {});\n",
              "          if (!dataTable) return;\n",
              "\n",
              "          const docLinkHtml = 'Like what you see? Visit the ' +\n",
              "            '<a target=\"_blank\" href=https://colab.research.google.com/notebooks/data_table.ipynb>data table notebook</a>'\n",
              "            + ' to learn more about interactive tables.';\n",
              "          element.innerHTML = '';\n",
              "          dataTable['output_type'] = 'display_data';\n",
              "          await google.colab.output.renderOutput(dataTable, element);\n",
              "          const docLink = document.createElement('div');\n",
              "          docLink.innerHTML = docLinkHtml;\n",
              "          element.appendChild(docLink);\n",
              "        }\n",
              "      </script>\n",
              "    </div>\n",
              "  </div>\n",
              "  "
            ]
          },
          "metadata": {},
          "execution_count": 8
        }
      ]
    },
    {
      "cell_type": "code",
      "source": [
        "nltk.download('punkt')\n",
        "nltk.download('stopwords')\n",
        "stop_words = stopwords.words('english')\n",
        "\n",
        "\n",
        "def remove_stopwords(rev):\n",
        "    # iNPUT : IT WILL TAKE ROW/REVIEW AS AN INPUT\n",
        "    # take the paragraph, break into words, check if the word is a stop word, remove if stop word, combine the words into a para again\n",
        "    review_tokenized = word_tokenize(rev)\n",
        "    rev_new = \" \".join([i for i in review_tokenized  if i not in stop_words])\n",
        "    return rev_new\n",
        "\n",
        "# Removing stopwords\n",
        "df['body_processed'] = [remove_stopwords(r) for r in df['body_processed']]\n",
        "df['title_processed'] = [remove_stopwords(r) for r in df['title_processed']]\n",
        "\n"
      ],
      "metadata": {
        "colab": {
          "base_uri": "https://localhost:8080/"
        },
        "id": "SI1fkv4Y59fp",
        "outputId": "7a902aa8-a33f-40c5-ce7f-93b125f28de0"
      },
      "execution_count": null,
      "outputs": [
        {
          "output_type": "stream",
          "name": "stderr",
          "text": [
            "[nltk_data] Downloading package punkt to /root/nltk_data...\n",
            "[nltk_data]   Package punkt is already up-to-date!\n",
            "[nltk_data] Downloading package stopwords to /root/nltk_data...\n",
            "[nltk_data]   Package stopwords is already up-to-date!\n"
          ]
        }
      ]
    },
    {
      "cell_type": "code",
      "source": [
        "nltk.download('wordnet')\n",
        "nltk.download('averaged_perceptron_tagger') # Run atleast once \n",
        "\n",
        "lemmatizer = WordNetLemmatizer()\n",
        "nltk.download('omw-1.4')\n",
        "\n",
        "# Finds the part of speech tag\n",
        "# Convert the detailed POS tag into a shallow information\n",
        "def nltk_tag_to_wordnet_tag(nltk_tag):\n",
        "    if nltk_tag.startswith('J'):\n",
        "        return wordnet.ADJ\n",
        "    elif nltk_tag.startswith('V'):\n",
        "        return wordnet.VERB\n",
        "    elif nltk_tag.startswith('N'):\n",
        "        return wordnet.NOUN\n",
        "    elif nltk_tag.startswith('R'):\n",
        "        return wordnet.ADV\n",
        "    else:          \n",
        "        return None\n",
        "\n",
        "# lemmatize sentence using pos tag\n",
        "def lemmatize_sentence(sentence):\n",
        "  # word tokenize -> pos tag (detailed) -> wordnet tag (shallow pos) -> lemmatizer -> root word\n",
        "    #tokenize the sentence and find the POS tag for each token\n",
        "    nltk_tagged = nltk.pos_tag(nltk.word_tokenize(sentence))  \n",
        "    #tuple of (token, wordnet_tag)\n",
        "    wordnet_tagged = map(lambda x: (x[0], nltk_tag_to_wordnet_tag(x[1])), nltk_tagged)\n",
        "    lemmatized_sentence = []\n",
        "    for word, tag in wordnet_tagged:\n",
        "        if tag is None:\n",
        "            #if there is no available tag, append the token as is\n",
        "            lemmatized_sentence.append(word)\n",
        "        else:        \n",
        "            #else use the tag to lemmatize the token\n",
        "            lemmatized_sentence.append(lemmatizer.lemmatize(word, tag))\n",
        "    return \" \".join(lemmatized_sentence)\n",
        "\n",
        "\n",
        "df['body_processed'] = df['body_processed'].apply(lambda x: lemmatize_sentence(x))\n",
        "df['title_processed'] = df['title_processed'].apply(lambda x: lemmatize_sentence(x))"
      ],
      "metadata": {
        "colab": {
          "base_uri": "https://localhost:8080/"
        },
        "id": "ecsc6YJA6fLi",
        "outputId": "1ad9bb80-d13a-4069-e9ff-4bdc059be480"
      },
      "execution_count": null,
      "outputs": [
        {
          "output_type": "stream",
          "name": "stderr",
          "text": [
            "[nltk_data] Downloading package wordnet to /root/nltk_data...\n",
            "[nltk_data]   Package wordnet is already up-to-date!\n",
            "[nltk_data] Downloading package averaged_perceptron_tagger to\n",
            "[nltk_data]     /root/nltk_data...\n",
            "[nltk_data]   Package averaged_perceptron_tagger is already up-to-\n",
            "[nltk_data]       date!\n",
            "[nltk_data] Downloading package omw-1.4 to /root/nltk_data...\n",
            "[nltk_data]   Package omw-1.4 is already up-to-date!\n"
          ]
        }
      ]
    },
    {
      "cell_type": "markdown",
      "source": [
        "# Bagging of Words"
      ],
      "metadata": {
        "id": "pOY6zw4lcYD3"
      }
    },
    {
      "cell_type": "code",
      "source": [
        "tfidf = TfidfVectorizer(max_features=None)\n",
        "\n",
        "x1 = tfidf.fit_transform(df.body_processed).toarray()\n",
        "x2 = tfidf.fit_transform(df.title_processed).toarray()\n",
        "\n",
        "X=np.concatenate((x1,x2), axis=1)\n",
        "\n",
        "y = df.rating_nature.values"
      ],
      "metadata": {
        "id": "a_gR6km9n8ag"
      },
      "execution_count": null,
      "outputs": []
    },
    {
      "cell_type": "code",
      "source": [
        "print(x1.shape)\n",
        "print(x2.shape)\n",
        "print(X.shape)"
      ],
      "metadata": {
        "colab": {
          "base_uri": "https://localhost:8080/"
        },
        "id": "yjP2jXT4n8Qg",
        "outputId": "b9cc0ec7-0650-493d-fe60-608b8b48dea9"
      },
      "execution_count": null,
      "outputs": [
        {
          "output_type": "stream",
          "name": "stdout",
          "text": [
            "(23159, 12781)\n",
            "(23159, 4316)\n",
            "(23159, 17097)\n"
          ]
        }
      ]
    },
    {
      "cell_type": "code",
      "source": [
        "X_train, X_test, y_train, y_test = train_test_split(X, y, test_size = 0.20)\n"
      ],
      "metadata": {
        "id": "6t2JdJRen8O7"
      },
      "execution_count": null,
      "outputs": []
    },
    {
      "cell_type": "markdown",
      "source": [
        "# Decision Tree"
      ],
      "metadata": {
        "id": "P0d0mq_1bt6f"
      }
    },
    {
      "cell_type": "code",
      "source": [
        "dt = DecisionTreeClassifier()\n",
        "dt.fit(X_train,y_train)\n",
        "\n",
        "y_pred = dt.predict(X_test)"
      ],
      "metadata": {
        "id": "5nx3xtg7n8K1"
      },
      "execution_count": null,
      "outputs": []
    },
    {
      "cell_type": "code",
      "source": [
        "y_pred.shape"
      ],
      "metadata": {
        "colab": {
          "base_uri": "https://localhost:8080/"
        },
        "id": "I4p24YezCGe5",
        "outputId": "0e9deb67-d8e3-4ee6-f310-0a53c8cc7f7b"
      },
      "execution_count": null,
      "outputs": [
        {
          "output_type": "execute_result",
          "data": {
            "text/plain": [
              "(4632,)"
            ]
          },
          "metadata": {},
          "execution_count": 39
        }
      ]
    },
    {
      "cell_type": "code",
      "source": [
        "accuracy = accuracy_score(y_test, y_pred)\n",
        "cm = confusion_matrix(y_test, y_pred)\n",
        "print(cm)\n",
        "print(\"The model accuracy is\", accuracy )"
      ],
      "metadata": {
        "colab": {
          "base_uri": "https://localhost:8080/"
        },
        "id": "wAX1kpcRn8JS",
        "outputId": "99029dd0-f0c8-4130-dd79-6caafed3fdcf"
      },
      "execution_count": null,
      "outputs": [
        {
          "output_type": "stream",
          "name": "stdout",
          "text": [
            "[[ 901  430]\n",
            " [ 385 2916]]\n",
            "The model accuracy is 0.8240500863557858\n"
          ]
        }
      ]
    },
    {
      "cell_type": "code",
      "source": [
        "y_test.shape"
      ],
      "metadata": {
        "colab": {
          "base_uri": "https://localhost:8080/"
        },
        "id": "KSuVhDPCIV-K",
        "outputId": "ff10ac0b-bf1f-4ed7-dec9-da6e5056f2c9"
      },
      "execution_count": null,
      "outputs": [
        {
          "output_type": "execute_result",
          "data": {
            "text/plain": [
              "(4632,)"
            ]
          },
          "metadata": {},
          "execution_count": 45
        }
      ]
    },
    {
      "cell_type": "code",
      "source": [
        "#roc_auc_score(y_test, dt.predict_proba(X_test))#,multi_class='ovr'\n",
        "\n",
        "roc_auc_score(y_test, dt.predict_proba(X_test)[:, 1])"
      ],
      "metadata": {
        "colab": {
          "base_uri": "https://localhost:8080/"
        },
        "id": "uouLcLt5_lXu",
        "outputId": "cdb20450-de1c-4420-d608-d1c1fd990a86"
      },
      "execution_count": null,
      "outputs": [
        {
          "output_type": "execute_result",
          "data": {
            "text/plain": [
              "0.7782067952452084"
            ]
          },
          "metadata": {},
          "execution_count": 46
        }
      ]
    },
    {
      "cell_type": "markdown",
      "source": [
        "# Multinomial NB"
      ],
      "metadata": {
        "id": "Wk5dTaiHbycF"
      }
    },
    {
      "cell_type": "code",
      "source": [
        "nb = MultinomialNB()\n",
        "nb.fit(X_train,y_train)"
      ],
      "metadata": {
        "colab": {
          "base_uri": "https://localhost:8080/"
        },
        "id": "45jt8-5o_lWK",
        "outputId": "18315097-2b0f-412d-e87b-ec50a1bd98ef"
      },
      "execution_count": null,
      "outputs": [
        {
          "output_type": "execute_result",
          "data": {
            "text/plain": [
              "MultinomialNB()"
            ]
          },
          "metadata": {},
          "execution_count": 14
        }
      ]
    },
    {
      "cell_type": "code",
      "source": [
        "predictions = nb.predict(X_test)"
      ],
      "metadata": {
        "id": "-_uzqP4W_lSi"
      },
      "execution_count": null,
      "outputs": []
    },
    {
      "cell_type": "code",
      "source": [
        "print(confusion_matrix(y_test,predictions))\n"
      ],
      "metadata": {
        "colab": {
          "base_uri": "https://localhost:8080/"
        },
        "id": "dTn_KLDQ_lQ8",
        "outputId": "13c74c80-970c-425c-e0d4-2efa734c3899"
      },
      "execution_count": null,
      "outputs": [
        {
          "output_type": "stream",
          "name": "stdout",
          "text": [
            "[[ 912  434]\n",
            " [ 227 3059]]\n"
          ]
        }
      ]
    },
    {
      "cell_type": "code",
      "source": [
        "roc_auc_score(y_test, nb.predict_proba(X_test)[:, 1],multi_class='ovr')"
      ],
      "metadata": {
        "colab": {
          "base_uri": "https://localhost:8080/"
        },
        "id": "sQHmZSPP_lON",
        "outputId": "e4c8beff-1cfe-4468-a2c7-5887a5b36d4c"
      },
      "execution_count": null,
      "outputs": [
        {
          "output_type": "execute_result",
          "data": {
            "text/plain": [
              "0.9252814657342153"
            ]
          },
          "metadata": {},
          "execution_count": 16
        }
      ]
    },
    {
      "cell_type": "code",
      "source": [
        "#crashing due to inadequate RAM\n",
        "\n",
        "# from sklearn.naive_bayes import BernoulliNB\n",
        "\n",
        "# clf = BernoulliNB()\n",
        "# clf.fit(X_train,y_train)\n",
        "# predictions = clf.predict(X_test)"
      ],
      "metadata": {
        "id": "tPtE3m75_lMf"
      },
      "execution_count": null,
      "outputs": []
    },
    {
      "cell_type": "code",
      "source": [
        "\n"
      ],
      "metadata": {
        "id": "Hwn0FAa0Q06n"
      },
      "execution_count": null,
      "outputs": []
    },
    {
      "cell_type": "code",
      "source": [
        ""
      ],
      "metadata": {
        "id": "CEWvyhwgQ04u"
      },
      "execution_count": null,
      "outputs": []
    },
    {
      "cell_type": "code",
      "source": [
        ""
      ],
      "metadata": {
        "id": "lKuyJRGWQ00i"
      },
      "execution_count": null,
      "outputs": []
    },
    {
      "cell_type": "code",
      "source": [
        ""
      ],
      "metadata": {
        "id": "io1V91veQ0yu"
      },
      "execution_count": null,
      "outputs": []
    },
    {
      "cell_type": "markdown",
      "source": [
        "# Sentiment Analysis"
      ],
      "metadata": {
        "id": "sLqhnAKfwU7-"
      }
    },
    {
      "cell_type": "code",
      "source": [
        "pd.set_option(\"display.max_colwidth\", -1)"
      ],
      "metadata": {
        "colab": {
          "base_uri": "https://localhost:8080/"
        },
        "id": "722P4Fn-lVAT",
        "outputId": "426c35bd-21cb-4490-d839-c7f7ed82d68a"
      },
      "execution_count": null,
      "outputs": [
        {
          "output_type": "stream",
          "name": "stderr",
          "text": [
            "/usr/local/lib/python3.7/dist-packages/ipykernel_launcher.py:1: FutureWarning: Passing a negative integer is deprecated in version 1.0 and will not be supported in future version. Instead, use None to not limit the column width.\n",
            "  \"\"\"Entry point for launching an IPython kernel.\n"
          ]
        }
      ]
    },
    {
      "cell_type": "code",
      "source": [
        "nltk.download('vader_lexicon')\n",
        "\n",
        "def sentiment_analyse(sentiment_text):\n",
        "    score = SentimentIntensityAnalyzer().polarity_scores(sentiment_text)\n",
        "    if score['neg'] > score['pos']:\n",
        "        return (\"Negative\")\n",
        "    elif score['neg'] < score['pos']:\n",
        "        return (\"Positive\")\n",
        "    else:\n",
        "        return (\"Neutral\")"
      ],
      "metadata": {
        "colab": {
          "base_uri": "https://localhost:8080/"
        },
        "id": "BrB4mcG1HoJX",
        "outputId": "3a6f9c57-a7f2-46df-e0f3-e0b5c50fd5c7"
      },
      "execution_count": null,
      "outputs": [
        {
          "output_type": "stream",
          "name": "stderr",
          "text": [
            "[nltk_data] Downloading package vader_lexicon to /root/nltk_data...\n"
          ]
        }
      ]
    },
    {
      "cell_type": "code",
      "source": [
        "sid = SentimentIntensityAnalyzer()\n",
        "def comp_score(txt):\n",
        "    score=sid.polarity_scores(txt)\n",
        "    if score['compound']>0 : return \"Pos\"\n",
        "    else : return \"Neg\""
      ],
      "metadata": {
        "id": "rd8YYwZhYqn_"
      },
      "execution_count": null,
      "outputs": []
    },
    {
      "cell_type": "code",
      "source": [
        "df['review_score']=[sentiment_analyse(r) for r in df['Review-Body']]\n",
        "#df['review_comp']=[comp_score(r) for r in df['Review-Body']]"
      ],
      "metadata": {
        "id": "eQhMtOsRYfsj"
      },
      "execution_count": null,
      "outputs": []
    },
    {
      "cell_type": "code",
      "source": [
        "df['review_comp']=[comp_score(r) for r in df['Review-Body']]"
      ],
      "metadata": {
        "id": "2KyNeFe1YNCs"
      },
      "execution_count": null,
      "outputs": []
    },
    {
      "cell_type": "code",
      "source": [
        "df[['Review-Body','review_score','review_comp']]"
      ],
      "metadata": {
        "colab": {
          "base_uri": "https://localhost:8080/",
          "height": 780
        },
        "id": "qby43MxgI1x5",
        "outputId": "e73cf70d-0fe3-4bae-d430-fb62ee0d1021"
      },
      "execution_count": null,
      "outputs": [
        {
          "output_type": "execute_result",
          "data": {
            "text/plain": [
              "                                                                                                                                                                                                                                                                                                                                                                                                                                                                                                                                                                                                                                                                                                                                                                                                                                                                                                                                                                                                    Review-Body  \\\n",
              "0      Hang problem                                                                                                                                                                                                                                                                                                                                                                                                                                                                                                                                                                                                                                                                                                                                                                                                                                                                                                                                                                                               \n",
              "1      I'm writing this review after using 3days !!!Be to honest this is normal Android phoneIt's not like OnePlusCamera quality very low it says 64mp but notSound also lowBattery 🔋 backup ok !!! For one day normal use itsIf ur Gamer don't go for itOverall price it High for this handsetIf u really wanna buy OnePlus ho for higher end modelI'm first time buying OnePlusLittle disappointment                                                                                                                                                                                                                                                                                                                                                                                                                                                                                                                                                                                                            \n",
              "2      Camera is so good n very fast phone back look is awesomeWith dis price segment it's worth it n d most important thing is the phone has dedicated memory card slot I think dis is the first one plus phone which has d dedicated slot for memory cardBattery backup is also good n wit the help of 65w charger u can charge ur phone frm 50-100% in just 15 minsIt has the super vooc charger frm Dat u can charge ur phone very fastVery smooth touch n very fast phone u can play games with no lagInternet connectivity is also fast n lightning wit my Jio sim as u can c I hav pasted one photo showing d downloading speed of 11mbps wit my cellular networkI think everyone who wants to buy dis phone just go for itI think oneplus launched dis phone with lots of good features n d most important thing is price is very lessI recommendJust go for itThank u oneplus n Amazon for dis wonderful product                                                                                         \n",
              "3      The media could not be loaded.\\n                \\n\\n\\n\\n It’s A average product decent for day to day activity.. one the thing I would like to mention that exchange was Far Far alot Good On amazon it was like 2 to 3 minutes and delivery agent was very Good with me although I had 2 scratches on it but he neglected it as it was minor scratches and I exchanged poco m2 pro 6 64gb variant which was exchanged for rupees 10100. I bought it at 12499 1 and Half year ago and sold it at at very good price!! So plus point To amazonComing Back to device I would say it’s a ok device camera is average performance is Fine one plus is losing it’s originality oxygen os to color or..WARP CHARGER TO VOOC CHARGER!! yes it has been taken by oppo!! I wish the way we believed in one plus doesn’t change with it as A one plus Fan We don’t want To merge with Other brands please keep your Originality Maintained!! thanx amazon for such a hasselfree exchange alot better than FLIPKART   \n",
              "4      I got my delivery on 23 feb when I unboxed the phone the display was damaged. I requested for replacement of my new phone so technician was suppose to come for inspection but instead of a visit he just talked on call and asked me to install an application. He did not even saw the damage of my display screen.Lets hope amazon does it right replace my phone. Will update the rest later.But amazon pls consider my request and replace the item as soon as possibleEdit- The phone is perfect... They replaced it and now everything is perfect...Camera quality is as expected very perfectOverall performance bestYou can go for it                                                                                                                                                                                                                                                                                                                                                             \n",
              "...                                                                                                                                                                                                                                                                                                                                                                                                                                                                                                                                                                                                                                               ...                                                                                                                                                                                                                                                                                                                                                             \n",
              "23154  Must he Bhai iss range me bas cemra thoda sa shi nhi he                                                                                                                                                                                                                                                                                                                                                                                                                                                                                                                                                                                                                                                                                                                                                                                                                                                                                                                                                    \n",
              "23155  Good product                                                                                                                                                                                                                                                                                                                                                                                                                                                                                                                                                                                                                                                                                                                                                                                                                                                                                                                                                                                               \n",
              "23156  Good                                                                                                                                                                                                                                                                                                                                                                                                                                                                                                                                                                                                                                                                                                                                                                                                                                                                                                                                                                                                       \n",
              "23157  Don't buy this mobile phone money weast screen tach problem,no camera quality, no battery 🔋 life, Phone very slow, please don't buy this mobile phone please 🙏🙏🙏🙏🙏                                                                                                                                                                                                                                                                                                                                                                                                                                                                                                                                                                                                                                                                                                                                                                                                                                         \n",
              "23158  Phone is Good . Camera not upto the mark. UI is complicated.                                                                                                                                                                                                                                                                                                                                                                                                                                                                                                                                                                                                                                                                                                                                                                                                                                                                                                                                               \n",
              "\n",
              "      review_score review_comp  \n",
              "0      Negative     Neg         \n",
              "1      Negative     Neg         \n",
              "2      Positive     Pos         \n",
              "3      Positive     Pos         \n",
              "4      Positive     Pos         \n",
              "...         ...     ...         \n",
              "23154  Neutral      Neg         \n",
              "23155  Positive     Pos         \n",
              "23156  Positive     Pos         \n",
              "23157  Positive     Pos         \n",
              "23158  Positive     Pos         \n",
              "\n",
              "[23159 rows x 3 columns]"
            ],
            "text/html": [
              "\n",
              "  <div id=\"df-4dc34700-7293-4b99-b639-40ae71cf8e3e\">\n",
              "    <div class=\"colab-df-container\">\n",
              "      <div>\n",
              "<style scoped>\n",
              "    .dataframe tbody tr th:only-of-type {\n",
              "        vertical-align: middle;\n",
              "    }\n",
              "\n",
              "    .dataframe tbody tr th {\n",
              "        vertical-align: top;\n",
              "    }\n",
              "\n",
              "    .dataframe thead th {\n",
              "        text-align: right;\n",
              "    }\n",
              "</style>\n",
              "<table border=\"1\" class=\"dataframe\">\n",
              "  <thead>\n",
              "    <tr style=\"text-align: right;\">\n",
              "      <th></th>\n",
              "      <th>Review-Body</th>\n",
              "      <th>review_score</th>\n",
              "      <th>review_comp</th>\n",
              "    </tr>\n",
              "  </thead>\n",
              "  <tbody>\n",
              "    <tr>\n",
              "      <th>0</th>\n",
              "      <td>Hang problem</td>\n",
              "      <td>Negative</td>\n",
              "      <td>Neg</td>\n",
              "    </tr>\n",
              "    <tr>\n",
              "      <th>1</th>\n",
              "      <td>I'm writing this review after using 3days !!!Be to honest this is normal Android phoneIt's not like OnePlusCamera quality very low it says 64mp but notSound also lowBattery 🔋 backup ok !!! For one day normal use itsIf ur Gamer don't go for itOverall price it High for this handsetIf u really wanna buy OnePlus ho for higher end modelI'm first time buying OnePlusLittle disappointment</td>\n",
              "      <td>Negative</td>\n",
              "      <td>Neg</td>\n",
              "    </tr>\n",
              "    <tr>\n",
              "      <th>2</th>\n",
              "      <td>Camera is so good n very fast phone back look is awesomeWith dis price segment it's worth it n d most important thing is the phone has dedicated memory card slot I think dis is the first one plus phone which has d dedicated slot for memory cardBattery backup is also good n wit the help of 65w charger u can charge ur phone frm 50-100% in just 15 minsIt has the super vooc charger frm Dat u can charge ur phone very fastVery smooth touch n very fast phone u can play games with no lagInternet connectivity is also fast n lightning wit my Jio sim as u can c I hav pasted one photo showing d downloading speed of 11mbps wit my cellular networkI think everyone who wants to buy dis phone just go for itI think oneplus launched dis phone with lots of good features n d most important thing is price is very lessI recommendJust go for itThank u oneplus n Amazon for dis wonderful product</td>\n",
              "      <td>Positive</td>\n",
              "      <td>Pos</td>\n",
              "    </tr>\n",
              "    <tr>\n",
              "      <th>3</th>\n",
              "      <td>The media could not be loaded.\\n                \\n\\n\\n\\n It’s A average product decent for day to day activity.. one the thing I would like to mention that exchange was Far Far alot Good On amazon it was like 2 to 3 minutes and delivery agent was very Good with me although I had 2 scratches on it but he neglected it as it was minor scratches and I exchanged poco m2 pro 6 64gb variant which was exchanged for rupees 10100. I bought it at 12499 1 and Half year ago and sold it at at very good price!! So plus point To amazonComing Back to device I would say it’s a ok device camera is average performance is Fine one plus is losing it’s originality oxygen os to color or..WARP CHARGER TO VOOC CHARGER!! yes it has been taken by oppo!! I wish the way we believed in one plus doesn’t change with it as A one plus Fan We don’t want To merge with Other brands please keep your Originality Maintained!! thanx amazon for such a hasselfree exchange alot better than FLIPKART</td>\n",
              "      <td>Positive</td>\n",
              "      <td>Pos</td>\n",
              "    </tr>\n",
              "    <tr>\n",
              "      <th>4</th>\n",
              "      <td>I got my delivery on 23 feb when I unboxed the phone the display was damaged. I requested for replacement of my new phone so technician was suppose to come for inspection but instead of a visit he just talked on call and asked me to install an application. He did not even saw the damage of my display screen.Lets hope amazon does it right replace my phone. Will update the rest later.But amazon pls consider my request and replace the item as soon as possibleEdit- The phone is perfect... They replaced it and now everything is perfect...Camera quality is as expected very perfectOverall performance bestYou can go for it</td>\n",
              "      <td>Positive</td>\n",
              "      <td>Pos</td>\n",
              "    </tr>\n",
              "    <tr>\n",
              "      <th>...</th>\n",
              "      <td>...</td>\n",
              "      <td>...</td>\n",
              "      <td>...</td>\n",
              "    </tr>\n",
              "    <tr>\n",
              "      <th>23154</th>\n",
              "      <td>Must he Bhai iss range me bas cemra thoda sa shi nhi he</td>\n",
              "      <td>Neutral</td>\n",
              "      <td>Neg</td>\n",
              "    </tr>\n",
              "    <tr>\n",
              "      <th>23155</th>\n",
              "      <td>Good product</td>\n",
              "      <td>Positive</td>\n",
              "      <td>Pos</td>\n",
              "    </tr>\n",
              "    <tr>\n",
              "      <th>23156</th>\n",
              "      <td>Good</td>\n",
              "      <td>Positive</td>\n",
              "      <td>Pos</td>\n",
              "    </tr>\n",
              "    <tr>\n",
              "      <th>23157</th>\n",
              "      <td>Don't buy this mobile phone money weast screen tach problem,no camera quality, no battery 🔋 life, Phone very slow, please don't buy this mobile phone please 🙏🙏🙏🙏🙏</td>\n",
              "      <td>Positive</td>\n",
              "      <td>Pos</td>\n",
              "    </tr>\n",
              "    <tr>\n",
              "      <th>23158</th>\n",
              "      <td>Phone is Good . Camera not upto the mark. UI is complicated.</td>\n",
              "      <td>Positive</td>\n",
              "      <td>Pos</td>\n",
              "    </tr>\n",
              "  </tbody>\n",
              "</table>\n",
              "<p>23159 rows × 3 columns</p>\n",
              "</div>\n",
              "      <button class=\"colab-df-convert\" onclick=\"convertToInteractive('df-4dc34700-7293-4b99-b639-40ae71cf8e3e')\"\n",
              "              title=\"Convert this dataframe to an interactive table.\"\n",
              "              style=\"display:none;\">\n",
              "        \n",
              "  <svg xmlns=\"http://www.w3.org/2000/svg\" height=\"24px\"viewBox=\"0 0 24 24\"\n",
              "       width=\"24px\">\n",
              "    <path d=\"M0 0h24v24H0V0z\" fill=\"none\"/>\n",
              "    <path d=\"M18.56 5.44l.94 2.06.94-2.06 2.06-.94-2.06-.94-.94-2.06-.94 2.06-2.06.94zm-11 1L8.5 8.5l.94-2.06 2.06-.94-2.06-.94L8.5 2.5l-.94 2.06-2.06.94zm10 10l.94 2.06.94-2.06 2.06-.94-2.06-.94-.94-2.06-.94 2.06-2.06.94z\"/><path d=\"M17.41 7.96l-1.37-1.37c-.4-.4-.92-.59-1.43-.59-.52 0-1.04.2-1.43.59L10.3 9.45l-7.72 7.72c-.78.78-.78 2.05 0 2.83L4 21.41c.39.39.9.59 1.41.59.51 0 1.02-.2 1.41-.59l7.78-7.78 2.81-2.81c.8-.78.8-2.07 0-2.86zM5.41 20L4 18.59l7.72-7.72 1.47 1.35L5.41 20z\"/>\n",
              "  </svg>\n",
              "      </button>\n",
              "      \n",
              "  <style>\n",
              "    .colab-df-container {\n",
              "      display:flex;\n",
              "      flex-wrap:wrap;\n",
              "      gap: 12px;\n",
              "    }\n",
              "\n",
              "    .colab-df-convert {\n",
              "      background-color: #E8F0FE;\n",
              "      border: none;\n",
              "      border-radius: 50%;\n",
              "      cursor: pointer;\n",
              "      display: none;\n",
              "      fill: #1967D2;\n",
              "      height: 32px;\n",
              "      padding: 0 0 0 0;\n",
              "      width: 32px;\n",
              "    }\n",
              "\n",
              "    .colab-df-convert:hover {\n",
              "      background-color: #E2EBFA;\n",
              "      box-shadow: 0px 1px 2px rgba(60, 64, 67, 0.3), 0px 1px 3px 1px rgba(60, 64, 67, 0.15);\n",
              "      fill: #174EA6;\n",
              "    }\n",
              "\n",
              "    [theme=dark] .colab-df-convert {\n",
              "      background-color: #3B4455;\n",
              "      fill: #D2E3FC;\n",
              "    }\n",
              "\n",
              "    [theme=dark] .colab-df-convert:hover {\n",
              "      background-color: #434B5C;\n",
              "      box-shadow: 0px 1px 3px 1px rgba(0, 0, 0, 0.15);\n",
              "      filter: drop-shadow(0px 1px 2px rgba(0, 0, 0, 0.3));\n",
              "      fill: #FFFFFF;\n",
              "    }\n",
              "  </style>\n",
              "\n",
              "      <script>\n",
              "        const buttonEl =\n",
              "          document.querySelector('#df-4dc34700-7293-4b99-b639-40ae71cf8e3e button.colab-df-convert');\n",
              "        buttonEl.style.display =\n",
              "          google.colab.kernel.accessAllowed ? 'block' : 'none';\n",
              "\n",
              "        async function convertToInteractive(key) {\n",
              "          const element = document.querySelector('#df-4dc34700-7293-4b99-b639-40ae71cf8e3e');\n",
              "          const dataTable =\n",
              "            await google.colab.kernel.invokeFunction('convertToInteractive',\n",
              "                                                     [key], {});\n",
              "          if (!dataTable) return;\n",
              "\n",
              "          const docLinkHtml = 'Like what you see? Visit the ' +\n",
              "            '<a target=\"_blank\" href=https://colab.research.google.com/notebooks/data_table.ipynb>data table notebook</a>'\n",
              "            + ' to learn more about interactive tables.';\n",
              "          element.innerHTML = '';\n",
              "          dataTable['output_type'] = 'display_data';\n",
              "          await google.colab.output.renderOutput(dataTable, element);\n",
              "          const docLink = document.createElement('div');\n",
              "          docLink.innerHTML = docLinkHtml;\n",
              "          element.appendChild(docLink);\n",
              "        }\n",
              "      </script>\n",
              "    </div>\n",
              "  </div>\n",
              "  "
            ]
          },
          "metadata": {},
          "execution_count": 19
        }
      ]
    },
    {
      "cell_type": "code",
      "source": [
        "sentiment_analyse(\"Don't buy this mobile phone money weast screen tach problem,no camera quality, no battery life,Phone very slow,\")# please don't buy this mobile phone please \")"
      ],
      "metadata": {
        "id": "KcrHVDNJHIuX",
        "colab": {
          "base_uri": "https://localhost:8080/",
          "height": 35
        },
        "outputId": "bc36e2bc-1ca9-4b0a-fd20-c7151eaec1c7"
      },
      "execution_count": null,
      "outputs": [
        {
          "output_type": "execute_result",
          "data": {
            "text/plain": [
              "'Negative'"
            ],
            "application/vnd.google.colaboratory.intrinsic+json": {
              "type": "string"
            }
          },
          "metadata": {},
          "execution_count": 23
        }
      ]
    },
    {
      "cell_type": "code",
      "source": [
        "a = 'This was a bad movie.'\n",
        "sid.polarity_scores(a)"
      ],
      "metadata": {
        "id": "o95JcEfyHInd",
        "colab": {
          "base_uri": "https://localhost:8080/"
        },
        "outputId": "4f31ec5e-cf78-4943-f137-b8c79a0d911f"
      },
      "execution_count": null,
      "outputs": [
        {
          "output_type": "execute_result",
          "data": {
            "text/plain": [
              "{'compound': -0.5423, 'neg': 0.538, 'neu': 0.462, 'pos': 0.0}"
            ]
          },
          "metadata": {},
          "execution_count": 31
        }
      ]
    },
    {
      "cell_type": "code",
      "source": [
        "sid.polarity_scores('The shoes I brought were amazing.')\n"
      ],
      "metadata": {
        "id": "nf5cLZRrEV8u",
        "colab": {
          "base_uri": "https://localhost:8080/"
        },
        "outputId": "e2dfcb08-8232-4594-ec23-44011ff0c7e7"
      },
      "execution_count": null,
      "outputs": [
        {
          "output_type": "execute_result",
          "data": {
            "text/plain": [
              "{'compound': 0.5859, 'neg': 0.0, 'neu': 0.513, 'pos': 0.487}"
            ]
          },
          "metadata": {},
          "execution_count": 28
        }
      ]
    },
    {
      "cell_type": "code",
      "source": [
        "sentiment_analyse(\"please don't buy this mobile phone please\")"
      ],
      "metadata": {
        "id": "EgCHmV3yHIsq",
        "colab": {
          "base_uri": "https://localhost:8080/",
          "height": 35
        },
        "outputId": "ebd955a8-ef65-4cee-e427-454e5e7e8bdd"
      },
      "execution_count": null,
      "outputs": [
        {
          "output_type": "execute_result",
          "data": {
            "text/plain": [
              "'Positive'"
            ],
            "application/vnd.google.colaboratory.intrinsic+json": {
              "type": "string"
            }
          },
          "metadata": {},
          "execution_count": 25
        }
      ]
    },
    {
      "cell_type": "code",
      "source": [
        "sentiment_analyse(\"The shoes I brought were amazing.\")"
      ],
      "metadata": {
        "colab": {
          "base_uri": "https://localhost:8080/",
          "height": 35
        },
        "id": "_UzxSKEfZ12p",
        "outputId": "1d858c7d-e93c-4f1e-8599-caffbcba5f6d"
      },
      "execution_count": null,
      "outputs": [
        {
          "output_type": "execute_result",
          "data": {
            "text/plain": [
              "'Positive'"
            ],
            "application/vnd.google.colaboratory.intrinsic+json": {
              "type": "string"
            }
          },
          "metadata": {},
          "execution_count": 15
        }
      ]
    },
    {
      "cell_type": "code",
      "source": [
        "comp_score('The shoes I brought were amazing.')"
      ],
      "metadata": {
        "colab": {
          "base_uri": "https://localhost:8080/",
          "height": 35
        },
        "id": "c6Fv8oQxO1y-",
        "outputId": "f82649e9-d136-483a-b866-929d6d4d9fd2"
      },
      "execution_count": null,
      "outputs": [
        {
          "output_type": "execute_result",
          "data": {
            "text/plain": [
              "'Pos'"
            ],
            "application/vnd.google.colaboratory.intrinsic+json": {
              "type": "string"
            }
          },
          "metadata": {},
          "execution_count": 12
        }
      ]
    },
    {
      "cell_type": "code",
      "source": [
        "comp_score(\"please don't buy this mobile phone please\")"
      ],
      "metadata": {
        "colab": {
          "base_uri": "https://localhost:8080/",
          "height": 35
        },
        "id": "DzAY_5UxZqiE",
        "outputId": "e5eb261f-e62b-46bc-9dd6-c3662f930962"
      },
      "execution_count": null,
      "outputs": [
        {
          "output_type": "execute_result",
          "data": {
            "text/plain": [
              "'Pos'"
            ],
            "application/vnd.google.colaboratory.intrinsic+json": {
              "type": "string"
            }
          },
          "metadata": {},
          "execution_count": 13
        }
      ]
    },
    {
      "cell_type": "code",
      "source": [
        "txt1='Must he Bhai iss range me bas cemra thoda sa shi nhi he'"
      ],
      "metadata": {
        "id": "p8Y2VlVO6Gf9"
      },
      "execution_count": null,
      "outputs": []
    },
    {
      "cell_type": "code",
      "source": [
        ""
      ],
      "metadata": {
        "id": "f1MDcPJD6KCh",
        "outputId": "2f5b2ac5-853e-461c-a710-adcb6521b80e",
        "colab": {
          "base_uri": "https://localhost:8080/"
        }
      },
      "execution_count": null,
      "outputs": [
        {
          "output_type": "execute_result",
          "data": {
            "text/plain": [
              "[]"
            ]
          },
          "metadata": {},
          "execution_count": 2
        }
      ]
    }
  ]
}