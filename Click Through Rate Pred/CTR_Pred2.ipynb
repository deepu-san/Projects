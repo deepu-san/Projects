{
  "cells": [
    {
      "cell_type": "code",
      "execution_count": 26,
      "id": "13c47ef1",
      "metadata": {
        "id": "13c47ef1"
      },
      "outputs": [],
      "source": [
        "import numpy as np\n",
        "import matplotlib.pyplot as plt\n",
        "import pandas as pd\n",
        "import seaborn as sns\n",
        "from sklearn import metrics \n",
        "\n",
        "\n",
        "from sklearn.model_selection import train_test_split\n",
        "from sklearn.linear_model import LinearRegression\n",
        "from sklearn.ensemble import RandomForestRegressor\n",
        "from sklearn.metrics import r2_score\n",
        "from sklearn.preprocessing import StandardScaler\n",
        "from sklearn.decomposition import PCA\n",
        "\n",
        "from xgboost import XGBRegressor\n",
        "\n",
        "from sklearn.model_selection import GridSearchCV"
      ]
    },
    {
      "cell_type": "markdown",
      "source": [
        "### LOAD DATA"
      ],
      "metadata": {
        "id": "kXSOzh6qMP0P"
      },
      "id": "kXSOzh6qMP0P"
    },
    {
      "cell_type": "code",
      "execution_count": 2,
      "id": "b7e11a64",
      "metadata": {
        "scrolled": true,
        "id": "b7e11a64"
      },
      "outputs": [],
      "source": [
        "path_train=\"https://raw.githubusercontent.com/deepu-san/Projects/main/Click%20Through%20Rate%20Pred/train.csv\"\n",
        "path_test=\"https://raw.githubusercontent.com/deepu-san/Projects/main/Click%20Through%20Rate%20Pred/test.csv\"\n",
        "df = pd.read_csv(path_train)\n",
        "df_test=pd.read_csv(path_test)\n",
        "df_testcopy = df_test.copy()"
      ]
    },
    {
      "cell_type": "code",
      "execution_count": null,
      "id": "4e74b485",
      "metadata": {
        "id": "4e74b485"
      },
      "outputs": [],
      "source": [
        "df.info()"
      ]
    },
    {
      "cell_type": "markdown",
      "id": "d802206f",
      "metadata": {
        "id": "d802206f"
      },
      "source": [
        "### EDA"
      ]
    },
    {
      "cell_type": "markdown",
      "id": "c892141a",
      "metadata": {
        "id": "c892141a"
      },
      "source": [
        "**Removing or modifying certain features**"
      ]
    },
    {
      "cell_type": "markdown",
      "id": "79c04133",
      "metadata": {
        "id": "79c04133"
      },
      "source": [
        "1) is_timer indicates if an email contains a timer or not."
      ]
    },
    {
      "cell_type": "code",
      "execution_count": null,
      "id": "120ab5ea",
      "metadata": {
        "scrolled": true,
        "id": "120ab5ea",
        "outputId": "8b7a7aee-f504-4198-f2b6-5e6a7175cac0",
        "colab": {
          "base_uri": "https://localhost:8080/"
        }
      },
      "outputs": [
        {
          "output_type": "execute_result",
          "data": {
            "text/plain": [
              "0    1888\n",
              "Name: is_timer, dtype: int64"
            ]
          },
          "metadata": {},
          "execution_count": 6
        }
      ],
      "source": [
        "df['is_timer'].value_counts()"
      ]
    },
    {
      "cell_type": "markdown",
      "id": "1afbc96b",
      "metadata": {
        "id": "1afbc96b"
      },
      "source": [
        "All the available data have is_timer values to be 0 (no timer). So this features is redundant and can be removed."
      ]
    },
    {
      "cell_type": "code",
      "execution_count": 3,
      "id": "20295f8b",
      "metadata": {
        "id": "20295f8b"
      },
      "outputs": [],
      "source": [
        "df.drop(columns = ['is_timer'], inplace = True)"
      ]
    },
    {
      "cell_type": "markdown",
      "id": "f6b8070a",
      "metadata": {
        "id": "f6b8070a"
      },
      "source": [
        "2) Its stated in the information that 'is_price' indicates if the email contains a price or not. But the actual data indicates whether there is no price (0) and different price amounts (5499, 8000, 5000 etc.)."
      ]
    },
    {
      "cell_type": "code",
      "execution_count": null,
      "id": "75b711e5",
      "metadata": {
        "scrolled": true,
        "id": "75b711e5",
        "outputId": "31c199f8-ad8d-4fcd-bd6a-a9b7d7ee1bd8",
        "colab": {
          "base_uri": "https://localhost:8080/"
        }
      },
      "outputs": [
        {
          "output_type": "execute_result",
          "data": {
            "text/plain": [
              "0        1875\n",
              "5499        5\n",
              "8000        2\n",
              "5000        2\n",
              "4999        1\n",
              "1399        1\n",
              "1000        1\n",
              "14999       1\n",
              "Name: is_price, dtype: int64"
            ]
          },
          "metadata": {},
          "execution_count": 8
        }
      ],
      "source": [
        "df['is_price'].value_counts()"
      ]
    },
    {
      "cell_type": "markdown",
      "id": "5c65ce06",
      "metadata": {
        "id": "5c65ce06"
      },
      "source": [
        "Since, frequency of all the price values added together is very less, we can group them all together to 1 (referring to yes)."
      ]
    },
    {
      "cell_type": "code",
      "execution_count": 4,
      "id": "287c05ee",
      "metadata": {
        "id": "287c05ee"
      },
      "outputs": [],
      "source": [
        "# converting all non zero values to 1\n",
        "df['is_price'] = df['is_price'].apply(lambda x: 1 if x != 0 else 0)"
      ]
    },
    {
      "cell_type": "markdown",
      "id": "f179e4dc",
      "metadata": {
        "id": "f179e4dc"
      },
      "source": [
        "Now is_price is a binary category with 1 (yes) and 0 (no)."
      ]
    },
    {
      "cell_type": "markdown",
      "id": "213e533f",
      "metadata": {
        "id": "213e533f"
      },
      "source": [
        "3) campaign_id and sender information can be ignored as they are just identification."
      ]
    },
    {
      "cell_type": "code",
      "execution_count": 5,
      "id": "31a94e40",
      "metadata": {
        "id": "31a94e40"
      },
      "outputs": [],
      "source": [
        "df.drop(columns = ['campaign_id', 'sender'], inplace = True)"
      ]
    },
    {
      "cell_type": "markdown",
      "id": "9544f6de",
      "metadata": {
        "id": "9544f6de"
      },
      "source": [
        "**Categorical features**"
      ]
    },
    {
      "cell_type": "code",
      "execution_count": null,
      "id": "60343285",
      "metadata": {
        "id": "60343285"
      },
      "outputs": [],
      "source": [
        "cat_features = ['day_of_week', 'times_of_day','category','product','is_image','is_personalised','is_quote','is_emoticons',\n",
        "               'is_discount','is_price','is_urgency','target_audience']"
      ]
    },
    {
      "cell_type": "code",
      "execution_count": null,
      "id": "aa7df0b5",
      "metadata": {
        "id": "aa7df0b5",
        "outputId": "cf7288ba-8fdd-40d4-905d-4a24838cb52e",
        "colab": {
          "base_uri": "https://localhost:8080/",
          "height": 1000
        }
      },
      "outputs": [
        {
          "output_type": "display_data",
          "data": {
            "text/plain": [
              "<Figure size 432x288 with 1 Axes>"
            ],
            "image/png": "[encoded data removed]"
          },
          "metadata": {}
        },
        {
          "output_type": "display_data",
          "data": {
            "text/plain": [
              "<Figure size 432x288 with 1 Axes>"
            ],
            "image/png": "[encoded data removed]"
          },
          "metadata": {}
        },
        {
          "output_type": "display_data",
          "data": {
            "text/plain": [
              "<Figure size 432x288 with 1 Axes>"
            ],
            "image/png": "[encoded data removed]"
          },
          "metadata": {}
        },
        {
          "output_type": "display_data",
          "data": {
            "text/plain": [
              "<Figure size 432x288 with 1 Axes>"
            ],
            "image/png": "[encoded data removed]"
          },
          "metadata": {}
        },
        {
          "output_type": "display_data",
          "data": {
            "text/plain": [
              "<Figure size 432x288 with 1 Axes>"
            ],
            "image/png": "[encoded data removed]"
          },
          "metadata": {}
        },
        {
          "output_type": "display_data",
          "data": {
            "text/plain": [
              "<Figure size 432x288 with 1 Axes>"
            ],
            "image/png": "[encoded data removed]"
          },
          "metadata": {}
        },
        {
          "output_type": "display_data",
          "data": {
            "text/plain": [
              "<Figure size 432x288 with 1 Axes>"
            ],
            "image/png": "[encoded data removed]"
          },
          "metadata": {}
        },
        {
          "output_type": "display_data",
          "data": {
            "text/plain": [
              "<Figure size 432x288 with 1 Axes>"
            ],
            "image/png": "[encoded data removed]"
          },
          "metadata": {}
        },
        {
          "output_type": "display_data",
          "data": {
            "text/plain": [
              "<Figure size 432x288 with 1 Axes>"
            ],
            "image/png": "[encoded data removed]"
          },
          "metadata": {}
        },
        {
          "output_type": "display_data",
          "data": {
            "text/plain": [
              "<Figure size 432x288 with 1 Axes>"
            ],
            "image/png": "[encoded data removed]"
          },
          "metadata": {}
        },
        {
          "output_type": "display_data",
          "data": {
            "text/plain": [
              "<Figure size 432x288 with 1 Axes>"
            ],
            "image/png": "[encoded data removed]"
          },
          "metadata": {}
        },
        {
          "output_type": "display_data",
          "data": {
            "text/plain": [
              "<Figure size 432x288 with 1 Axes>"
            ],
            "image/png": "[encoded data removed]"
          },
          "metadata": {}
        }
      ],
      "source": [
        "# plotting pie chart\n",
        "for feature in cat_features:\n",
        "    labels = df[feature].value_counts().index.tolist()\n",
        "    sizes = df[feature].value_counts().tolist()\n",
        "\n",
        "    plt.pie(sizes, labels=labels, autopct='%1.1f%%', radius=1)\n",
        "    plt.title(f'{feature} Pie Chart')\n",
        "    plt.show()"
      ]
    },
    {
      "cell_type": "markdown",
      "id": "1b0279f9",
      "metadata": {
        "id": "1b0279f9"
      },
      "source": [
        "**Category feature**"
      ]
    },
    {
      "cell_type": "code",
      "execution_count": 6,
      "id": "866fcda5",
      "metadata": {
        "id": "866fcda5"
      },
      "outputs": [],
      "source": [
        "# joining the less frequent is image classes together\n",
        "df['is_quote'] = df['is_quote'].apply(lambda x: 'others' if x not in [0,1,2,3] else str(x))"
      ]
    },
    {
      "cell_type": "code",
      "execution_count": null,
      "id": "b695ca1b",
      "metadata": {
        "scrolled": true,
        "id": "b695ca1b",
        "outputId": "bd187737-c5a7-4e29-86f2-c54cc7f0ebb9",
        "colab": {
          "base_uri": "https://localhost:8080/"
        }
      },
      "outputs": [
        {
          "output_type": "execute_result",
          "data": {
            "text/plain": [
              "is_emoticons\n",
              "0    0.045905\n",
              "2    0.037820\n",
              "4    0.022907\n",
              "6    0.015958\n",
              "1    0.011607\n",
              "3    0.009313\n",
              "Name: click_rate, dtype: float64"
            ]
          },
          "metadata": {},
          "execution_count": 24
        }
      ],
      "source": [
        "# average click rate of each category\n",
        "df.groupby('is_emoticons')['click_rate'].mean().sort_values(ascending = False)"
      ]
    },
    {
      "cell_type": "code",
      "execution_count": 7,
      "id": "5dccc360",
      "metadata": {
        "id": "5dccc360"
      },
      "outputs": [],
      "source": [
        "# joining the less frequent is image classes together\n",
        "df['is_emoticons'] = df['is_emoticons'].apply(lambda x: 'others' if x not in [0,1,2] else str(x))"
      ]
    },
    {
      "cell_type": "code",
      "execution_count": null,
      "id": "ced6f21e",
      "metadata": {
        "id": "ced6f21e",
        "outputId": "e3775257-d02c-41c8-c74e-bdfedb84760e",
        "colab": {
          "base_uri": "https://localhost:8080/"
        }
      },
      "outputs": [
        {
          "output_type": "execute_result",
          "data": {
            "text/plain": [
              "0         1626\n",
              "1          172\n",
              "2           54\n",
              "others      36\n",
              "Name: is_emoticons, dtype: int64"
            ]
          },
          "metadata": {},
          "execution_count": 26
        }
      ],
      "source": [
        "df['is_emoticons'].value_counts()"
      ]
    },
    {
      "cell_type": "markdown",
      "id": "30bb7416",
      "metadata": {
        "id": "30bb7416"
      },
      "source": [
        "**is price** (dropping is price)"
      ]
    },
    {
      "cell_type": "code",
      "execution_count": 8,
      "id": "33a27f7d",
      "metadata": {
        "id": "33a27f7d"
      },
      "outputs": [],
      "source": [
        "# dropping is price because of very few 1 value and less effect on click rate\n",
        "df.drop(columns = ['is_price'], inplace = True)"
      ]
    },
    {
      "cell_type": "markdown",
      "id": "407eca61",
      "metadata": {
        "id": "407eca61"
      },
      "source": [
        "**target audience**"
      ]
    },
    {
      "cell_type": "code",
      "execution_count": null,
      "id": "7daeab40",
      "metadata": {
        "scrolled": true,
        "id": "7daeab40",
        "outputId": "24dc51c5-384d-4042-b97f-d0f5f8c5fee9",
        "colab": {
          "base_uri": "https://localhost:8080/"
        }
      },
      "outputs": [
        {
          "output_type": "execute_result",
          "data": {
            "text/plain": [
              "['subject_len',\n",
              " 'body_len',\n",
              " 'mean_paragraph_len',\n",
              " 'is_weekend',\n",
              " 'no_of_CTA',\n",
              " 'mean_CTA_len',\n",
              " 'click_rate']"
            ]
          },
          "metadata": {},
          "execution_count": 31
        }
      ],
      "source": [
        "num_features = []\n",
        "for elem in list(df.columns):\n",
        "    if elem not in cat_features:\n",
        "        num_features.append(elem)\n",
        "        \n",
        "num_features"
      ]
    },
    {
      "cell_type": "markdown",
      "id": "43a48c1e",
      "metadata": {
        "id": "43a48c1e"
      },
      "source": [
        "#### Target encoding"
      ]
    },
    {
      "cell_type": "code",
      "source": [
        "!pip install category_encoders"
      ],
      "metadata": {
        "colab": {
          "base_uri": "https://localhost:8080/"
        },
        "id": "G5OnBAHvIAv3",
        "outputId": "df7c0c56-6843-4cf2-b894-42052a189ec9"
      },
      "id": "G5OnBAHvIAv3",
      "execution_count": 10,
      "outputs": [
        {
          "output_type": "stream",
          "name": "stdout",
          "text": [
            "Looking in indexes: https://pypi.org/simple, https://us-python.pkg.dev/colab-wheels/public/simple/\n",
            "Collecting category_encoders\n",
            "  Downloading category_encoders-2.5.0-py2.py3-none-any.whl (69 kB)\n",
            "\u001b[K     |████████████████████████████████| 69 kB 6.4 MB/s \n",
            "\u001b[?25hRequirement already satisfied: pandas>=1.0.5 in /usr/local/lib/python3.7/dist-packages (from category_encoders) (1.3.5)\n",
            "Requirement already satisfied: scikit-learn>=0.20.0 in /usr/local/lib/python3.7/dist-packages (from category_encoders) (1.0.2)\n",
            "Requirement already satisfied: numpy>=1.14.0 in /usr/local/lib/python3.7/dist-packages (from category_encoders) (1.21.6)\n",
            "Requirement already satisfied: scipy>=1.0.0 in /usr/local/lib/python3.7/dist-packages (from category_encoders) (1.7.3)\n",
            "Requirement already satisfied: patsy>=0.5.1 in /usr/local/lib/python3.7/dist-packages (from category_encoders) (0.5.2)\n",
            "Requirement already satisfied: statsmodels>=0.9.0 in /usr/local/lib/python3.7/dist-packages (from category_encoders) (0.10.2)\n",
            "Requirement already satisfied: pytz>=2017.3 in /usr/local/lib/python3.7/dist-packages (from pandas>=1.0.5->category_encoders) (2022.1)\n",
            "Requirement already satisfied: python-dateutil>=2.7.3 in /usr/local/lib/python3.7/dist-packages (from pandas>=1.0.5->category_encoders) (2.8.2)\n",
            "Requirement already satisfied: six in /usr/local/lib/python3.7/dist-packages (from patsy>=0.5.1->category_encoders) (1.15.0)\n",
            "Requirement already satisfied: threadpoolctl>=2.0.0 in /usr/local/lib/python3.7/dist-packages (from scikit-learn>=0.20.0->category_encoders) (3.1.0)\n",
            "Requirement already satisfied: joblib>=0.11 in /usr/local/lib/python3.7/dist-packages (from scikit-learn>=0.20.0->category_encoders) (1.1.0)\n",
            "Installing collected packages: category-encoders\n",
            "Successfully installed category-encoders-2.5.0\n"
          ]
        }
      ]
    },
    {
      "cell_type": "code",
      "execution_count": 11,
      "id": "edc0f5ed",
      "metadata": {
        "id": "edc0f5ed",
        "colab": {
          "base_uri": "https://localhost:8080/"
        },
        "outputId": "486372bd-3c63-4b88-ba8b-25b8114a060c"
      },
      "outputs": [
        {
          "output_type": "stream",
          "name": "stderr",
          "text": [
            "/usr/local/lib/python3.7/dist-packages/statsmodels/tools/_testing.py:19: FutureWarning: pandas.util.testing is deprecated. Use the functions in the public API at pandas.testing instead.\n",
            "  import pandas.util.testing as tm\n"
          ]
        }
      ],
      "source": [
        "from category_encoders.target_encoder import TargetEncoder"
      ]
    },
    {
      "cell_type": "code",
      "execution_count": null,
      "id": "850db173",
      "metadata": {
        "id": "850db173"
      },
      "outputs": [],
      "source": [
        "# # Install a pip package in the current Jupyter kernel\n",
        "# import sys\n",
        "# !{sys.executable} -m pip install category_encoders"
      ]
    },
    {
      "cell_type": "markdown",
      "id": "735e05fa",
      "metadata": {
        "id": "735e05fa"
      },
      "source": [
        "**Category feature**"
      ]
    },
    {
      "cell_type": "code",
      "execution_count": 12,
      "id": "4620edcb",
      "metadata": {
        "id": "4620edcb"
      },
      "outputs": [],
      "source": [
        "# need to convert the integer values representing each category\n",
        "# to string for target encoders to work\n",
        "df['category'] = df['category'].apply(lambda x: str(x))\n",
        "df['target_audience'] = df['target_audience'].apply(lambda x: str(x))\n",
        "df['product'] = df['product'].apply(lambda x: str(x))"
      ]
    },
    {
      "cell_type": "code",
      "execution_count": 13,
      "id": "c73226a8",
      "metadata": {
        "id": "c73226a8",
        "outputId": "8389a3ac-7f72-426b-ab23-e74232cbb5e2",
        "colab": {
          "base_uri": "https://localhost:8080/"
        }
      },
      "outputs": [
        {
          "output_type": "stream",
          "name": "stderr",
          "text": [
            "/usr/local/lib/python3.7/dist-packages/category_encoders/target_encoder.py:94: FutureWarning: Default parameter min_samples_leaf will change in version 2.6.See https://github.com/scikit-learn-contrib/category_encoders/issues/327\n",
            "  category=FutureWarning)\n",
            "/usr/local/lib/python3.7/dist-packages/category_encoders/target_encoder.py:99: FutureWarning: Default parameter smoothing will change in version 2.6.See https://github.com/scikit-learn-contrib/category_encoders/issues/327\n",
            "  category=FutureWarning)\n"
          ]
        }
      ],
      "source": [
        "te_category = TargetEncoder()\n",
        "df['category'] = te_category.fit_transform(df['category'], df['click_rate'])\n",
        "\n",
        "te_target = TargetEncoder()\n",
        "df['target_audience'] = te_target.fit_transform(df['target_audience'], df['click_rate'])\n",
        "\n",
        "te_product = TargetEncoder()\n",
        "df['product'] = te_product.fit_transform(df['product'], df['click_rate'])"
      ]
    },
    {
      "cell_type": "markdown",
      "id": "e047078e",
      "metadata": {
        "id": "e047078e"
      },
      "source": [
        "### Fitting Models"
      ]
    },
    {
      "cell_type": "markdown",
      "id": "df0c5cac",
      "metadata": {
        "id": "df0c5cac"
      },
      "source": [
        "We can apply one hot encoding on the multiclass variables: product, category, times of day and target audience."
      ]
    },
    {
      "cell_type": "code",
      "execution_count": 14,
      "id": "b7be336c",
      "metadata": {
        "id": "b7be336c"
      },
      "outputs": [],
      "source": [
        "df1 = df.copy()"
      ]
    },
    {
      "cell_type": "code",
      "execution_count": 17,
      "id": "e1556274",
      "metadata": {
        "id": "e1556274",
        "outputId": "766519ec-8c14-46e6-d765-f5fce425a98b",
        "colab": {
          "base_uri": "https://localhost:8080/",
          "height": 300
        }
      },
      "outputs": [
        {
          "output_type": "execute_result",
          "data": {
            "text/plain": [
              "   subject_len  body_len  mean_paragraph_len  day_of_week  is_weekend  \\\n",
              "0           76     10439                  39            6           1   \n",
              "1           54      2570                 256            6           1   \n",
              "2           59     12801                  16            6           1   \n",
              "3           74     11037                  30            3           0   \n",
              "4           80     10011                  27            6           1   \n",
              "\n",
              "   times_of_day  category   product  no_of_CTA  mean_CTA_len  ...  is_urgency  \\\n",
              "0             1  0.067375  0.060373          3            29  ...           0   \n",
              "1             2  0.079360  0.079360          0            22  ...           0   \n",
              "2             1  0.079360  0.079360          3            23  ...           0   \n",
              "3             0  0.023565  0.018442          4            24  ...           0   \n",
              "4             1  0.067375  0.060373          3            31  ...           0   \n",
              "\n",
              "   target_audience  click_rate  is_quote_1  is_quote_2  is_quote_3  \\\n",
              "0         0.091743    0.103079           0           0           0   \n",
              "1         0.040149    0.700000           0           0           0   \n",
              "2         0.006947    0.002769           1           0           0   \n",
              "3         0.040149    0.010868           0           0           0   \n",
              "4         0.091743    0.142826           1           0           0   \n",
              "\n",
              "   is_quote_others  is_emoticons_1  is_emoticons_2  is_emoticons_others  \n",
              "0                0               0               0                    0  \n",
              "1                0               0               0                    0  \n",
              "2                0               0               0                    0  \n",
              "3                0               0               0                    0  \n",
              "4                0               0               0                    0  \n",
              "\n",
              "[5 rows x 23 columns]"
            ],
            "text/html": [
              "\n",
              "  <div id=\"df-5bf83a6c-f0ab-4ddb-8398-6982f5e31b08\">\n",
              "    <div class=\"colab-df-container\">\n",
              "      <div>\n",
              "<style scoped>\n",
              "    .dataframe tbody tr th:only-of-type {\n",
              "        vertical-align: middle;\n",
              "    }\n",
              "\n",
              "    .dataframe tbody tr th {\n",
              "        vertical-align: top;\n",
              "    }\n",
              "\n",
              "    .dataframe thead th {\n",
              "        text-align: right;\n",
              "    }\n",
              "</style>\n",
              "<table border=\"1\" class=\"dataframe\">\n",
              "  <thead>\n",
              "    <tr style=\"text-align: right;\">\n",
              "      <th></th>\n",
              "      <th>subject_len</th>\n",
              "      <th>body_len</th>\n",
              "      <th>mean_paragraph_len</th>\n",
              "      <th>day_of_week</th>\n",
              "      <th>is_weekend</th>\n",
              "      <th>times_of_day</th>\n",
              "      <th>category</th>\n",
              "      <th>product</th>\n",
              "      <th>no_of_CTA</th>\n",
              "      <th>mean_CTA_len</th>\n",
              "      <th>...</th>\n",
              "      <th>is_urgency</th>\n",
              "      <th>target_audience</th>\n",
              "      <th>click_rate</th>\n",
              "      <th>is_quote_1</th>\n",
              "      <th>is_quote_2</th>\n",
              "      <th>is_quote_3</th>\n",
              "      <th>is_quote_others</th>\n",
              "      <th>is_emoticons_1</th>\n",
              "      <th>is_emoticons_2</th>\n",
              "      <th>is_emoticons_others</th>\n",
              "    </tr>\n",
              "  </thead>\n",
              "  <tbody>\n",
              "    <tr>\n",
              "      <th>0</th>\n",
              "      <td>76</td>\n",
              "      <td>10439</td>\n",
              "      <td>39</td>\n",
              "      <td>6</td>\n",
              "      <td>1</td>\n",
              "      <td>1</td>\n",
              "      <td>0.067375</td>\n",
              "      <td>0.060373</td>\n",
              "      <td>3</td>\n",
              "      <td>29</td>\n",
              "      <td>...</td>\n",
              "      <td>0</td>\n",
              "      <td>0.091743</td>\n",
              "      <td>0.103079</td>\n",
              "      <td>0</td>\n",
              "      <td>0</td>\n",
              "      <td>0</td>\n",
              "      <td>0</td>\n",
              "      <td>0</td>\n",
              "      <td>0</td>\n",
              "      <td>0</td>\n",
              "    </tr>\n",
              "    <tr>\n",
              "      <th>1</th>\n",
              "      <td>54</td>\n",
              "      <td>2570</td>\n",
              "      <td>256</td>\n",
              "      <td>6</td>\n",
              "      <td>1</td>\n",
              "      <td>2</td>\n",
              "      <td>0.079360</td>\n",
              "      <td>0.079360</td>\n",
              "      <td>0</td>\n",
              "      <td>22</td>\n",
              "      <td>...</td>\n",
              "      <td>0</td>\n",
              "      <td>0.040149</td>\n",
              "      <td>0.700000</td>\n",
              "      <td>0</td>\n",
              "      <td>0</td>\n",
              "      <td>0</td>\n",
              "      <td>0</td>\n",
              "      <td>0</td>\n",
              "      <td>0</td>\n",
              "      <td>0</td>\n",
              "    </tr>\n",
              "    <tr>\n",
              "      <th>2</th>\n",
              "      <td>59</td>\n",
              "      <td>12801</td>\n",
              "      <td>16</td>\n",
              "      <td>6</td>\n",
              "      <td>1</td>\n",
              "      <td>1</td>\n",
              "      <td>0.079360</td>\n",
              "      <td>0.079360</td>\n",
              "      <td>3</td>\n",
              "      <td>23</td>\n",
              "      <td>...</td>\n",
              "      <td>0</td>\n",
              "      <td>0.006947</td>\n",
              "      <td>0.002769</td>\n",
              "      <td>1</td>\n",
              "      <td>0</td>\n",
              "      <td>0</td>\n",
              "      <td>0</td>\n",
              "      <td>0</td>\n",
              "      <td>0</td>\n",
              "      <td>0</td>\n",
              "    </tr>\n",
              "    <tr>\n",
              "      <th>3</th>\n",
              "      <td>74</td>\n",
              "      <td>11037</td>\n",
              "      <td>30</td>\n",
              "      <td>3</td>\n",
              "      <td>0</td>\n",
              "      <td>0</td>\n",
              "      <td>0.023565</td>\n",
              "      <td>0.018442</td>\n",
              "      <td>4</td>\n",
              "      <td>24</td>\n",
              "      <td>...</td>\n",
              "      <td>0</td>\n",
              "      <td>0.040149</td>\n",
              "      <td>0.010868</td>\n",
              "      <td>0</td>\n",
              "      <td>0</td>\n",
              "      <td>0</td>\n",
              "      <td>0</td>\n",
              "      <td>0</td>\n",
              "      <td>0</td>\n",
              "      <td>0</td>\n",
              "    </tr>\n",
              "    <tr>\n",
              "      <th>4</th>\n",
              "      <td>80</td>\n",
              "      <td>10011</td>\n",
              "      <td>27</td>\n",
              "      <td>6</td>\n",
              "      <td>1</td>\n",
              "      <td>1</td>\n",
              "      <td>0.067375</td>\n",
              "      <td>0.060373</td>\n",
              "      <td>3</td>\n",
              "      <td>31</td>\n",
              "      <td>...</td>\n",
              "      <td>0</td>\n",
              "      <td>0.091743</td>\n",
              "      <td>0.142826</td>\n",
              "      <td>1</td>\n",
              "      <td>0</td>\n",
              "      <td>0</td>\n",
              "      <td>0</td>\n",
              "      <td>0</td>\n",
              "      <td>0</td>\n",
              "      <td>0</td>\n",
              "    </tr>\n",
              "  </tbody>\n",
              "</table>\n",
              "<p>5 rows × 23 columns</p>\n",
              "</div>\n",
              "      <button class=\"colab-df-convert\" onclick=\"convertToInteractive('df-5bf83a6c-f0ab-4ddb-8398-6982f5e31b08')\"\n",
              "              title=\"Convert this dataframe to an interactive table.\"\n",
              "              style=\"display:none;\">\n",
              "        \n",
              "  <svg xmlns=\"http://www.w3.org/2000/svg\" height=\"24px\"viewBox=\"0 0 24 24\"\n",
              "       width=\"24px\">\n",
              "    <path d=\"M0 0h24v24H0V0z\" fill=\"none\"/>\n",
              "    <path d=\"M18.56 5.44l.94 2.06.94-2.06 2.06-.94-2.06-.94-.94-2.06-.94 2.06-2.06.94zm-11 1L8.5 8.5l.94-2.06 2.06-.94-2.06-.94L8.5 2.5l-.94 2.06-2.06.94zm10 10l.94 2.06.94-2.06 2.06-.94-2.06-.94-.94-2.06-.94 2.06-2.06.94z\"/><path d=\"M17.41 7.96l-1.37-1.37c-.4-.4-.92-.59-1.43-.59-.52 0-1.04.2-1.43.59L10.3 9.45l-7.72 7.72c-.78.78-.78 2.05 0 2.83L4 21.41c.39.39.9.59 1.41.59.51 0 1.02-.2 1.41-.59l7.78-7.78 2.81-2.81c.8-.78.8-2.07 0-2.86zM5.41 20L4 18.59l7.72-7.72 1.47 1.35L5.41 20z\"/>\n",
              "  </svg>\n",
              "      </button>\n",
              "      \n",
              "  <style>\n",
              "    .colab-df-container {\n",
              "      display:flex;\n",
              "      flex-wrap:wrap;\n",
              "      gap: 12px;\n",
              "    }\n",
              "\n",
              "    .colab-df-convert {\n",
              "      background-color: #E8F0FE;\n",
              "      border: none;\n",
              "      border-radius: 50%;\n",
              "      cursor: pointer;\n",
              "      display: none;\n",
              "      fill: #1967D2;\n",
              "      height: 32px;\n",
              "      padding: 0 0 0 0;\n",
              "      width: 32px;\n",
              "    }\n",
              "\n",
              "    .colab-df-convert:hover {\n",
              "      background-color: #E2EBFA;\n",
              "      box-shadow: 0px 1px 2px rgba(60, 64, 67, 0.3), 0px 1px 3px 1px rgba(60, 64, 67, 0.15);\n",
              "      fill: #174EA6;\n",
              "    }\n",
              "\n",
              "    [theme=dark] .colab-df-convert {\n",
              "      background-color: #3B4455;\n",
              "      fill: #D2E3FC;\n",
              "    }\n",
              "\n",
              "    [theme=dark] .colab-df-convert:hover {\n",
              "      background-color: #434B5C;\n",
              "      box-shadow: 0px 1px 3px 1px rgba(0, 0, 0, 0.15);\n",
              "      filter: drop-shadow(0px 1px 2px rgba(0, 0, 0, 0.3));\n",
              "      fill: #FFFFFF;\n",
              "    }\n",
              "  </style>\n",
              "\n",
              "      <script>\n",
              "        const buttonEl =\n",
              "          document.querySelector('#df-5bf83a6c-f0ab-4ddb-8398-6982f5e31b08 button.colab-df-convert');\n",
              "        buttonEl.style.display =\n",
              "          google.colab.kernel.accessAllowed ? 'block' : 'none';\n",
              "\n",
              "        async function convertToInteractive(key) {\n",
              "          const element = document.querySelector('#df-5bf83a6c-f0ab-4ddb-8398-6982f5e31b08');\n",
              "          const dataTable =\n",
              "            await google.colab.kernel.invokeFunction('convertToInteractive',\n",
              "                                                     [key], {});\n",
              "          if (!dataTable) return;\n",
              "\n",
              "          const docLinkHtml = 'Like what you see? Visit the ' +\n",
              "            '<a target=\"_blank\" href=https://colab.research.google.com/notebooks/data_table.ipynb>data table notebook</a>'\n",
              "            + ' to learn more about interactive tables.';\n",
              "          element.innerHTML = '';\n",
              "          dataTable['output_type'] = 'display_data';\n",
              "          await google.colab.output.renderOutput(dataTable, element);\n",
              "          const docLink = document.createElement('div');\n",
              "          docLink.innerHTML = docLinkHtml;\n",
              "          element.appendChild(docLink);\n",
              "        }\n",
              "      </script>\n",
              "    </div>\n",
              "  </div>\n",
              "  "
            ]
          },
          "metadata": {},
          "execution_count": 17
        }
      ],
      "source": [
        "# one hot encoding\n",
        "df1 = pd.get_dummies(df1, drop_first = True)\n",
        "df1.head()"
      ]
    },
    {
      "cell_type": "markdown",
      "id": "d710eabd",
      "metadata": {
        "id": "d710eabd"
      },
      "source": [
        "**Scaling**"
      ]
    },
    {
      "cell_type": "code",
      "execution_count": 18,
      "id": "6c08659c",
      "metadata": {
        "id": "6c08659c"
      },
      "outputs": [],
      "source": [
        "X = df1.drop(columns = ['click_rate'])\n",
        "y = df1['click_rate']"
      ]
    },
    {
      "cell_type": "code",
      "source": [
        "X.shape"
      ],
      "metadata": {
        "colab": {
          "base_uri": "https://localhost:8080/"
        },
        "id": "UGMU-g7_hAex",
        "outputId": "a9bf722d-5660-4044-e29f-4a06ed66f3ba"
      },
      "id": "UGMU-g7_hAex",
      "execution_count": 38,
      "outputs": [
        {
          "output_type": "execute_result",
          "data": {
            "text/plain": [
              "(1888, 22)"
            ]
          },
          "metadata": {},
          "execution_count": 38
        }
      ]
    },
    {
      "cell_type": "code",
      "execution_count": 19,
      "id": "fac48b31",
      "metadata": {
        "scrolled": true,
        "id": "fac48b31",
        "outputId": "1b71f88e-d9aa-4185-9746-c32c0a6a072a",
        "colab": {
          "base_uri": "https://localhost:8080/"
        }
      },
      "outputs": [
        {
          "output_type": "execute_result",
          "data": {
            "text/plain": [
              "array([[-0.34001052, -0.51145873,  0.1336765 , ..., -0.31659612,\n",
              "        -0.17159207, -0.13942182],\n",
              "       [-1.07005325, -1.58562604,  7.84729983, ..., -0.31659612,\n",
              "        -0.17159207, -0.13942182],\n",
              "       [-0.90413445, -0.18903108, -0.68389648, ..., -0.31659612,\n",
              "        -0.17159207, -0.13942182],\n",
              "       ...,\n",
              "       [ 0.09137838, -0.42805344, -0.32842997, ..., -0.31659612,\n",
              "        -0.17159207, -0.13942182],\n",
              "       [-0.93731821, -0.49808113,  0.16922315, ..., -0.31659612,\n",
              "        -0.17159207, -0.13942182],\n",
              "       [ 0.09137838, -0.42805344, -0.32842997, ..., -0.31659612,\n",
              "        -0.17159207, -0.13942182]])"
            ]
          },
          "metadata": {},
          "execution_count": 19
        }
      ],
      "source": [
        "scaler = StandardScaler()\n",
        "X_scaled = scaler.fit_transform(X)\n",
        "X_scaled"
      ]
    },
    {
      "cell_type": "code",
      "source": [
        "X_scaled.shape"
      ],
      "metadata": {
        "colab": {
          "base_uri": "https://localhost:8080/"
        },
        "id": "EVEaKp5hg2s5",
        "outputId": "2e6e790e-b67f-47b4-84a2-e22dbe6500eb"
      },
      "id": "EVEaKp5hg2s5",
      "execution_count": 37,
      "outputs": [
        {
          "output_type": "execute_result",
          "data": {
            "text/plain": [
              "(1888, 22)"
            ]
          },
          "metadata": {},
          "execution_count": 37
        }
      ]
    },
    {
      "cell_type": "code",
      "execution_count": 20,
      "id": "c8f2daae",
      "metadata": {
        "id": "c8f2daae"
      },
      "outputs": [],
      "source": [
        "# without pca\n",
        "X_train, X_test, y_train, y_test = train_test_split(X_scaled, y, test_size = 0.22, random_state = 45)"
      ]
    },
    {
      "cell_type": "code",
      "execution_count": 39,
      "id": "d4627809",
      "metadata": {
        "id": "d4627809",
        "outputId": "627a66dd-9953-402b-a18c-c4828f3faef9",
        "colab": {
          "base_uri": "https://localhost:8080/"
        }
      },
      "outputs": [
        {
          "output_type": "stream",
          "name": "stdout",
          "text": [
            "Original X data shape (1888, 22)\n",
            "X train data shape (1472, 22)\n",
            "X test data shape (416, 22)\n",
            "Original y data shape (1888,)\n",
            "Original y train data shape (1472,)\n",
            "Original y test data shape (416,)\n"
          ]
        }
      ],
      "source": [
        "print('Original X data shape', X.shape)\n",
        "print('X train data shape', X_train.shape)\n",
        "print('X test data shape', X_test.shape)\n",
        "print('Original y data shape', y.shape)\n",
        "print('Original y train data shape', y_train.shape)\n",
        "print('Original y test data shape', y_test.shape)"
      ]
    },
    {
      "cell_type": "markdown",
      "id": "17929234",
      "metadata": {
        "id": "17929234"
      },
      "source": [
        "#### Random Forest"
      ]
    },
    {
      "cell_type": "code",
      "source": [
        "X_train.shape"
      ],
      "metadata": {
        "colab": {
          "base_uri": "https://localhost:8080/"
        },
        "id": "DOL7CIsCSAvU",
        "outputId": "a5f71136-d61b-4386-d9f6-e1f80e87e11c"
      },
      "id": "DOL7CIsCSAvU",
      "execution_count": null,
      "outputs": [
        {
          "output_type": "execute_result",
          "data": {
            "text/plain": [
              "(1472, 25)"
            ]
          },
          "metadata": {},
          "execution_count": 48
        }
      ]
    },
    {
      "cell_type": "code",
      "execution_count": 21,
      "id": "621c6b2b",
      "metadata": {
        "id": "621c6b2b",
        "outputId": "006379a9-38ca-4ef1-c362-cf90695f7211",
        "colab": {
          "base_uri": "https://localhost:8080/"
        }
      },
      "outputs": [
        {
          "output_type": "execute_result",
          "data": {
            "text/plain": [
              "GridSearchCV(cv=10, estimator=RandomForestRegressor(random_state=47),\n",
              "             param_grid={'max_depth': [5, 6, 7, 8, 9, 10, 11, 12, 13, 14],\n",
              "                         'max_features': ['sqrt', 'log2'],\n",
              "                         'min_samples_split': [3, 4, 5, 6, 7, 8, 9],\n",
              "                         'n_estimators': [100]},\n",
              "             scoring='neg_mean_squared_error')"
            ]
          },
          "metadata": {},
          "execution_count": 21
        }
      ],
      "source": [
        "rf = RandomForestRegressor(random_state = 47)\n",
        "\n",
        "# hyperparameter tuning\n",
        "#parameters = {'max_depth':[5,7,9],'n_estimators':[100],'min_samples_split':[2,4,6], 'max_features':['sqrt','log2']}\n",
        "parameters = {'max_depth':[d for d in range(5,15)],'n_estimators':[100], 'min_samples_split':[x for x in range(3,10)], 'max_features':['sqrt','log2']}\n",
        "\n",
        "rf_cv = GridSearchCV(rf, param_grid = parameters, scoring = 'neg_mean_squared_error', cv = 10)\n",
        "rf_cv.fit(X_train, y_train)"
      ]
    },
    {
      "cell_type": "code",
      "source": [
        "rf_cv.best_params_"
      ],
      "metadata": {
        "colab": {
          "base_uri": "https://localhost:8080/"
        },
        "id": "KczbXLVkZUss",
        "outputId": "4cf7d40e-6d4d-44c7-da49-7c5fb33cfbd6"
      },
      "id": "KczbXLVkZUss",
      "execution_count": 22,
      "outputs": [
        {
          "output_type": "execute_result",
          "data": {
            "text/plain": [
              "{'max_depth': 14,\n",
              " 'max_features': 'sqrt',\n",
              " 'min_samples_split': 5,\n",
              " 'n_estimators': 100}"
            ]
          },
          "metadata": {},
          "execution_count": 22
        }
      ]
    },
    {
      "cell_type": "code",
      "source": [
        "model = RandomForestRegressor(n_estimators= 100, max_depth= 14, max_features= 'sqrt', min_samples_split= 5)\n",
        "model.fit(X_train,y_train)"
      ],
      "metadata": {
        "colab": {
          "base_uri": "https://localhost:8080/"
        },
        "id": "DOSCKL_GaWtz",
        "outputId": "0b3052ff-5019-4442-dd2b-4fc10fef7242"
      },
      "id": "DOSCKL_GaWtz",
      "execution_count": 23,
      "outputs": [
        {
          "output_type": "execute_result",
          "data": {
            "text/plain": [
              "RandomForestRegressor(max_depth=14, max_features='sqrt', min_samples_split=5)"
            ]
          },
          "metadata": {},
          "execution_count": 23
        }
      ]
    },
    {
      "cell_type": "code",
      "execution_count": 24,
      "id": "8335d5f7",
      "metadata": {
        "id": "8335d5f7"
      },
      "outputs": [],
      "source": [
        "y_test_pred = model.predict(X_test)\n",
        "y_train_pred = model.predict(X_train)"
      ]
    },
    {
      "cell_type": "code",
      "source": [
        "print('Train R2-SCORE:', metrics.r2_score(y_train,y_train_pred))\n",
        "print('Test R2-SCORE:', metrics.r2_score(y_test,y_test_pred))\n"
      ],
      "metadata": {
        "colab": {
          "base_uri": "https://localhost:8080/"
        },
        "id": "ZI3X3W9RZhIH",
        "outputId": "613ff7ef-fb31-43c4-b180-8c179a3bd6d0"
      },
      "id": "ZI3X3W9RZhIH",
      "execution_count": 28,
      "outputs": [
        {
          "output_type": "stream",
          "name": "stdout",
          "text": [
            "Train R2-SCORE: 0.8290596011974493\n",
            "Test R2-SCORE: 0.6153245193577348\n"
          ]
        }
      ]
    },
    {
      "cell_type": "code",
      "execution_count": 29,
      "id": "4d677d84",
      "metadata": {
        "id": "4d677d84",
        "outputId": "69658ab8-4e54-42fb-b9ba-70f5cfc8ce1c",
        "colab": {
          "base_uri": "https://localhost:8080/"
        }
      },
      "outputs": [
        {
          "output_type": "execute_result",
          "data": {
            "text/plain": [
              "0.8290596011974493"
            ]
          },
          "metadata": {},
          "execution_count": 29
        }
      ],
      "source": [
        "r2_score(y_train, y_train_pred)"
      ]
    },
    {
      "cell_type": "code",
      "execution_count": 31,
      "id": "f03f006d",
      "metadata": {
        "id": "f03f006d",
        "outputId": "e7eea647-a265-44c9-8ce8-96ad795248f6",
        "colab": {
          "base_uri": "https://localhost:8080/"
        }
      },
      "outputs": [
        {
          "output_type": "execute_result",
          "data": {
            "text/plain": [
              "0.6153245193577348"
            ]
          },
          "metadata": {},
          "execution_count": 31
        }
      ],
      "source": [
        "r2_score(y_test, y_test_pred)"
      ]
    },
    {
      "cell_type": "markdown",
      "id": "d6909730",
      "metadata": {
        "id": "d6909730"
      },
      "source": [
        "### Submission"
      ]
    },
    {
      "cell_type": "code",
      "execution_count": 33,
      "id": "cc93b80d",
      "metadata": {
        "scrolled": true,
        "id": "cc93b80d",
        "outputId": "e04ef638-1d74-4a47-e529-7cd4b73ddbad",
        "colab": {
          "base_uri": "https://localhost:8080/",
          "height": 300
        }
      },
      "outputs": [
        {
          "output_type": "execute_result",
          "data": {
            "text/plain": [
              "   campaign_id  sender  subject_len  body_len  mean_paragraph_len  \\\n",
              "0         1889       3           61     12871                  11   \n",
              "1         1890       3           54      2569                 256   \n",
              "2         1891       3           88      1473                  78   \n",
              "3         1892       3           88      1473                  78   \n",
              "4         1893       3           78      9020                  29   \n",
              "\n",
              "   day_of_week  is_weekend times_of_day  category  product  ...  mean_CTA_len  \\\n",
              "0            6           1         Noon         6       26  ...            37   \n",
              "1            5           1      Morning         2       11  ...            22   \n",
              "2            4           0      Evening         2       11  ...            22   \n",
              "3            3           0      Evening         2       11  ...            22   \n",
              "4            3           0         Noon         6       26  ...            40   \n",
              "\n",
              "   is_image  is_personalised  is_quote  is_timer  is_emoticons  is_discount  \\\n",
              "0         1                0         0         0             1            0   \n",
              "1         0                0         0         0             0            0   \n",
              "2         1                0         1         0             0            0   \n",
              "3         1                0         1         0             0            0   \n",
              "4         0                0         0         0             0            0   \n",
              "\n",
              "   is_price  is_urgency  target_audience  \n",
              "0         0           0               14  \n",
              "1         0           0               10  \n",
              "2         0           0               10  \n",
              "3         0           0               10  \n",
              "4         0           0               14  \n",
              "\n",
              "[5 rows x 21 columns]"
            ],
            "text/html": [
              "\n",
              "  <div id=\"df-0659d354-21b8-4ea4-b228-d5ba32ddc957\">\n",
              "    <div class=\"colab-df-container\">\n",
              "      <div>\n",
              "<style scoped>\n",
              "    .dataframe tbody tr th:only-of-type {\n",
              "        vertical-align: middle;\n",
              "    }\n",
              "\n",
              "    .dataframe tbody tr th {\n",
              "        vertical-align: top;\n",
              "    }\n",
              "\n",
              "    .dataframe thead th {\n",
              "        text-align: right;\n",
              "    }\n",
              "</style>\n",
              "<table border=\"1\" class=\"dataframe\">\n",
              "  <thead>\n",
              "    <tr style=\"text-align: right;\">\n",
              "      <th></th>\n",
              "      <th>campaign_id</th>\n",
              "      <th>sender</th>\n",
              "      <th>subject_len</th>\n",
              "      <th>body_len</th>\n",
              "      <th>mean_paragraph_len</th>\n",
              "      <th>day_of_week</th>\n",
              "      <th>is_weekend</th>\n",
              "      <th>times_of_day</th>\n",
              "      <th>category</th>\n",
              "      <th>product</th>\n",
              "      <th>...</th>\n",
              "      <th>mean_CTA_len</th>\n",
              "      <th>is_image</th>\n",
              "      <th>is_personalised</th>\n",
              "      <th>is_quote</th>\n",
              "      <th>is_timer</th>\n",
              "      <th>is_emoticons</th>\n",
              "      <th>is_discount</th>\n",
              "      <th>is_price</th>\n",
              "      <th>is_urgency</th>\n",
              "      <th>target_audience</th>\n",
              "    </tr>\n",
              "  </thead>\n",
              "  <tbody>\n",
              "    <tr>\n",
              "      <th>0</th>\n",
              "      <td>1889</td>\n",
              "      <td>3</td>\n",
              "      <td>61</td>\n",
              "      <td>12871</td>\n",
              "      <td>11</td>\n",
              "      <td>6</td>\n",
              "      <td>1</td>\n",
              "      <td>Noon</td>\n",
              "      <td>6</td>\n",
              "      <td>26</td>\n",
              "      <td>...</td>\n",
              "      <td>37</td>\n",
              "      <td>1</td>\n",
              "      <td>0</td>\n",
              "      <td>0</td>\n",
              "      <td>0</td>\n",
              "      <td>1</td>\n",
              "      <td>0</td>\n",
              "      <td>0</td>\n",
              "      <td>0</td>\n",
              "      <td>14</td>\n",
              "    </tr>\n",
              "    <tr>\n",
              "      <th>1</th>\n",
              "      <td>1890</td>\n",
              "      <td>3</td>\n",
              "      <td>54</td>\n",
              "      <td>2569</td>\n",
              "      <td>256</td>\n",
              "      <td>5</td>\n",
              "      <td>1</td>\n",
              "      <td>Morning</td>\n",
              "      <td>2</td>\n",
              "      <td>11</td>\n",
              "      <td>...</td>\n",
              "      <td>22</td>\n",
              "      <td>0</td>\n",
              "      <td>0</td>\n",
              "      <td>0</td>\n",
              "      <td>0</td>\n",
              "      <td>0</td>\n",
              "      <td>0</td>\n",
              "      <td>0</td>\n",
              "      <td>0</td>\n",
              "      <td>10</td>\n",
              "    </tr>\n",
              "    <tr>\n",
              "      <th>2</th>\n",
              "      <td>1891</td>\n",
              "      <td>3</td>\n",
              "      <td>88</td>\n",
              "      <td>1473</td>\n",
              "      <td>78</td>\n",
              "      <td>4</td>\n",
              "      <td>0</td>\n",
              "      <td>Evening</td>\n",
              "      <td>2</td>\n",
              "      <td>11</td>\n",
              "      <td>...</td>\n",
              "      <td>22</td>\n",
              "      <td>1</td>\n",
              "      <td>0</td>\n",
              "      <td>1</td>\n",
              "      <td>0</td>\n",
              "      <td>0</td>\n",
              "      <td>0</td>\n",
              "      <td>0</td>\n",
              "      <td>0</td>\n",
              "      <td>10</td>\n",
              "    </tr>\n",
              "    <tr>\n",
              "      <th>3</th>\n",
              "      <td>1892</td>\n",
              "      <td>3</td>\n",
              "      <td>88</td>\n",
              "      <td>1473</td>\n",
              "      <td>78</td>\n",
              "      <td>3</td>\n",
              "      <td>0</td>\n",
              "      <td>Evening</td>\n",
              "      <td>2</td>\n",
              "      <td>11</td>\n",
              "      <td>...</td>\n",
              "      <td>22</td>\n",
              "      <td>1</td>\n",
              "      <td>0</td>\n",
              "      <td>1</td>\n",
              "      <td>0</td>\n",
              "      <td>0</td>\n",
              "      <td>0</td>\n",
              "      <td>0</td>\n",
              "      <td>0</td>\n",
              "      <td>10</td>\n",
              "    </tr>\n",
              "    <tr>\n",
              "      <th>4</th>\n",
              "      <td>1893</td>\n",
              "      <td>3</td>\n",
              "      <td>78</td>\n",
              "      <td>9020</td>\n",
              "      <td>29</td>\n",
              "      <td>3</td>\n",
              "      <td>0</td>\n",
              "      <td>Noon</td>\n",
              "      <td>6</td>\n",
              "      <td>26</td>\n",
              "      <td>...</td>\n",
              "      <td>40</td>\n",
              "      <td>0</td>\n",
              "      <td>0</td>\n",
              "      <td>0</td>\n",
              "      <td>0</td>\n",
              "      <td>0</td>\n",
              "      <td>0</td>\n",
              "      <td>0</td>\n",
              "      <td>0</td>\n",
              "      <td>14</td>\n",
              "    </tr>\n",
              "  </tbody>\n",
              "</table>\n",
              "<p>5 rows × 21 columns</p>\n",
              "</div>\n",
              "      <button class=\"colab-df-convert\" onclick=\"convertToInteractive('df-0659d354-21b8-4ea4-b228-d5ba32ddc957')\"\n",
              "              title=\"Convert this dataframe to an interactive table.\"\n",
              "              style=\"display:none;\">\n",
              "        \n",
              "  <svg xmlns=\"http://www.w3.org/2000/svg\" height=\"24px\"viewBox=\"0 0 24 24\"\n",
              "       width=\"24px\">\n",
              "    <path d=\"M0 0h24v24H0V0z\" fill=\"none\"/>\n",
              "    <path d=\"M18.56 5.44l.94 2.06.94-2.06 2.06-.94-2.06-.94-.94-2.06-.94 2.06-2.06.94zm-11 1L8.5 8.5l.94-2.06 2.06-.94-2.06-.94L8.5 2.5l-.94 2.06-2.06.94zm10 10l.94 2.06.94-2.06 2.06-.94-2.06-.94-.94-2.06-.94 2.06-2.06.94z\"/><path d=\"M17.41 7.96l-1.37-1.37c-.4-.4-.92-.59-1.43-.59-.52 0-1.04.2-1.43.59L10.3 9.45l-7.72 7.72c-.78.78-.78 2.05 0 2.83L4 21.41c.39.39.9.59 1.41.59.51 0 1.02-.2 1.41-.59l7.78-7.78 2.81-2.81c.8-.78.8-2.07 0-2.86zM5.41 20L4 18.59l7.72-7.72 1.47 1.35L5.41 20z\"/>\n",
              "  </svg>\n",
              "      </button>\n",
              "      \n",
              "  <style>\n",
              "    .colab-df-container {\n",
              "      display:flex;\n",
              "      flex-wrap:wrap;\n",
              "      gap: 12px;\n",
              "    }\n",
              "\n",
              "    .colab-df-convert {\n",
              "      background-color: #E8F0FE;\n",
              "      border: none;\n",
              "      border-radius: 50%;\n",
              "      cursor: pointer;\n",
              "      display: none;\n",
              "      fill: #1967D2;\n",
              "      height: 32px;\n",
              "      padding: 0 0 0 0;\n",
              "      width: 32px;\n",
              "    }\n",
              "\n",
              "    .colab-df-convert:hover {\n",
              "      background-color: #E2EBFA;\n",
              "      box-shadow: 0px 1px 2px rgba(60, 64, 67, 0.3), 0px 1px 3px 1px rgba(60, 64, 67, 0.15);\n",
              "      fill: #174EA6;\n",
              "    }\n",
              "\n",
              "    [theme=dark] .colab-df-convert {\n",
              "      background-color: #3B4455;\n",
              "      fill: #D2E3FC;\n",
              "    }\n",
              "\n",
              "    [theme=dark] .colab-df-convert:hover {\n",
              "      background-color: #434B5C;\n",
              "      box-shadow: 0px 1px 3px 1px rgba(0, 0, 0, 0.15);\n",
              "      filter: drop-shadow(0px 1px 2px rgba(0, 0, 0, 0.3));\n",
              "      fill: #FFFFFF;\n",
              "    }\n",
              "  </style>\n",
              "\n",
              "      <script>\n",
              "        const buttonEl =\n",
              "          document.querySelector('#df-0659d354-21b8-4ea4-b228-d5ba32ddc957 button.colab-df-convert');\n",
              "        buttonEl.style.display =\n",
              "          google.colab.kernel.accessAllowed ? 'block' : 'none';\n",
              "\n",
              "        async function convertToInteractive(key) {\n",
              "          const element = document.querySelector('#df-0659d354-21b8-4ea4-b228-d5ba32ddc957');\n",
              "          const dataTable =\n",
              "            await google.colab.kernel.invokeFunction('convertToInteractive',\n",
              "                                                     [key], {});\n",
              "          if (!dataTable) return;\n",
              "\n",
              "          const docLinkHtml = 'Like what you see? Visit the ' +\n",
              "            '<a target=\"_blank\" href=https://colab.research.google.com/notebooks/data_table.ipynb>data table notebook</a>'\n",
              "            + ' to learn more about interactive tables.';\n",
              "          element.innerHTML = '';\n",
              "          dataTable['output_type'] = 'display_data';\n",
              "          await google.colab.output.renderOutput(dataTable, element);\n",
              "          const docLink = document.createElement('div');\n",
              "          docLink.innerHTML = docLinkHtml;\n",
              "          element.appendChild(docLink);\n",
              "        }\n",
              "      </script>\n",
              "    </div>\n",
              "  </div>\n",
              "  "
            ]
          },
          "metadata": {},
          "execution_count": 33
        }
      ],
      "source": [
        "# loading the test dataset\n",
        "test_data =df_test.copy()\n",
        "test_data.head()"
      ]
    },
    {
      "cell_type": "code",
      "execution_count": 34,
      "id": "b4fc13e2",
      "metadata": {
        "id": "b4fc13e2"
      },
      "outputs": [],
      "source": [
        "## data praparation process on the testing data (validation set)\n",
        "\n",
        "test_df = test_data.copy()\n",
        "\n",
        "# dropping unwanted columns\n",
        "test_df.drop(columns = ['is_timer','campaign_id', 'sender'], inplace = True)\n",
        "\n",
        "test_df['is_image'] = test_df['is_image'].apply(lambda x: 'others' if x not in [0,1,2] else str(x))\n",
        "\n",
        "# joining the less frequent is image classes together\n",
        "test_df['is_quote'] = test_df['is_quote'].apply(lambda x: 'others' if x not in [0,1,2,3] else str(x))\n",
        "\n",
        "# joining the less frequent is image classes together\n",
        "test_df['is_emoticons'] = test_df['is_emoticons'].apply(lambda x: 'others' if x not in [0,1,2] else str(x))\n",
        "\n",
        "# dropping is price because of very few 1 value and less effect on click rate\n",
        "test_df.drop(columns = ['is_price'], inplace = True)\n",
        "\n",
        "# one hot encoding\n",
        "test_df = pd.get_dummies(test_df, drop_first = True)"
      ]
    },
    {
      "cell_type": "code",
      "execution_count": 35,
      "id": "128672eb",
      "metadata": {
        "id": "128672eb"
      },
      "outputs": [],
      "source": [
        "test_df['category'] = test_df['category'].apply(lambda x: str(x))\n",
        "test_df['target_audience'] = test_df['target_audience'].apply(lambda x: str(x))\n",
        "test_df['product'] = test_df['product'].apply(lambda x: str(x))\n",
        "\n",
        "test_df['category'] = te_category.transform(test_df['category'])\n",
        "\n",
        "test_df['target_audience'] = te_target.transform(test_df['target_audience'])\n",
        "\n",
        "test_df['product'] = te_product.transform(test_df['product'])"
      ]
    },
    {
      "cell_type": "code",
      "execution_count": null,
      "id": "a92de164",
      "metadata": {
        "id": "a92de164",
        "outputId": "0744cea9-a4ec-4b14-d643-5d2b08b06a7c",
        "colab": {
          "base_uri": "https://localhost:8080/"
        }
      },
      "outputs": [
        {
          "output_type": "execute_result",
          "data": {
            "text/plain": [
              "(1888, 25)"
            ]
          },
          "metadata": {},
          "execution_count": 57
        }
      ],
      "source": [
        "X.shape"
      ]
    },
    {
      "cell_type": "code",
      "source": [
        "test_df.shape"
      ],
      "metadata": {
        "colab": {
          "base_uri": "https://localhost:8080/"
        },
        "id": "MJX4wqxAJ_0f",
        "outputId": "9797aec7-fb51-4732-b345-6a94b60db1c0"
      },
      "id": "MJX4wqxAJ_0f",
      "execution_count": null,
      "outputs": [
        {
          "output_type": "execute_result",
          "data": {
            "text/plain": [
              "(762, 25)"
            ]
          },
          "metadata": {},
          "execution_count": 58
        }
      ]
    },
    {
      "cell_type": "code",
      "execution_count": 36,
      "id": "7ad69fe7",
      "metadata": {
        "id": "7ad69fe7",
        "outputId": "210d99ab-fe0c-406b-bd77-857408236dbb",
        "colab": {
          "base_uri": "https://localhost:8080/",
          "height": 522
        }
      },
      "outputs": [
        {
          "output_type": "stream",
          "name": "stderr",
          "text": [
            "/usr/local/lib/python3.7/dist-packages/sklearn/base.py:493: FutureWarning: The feature names should match those that were passed during fit. Starting version 1.2, an error will be raised.\n",
            "Feature names unseen at fit time:\n",
            "- is_image_1\n",
            "- is_image_2\n",
            "- is_image_others\n",
            "Feature names seen at fit time, yet now missing:\n",
            "- is_image\n",
            "\n",
            "  warnings.warn(message, FutureWarning)\n"
          ]
        },
        {
          "output_type": "error",
          "ename": "ValueError",
          "evalue": "ignored",
          "traceback": [
            "\u001b[0;31m---------------------------------------------------------------------------\u001b[0m",
            "\u001b[0;31mValueError\u001b[0m                                Traceback (most recent call last)",
            "\u001b[0;32m<ipython-input-36-d1d0da2f8bbc>\u001b[0m in \u001b[0;36m<module>\u001b[0;34m()\u001b[0m\n\u001b[1;32m      1\u001b[0m \u001b[0;31m# scaling the data\u001b[0m\u001b[0;34m\u001b[0m\u001b[0;34m\u001b[0m\u001b[0;34m\u001b[0m\u001b[0m\n\u001b[0;32m----> 2\u001b[0;31m \u001b[0mtest_df_scaled\u001b[0m \u001b[0;34m=\u001b[0m \u001b[0mscaler\u001b[0m\u001b[0;34m.\u001b[0m\u001b[0mtransform\u001b[0m\u001b[0;34m(\u001b[0m\u001b[0mtest_df\u001b[0m\u001b[0;34m)\u001b[0m\u001b[0;34m\u001b[0m\u001b[0;34m\u001b[0m\u001b[0m\n\u001b[0m\u001b[1;32m      3\u001b[0m \u001b[0mtest_df_scaled\u001b[0m\u001b[0;34m\u001b[0m\u001b[0;34m\u001b[0m\u001b[0m\n",
            "\u001b[0;32m/usr/local/lib/python3.7/dist-packages/sklearn/preprocessing/_data.py\u001b[0m in \u001b[0;36mtransform\u001b[0;34m(self, X, copy)\u001b[0m\n\u001b[1;32m    978\u001b[0m             \u001b[0mestimator\u001b[0m\u001b[0;34m=\u001b[0m\u001b[0mself\u001b[0m\u001b[0;34m,\u001b[0m\u001b[0;34m\u001b[0m\u001b[0;34m\u001b[0m\u001b[0m\n\u001b[1;32m    979\u001b[0m             \u001b[0mdtype\u001b[0m\u001b[0;34m=\u001b[0m\u001b[0mFLOAT_DTYPES\u001b[0m\u001b[0;34m,\u001b[0m\u001b[0;34m\u001b[0m\u001b[0;34m\u001b[0m\u001b[0m\n\u001b[0;32m--> 980\u001b[0;31m             \u001b[0mforce_all_finite\u001b[0m\u001b[0;34m=\u001b[0m\u001b[0;34m\"allow-nan\"\u001b[0m\u001b[0;34m,\u001b[0m\u001b[0;34m\u001b[0m\u001b[0;34m\u001b[0m\u001b[0m\n\u001b[0m\u001b[1;32m    981\u001b[0m         )\n\u001b[1;32m    982\u001b[0m \u001b[0;34m\u001b[0m\u001b[0m\n",
            "\u001b[0;32m/usr/local/lib/python3.7/dist-packages/sklearn/base.py\u001b[0m in \u001b[0;36m_validate_data\u001b[0;34m(self, X, y, reset, validate_separately, **check_params)\u001b[0m\n\u001b[1;32m    583\u001b[0m \u001b[0;34m\u001b[0m\u001b[0m\n\u001b[1;32m    584\u001b[0m         \u001b[0;32mif\u001b[0m \u001b[0;32mnot\u001b[0m \u001b[0mno_val_X\u001b[0m \u001b[0;32mand\u001b[0m \u001b[0mcheck_params\u001b[0m\u001b[0;34m.\u001b[0m\u001b[0mget\u001b[0m\u001b[0;34m(\u001b[0m\u001b[0;34m\"ensure_2d\"\u001b[0m\u001b[0;34m,\u001b[0m \u001b[0;32mTrue\u001b[0m\u001b[0;34m)\u001b[0m\u001b[0;34m:\u001b[0m\u001b[0;34m\u001b[0m\u001b[0;34m\u001b[0m\u001b[0m\n\u001b[0;32m--> 585\u001b[0;31m             \u001b[0mself\u001b[0m\u001b[0;34m.\u001b[0m\u001b[0m_check_n_features\u001b[0m\u001b[0;34m(\u001b[0m\u001b[0mX\u001b[0m\u001b[0;34m,\u001b[0m \u001b[0mreset\u001b[0m\u001b[0;34m=\u001b[0m\u001b[0mreset\u001b[0m\u001b[0;34m)\u001b[0m\u001b[0;34m\u001b[0m\u001b[0;34m\u001b[0m\u001b[0m\n\u001b[0m\u001b[1;32m    586\u001b[0m \u001b[0;34m\u001b[0m\u001b[0m\n\u001b[1;32m    587\u001b[0m         \u001b[0;32mreturn\u001b[0m \u001b[0mout\u001b[0m\u001b[0;34m\u001b[0m\u001b[0;34m\u001b[0m\u001b[0m\n",
            "\u001b[0;32m/usr/local/lib/python3.7/dist-packages/sklearn/base.py\u001b[0m in \u001b[0;36m_check_n_features\u001b[0;34m(self, X, reset)\u001b[0m\n\u001b[1;32m    399\u001b[0m         \u001b[0;32mif\u001b[0m \u001b[0mn_features\u001b[0m \u001b[0;34m!=\u001b[0m \u001b[0mself\u001b[0m\u001b[0;34m.\u001b[0m\u001b[0mn_features_in_\u001b[0m\u001b[0;34m:\u001b[0m\u001b[0;34m\u001b[0m\u001b[0;34m\u001b[0m\u001b[0m\n\u001b[1;32m    400\u001b[0m             raise ValueError(\n\u001b[0;32m--> 401\u001b[0;31m                 \u001b[0;34mf\"X has {n_features} features, but {self.__class__.__name__} \"\u001b[0m\u001b[0;34m\u001b[0m\u001b[0;34m\u001b[0m\u001b[0m\n\u001b[0m\u001b[1;32m    402\u001b[0m                 \u001b[0;34mf\"is expecting {self.n_features_in_} features as input.\"\u001b[0m\u001b[0;34m\u001b[0m\u001b[0;34m\u001b[0m\u001b[0m\n\u001b[1;32m    403\u001b[0m             )\n",
            "\u001b[0;31mValueError\u001b[0m: X has 24 features, but StandardScaler is expecting 22 features as input."
          ]
        }
      ],
      "source": [
        "# scaling the data\n",
        "test_df_scaled = scaler.transform(test_df)\n",
        "test_df_scaled"
      ]
    },
    {
      "cell_type": "code",
      "execution_count": null,
      "id": "69c2e77d",
      "metadata": {
        "id": "69c2e77d"
      },
      "outputs": [],
      "source": [
        "# prediction\n",
        "y_valid_pred = rf_cv.predict(test_df_scaled)"
      ]
    },
    {
      "cell_type": "code",
      "execution_count": null,
      "id": "d241052e",
      "metadata": {
        "id": "d241052e"
      },
      "outputs": [],
      "source": [
        "# converting y test/validation to dataframe\n",
        "df_testcopy['click_rate'] = y_valid_pred"
      ]
    },
    {
      "cell_type": "code",
      "source": [
        "sns.distplot(df_testcopy['click_rate'])"
      ],
      "metadata": {
        "colab": {
          "base_uri": "https://localhost:8080/",
          "height": 352
        },
        "id": "CJCGT8dmSPaz",
        "outputId": "f879f2c3-b495-4cc8-8524-d668c65c2ab3"
      },
      "id": "CJCGT8dmSPaz",
      "execution_count": null,
      "outputs": [
        {
          "output_type": "stream",
          "name": "stderr",
          "text": [
            "/usr/local/lib/python3.7/dist-packages/seaborn/distributions.py:2619: FutureWarning: `distplot` is a deprecated function and will be removed in a future version. Please adapt your code to use either `displot` (a figure-level function with similar flexibility) or `histplot` (an axes-level function for histograms).\n",
            "  warnings.warn(msg, FutureWarning)\n"
          ]
        },
        {
          "output_type": "execute_result",
          "data": {
            "text/plain": [
              "<matplotlib.axes._subplots.AxesSubplot at 0x7fce03e29090>"
            ]
          },
          "metadata": {},
          "execution_count": 62
        },
        {
          "output_type": "display_data",
          "data": {
            "text/plain": [
              "<Figure size 432x288 with 1 Axes>"
            ],
            "image/png": "[encoded data removed]"
          },
          "metadata": {
            "needs_background": "light"
          }
        }
      ]
    },
    {
      "cell_type": "code",
      "execution_count": null,
      "id": "28b7c969",
      "metadata": {
        "id": "28b7c969"
      },
      "outputs": [],
      "source": [
        "df_testcopy[['campaign_id','click_rate']].to_csv('solution_nihal_habeeb.csv', index = False)"
      ]
    },
    {
      "cell_type": "code",
      "source": [
        ""
      ],
      "metadata": {
        "id": "Gmg-SfrLSRWO"
      },
      "id": "Gmg-SfrLSRWO",
      "execution_count": null,
      "outputs": []
    },
    {
      "cell_type": "code",
      "source": [
        ""
      ],
      "metadata": {
        "id": "5TvNEV6aSRSQ"
      },
      "id": "5TvNEV6aSRSQ",
      "execution_count": null,
      "outputs": []
    },
    {
      "cell_type": "markdown",
      "id": "d8d9928a",
      "metadata": {
        "id": "d8d9928a"
      },
      "source": [
        "### XGBoost"
      ]
    },
    {
      "cell_type": "code",
      "execution_count": null,
      "id": "33c06c92",
      "metadata": {
        "id": "33c06c92"
      },
      "outputs": [],
      "source": [
        "xgb = XGBRegressor(learning_rate=0.02, n_estimators=600)\n",
        "# # xgb.fit(X_train, y_train)"
      ]
    },
    {
      "cell_type": "code",
      "execution_count": null,
      "id": "ce02d775",
      "metadata": {
        "id": "ce02d775",
        "outputId": "da2f2cf8-043c-4136-9069-5e8f84c0830f",
        "colab": {
          "base_uri": "https://localhost:8080/"
        }
      },
      "outputs": [
        {
          "output_type": "stream",
          "name": "stdout",
          "text": [
            "[17:20:01] WARNING: /workspace/src/objective/regression_obj.cu:152: reg:linear is now deprecated in favor of reg:squarederror.\n",
            "[17:20:02] WARNING: /workspace/src/objective/regression_obj.cu:152: reg:linear is now deprecated in favor of reg:squarederror.\n",
            "[17:20:02] WARNING: /workspace/src/objective/regression_obj.cu:152: reg:linear is now deprecated in favor of reg:squarederror.\n",
            "[17:20:02] WARNING: /workspace/src/objective/regression_obj.cu:152: reg:linear is now deprecated in favor of reg:squarederror.\n",
            "[17:20:02] WARNING: /workspace/src/objective/regression_obj.cu:152: reg:linear is now deprecated in favor of reg:squarederror.\n",
            "[17:20:02] WARNING: /workspace/src/objective/regression_obj.cu:152: reg:linear is now deprecated in favor of reg:squarederror.\n",
            "[17:20:03] WARNING: /workspace/src/objective/regression_obj.cu:152: reg:linear is now deprecated in favor of reg:squarederror.\n",
            "[17:20:03] WARNING: /workspace/src/objective/regression_obj.cu:152: reg:linear is now deprecated in favor of reg:squarederror.\n",
            "[17:20:03] WARNING: /workspace/src/objective/regression_obj.cu:152: reg:linear is now deprecated in favor of reg:squarederror.\n",
            "[17:20:03] WARNING: /workspace/src/objective/regression_obj.cu:152: reg:linear is now deprecated in favor of reg:squarederror.\n",
            "[17:20:03] WARNING: /workspace/src/objective/regression_obj.cu:152: reg:linear is now deprecated in favor of reg:squarederror.\n",
            "[17:20:03] WARNING: /workspace/src/objective/regression_obj.cu:152: reg:linear is now deprecated in favor of reg:squarederror.\n",
            "[17:20:03] WARNING: /workspace/src/objective/regression_obj.cu:152: reg:linear is now deprecated in favor of reg:squarederror.\n",
            "[17:20:03] WARNING: /workspace/src/objective/regression_obj.cu:152: reg:linear is now deprecated in favor of reg:squarederror.\n",
            "[17:20:04] WARNING: /workspace/src/objective/regression_obj.cu:152: reg:linear is now deprecated in favor of reg:squarederror.\n",
            "[17:20:04] WARNING: /workspace/src/objective/regression_obj.cu:152: reg:linear is now deprecated in favor of reg:squarederror.\n",
            "[17:20:04] WARNING: /workspace/src/objective/regression_obj.cu:152: reg:linear is now deprecated in favor of reg:squarederror.\n",
            "[17:20:04] WARNING: /workspace/src/objective/regression_obj.cu:152: reg:linear is now deprecated in favor of reg:squarederror.\n",
            "[17:20:04] WARNING: /workspace/src/objective/regression_obj.cu:152: reg:linear is now deprecated in favor of reg:squarederror.\n",
            "[17:20:04] WARNING: /workspace/src/objective/regression_obj.cu:152: reg:linear is now deprecated in favor of reg:squarederror.\n",
            "[17:20:04] WARNING: /workspace/src/objective/regression_obj.cu:152: reg:linear is now deprecated in favor of reg:squarederror.\n",
            "[17:20:04] WARNING: /workspace/src/objective/regression_obj.cu:152: reg:linear is now deprecated in favor of reg:squarederror.\n",
            "[17:20:05] WARNING: /workspace/src/objective/regression_obj.cu:152: reg:linear is now deprecated in favor of reg:squarederror.\n",
            "[17:20:05] WARNING: /workspace/src/objective/regression_obj.cu:152: reg:linear is now deprecated in favor of reg:squarederror.\n",
            "[17:20:05] WARNING: /workspace/src/objective/regression_obj.cu:152: reg:linear is now deprecated in favor of reg:squarederror.\n",
            "[17:20:05] WARNING: /workspace/src/objective/regression_obj.cu:152: reg:linear is now deprecated in favor of reg:squarederror.\n",
            "[17:20:06] WARNING: /workspace/src/objective/regression_obj.cu:152: reg:linear is now deprecated in favor of reg:squarederror.\n",
            "[17:20:06] WARNING: /workspace/src/objective/regression_obj.cu:152: reg:linear is now deprecated in favor of reg:squarederror.\n",
            "[17:20:06] WARNING: /workspace/src/objective/regression_obj.cu:152: reg:linear is now deprecated in favor of reg:squarederror.\n",
            "[17:20:06] WARNING: /workspace/src/objective/regression_obj.cu:152: reg:linear is now deprecated in favor of reg:squarederror.\n",
            "[17:20:06] WARNING: /workspace/src/objective/regression_obj.cu:152: reg:linear is now deprecated in favor of reg:squarederror.\n",
            "[17:20:06] WARNING: /workspace/src/objective/regression_obj.cu:152: reg:linear is now deprecated in favor of reg:squarederror.\n",
            "[17:20:07] WARNING: /workspace/src/objective/regression_obj.cu:152: reg:linear is now deprecated in favor of reg:squarederror.\n",
            "[17:20:07] WARNING: /workspace/src/objective/regression_obj.cu:152: reg:linear is now deprecated in favor of reg:squarederror.\n",
            "[17:20:07] WARNING: /workspace/src/objective/regression_obj.cu:152: reg:linear is now deprecated in favor of reg:squarederror.\n",
            "[17:20:07] WARNING: /workspace/src/objective/regression_obj.cu:152: reg:linear is now deprecated in favor of reg:squarederror.\n",
            "[17:20:07] WARNING: /workspace/src/objective/regression_obj.cu:152: reg:linear is now deprecated in favor of reg:squarederror.\n",
            "[17:20:07] WARNING: /workspace/src/objective/regression_obj.cu:152: reg:linear is now deprecated in favor of reg:squarederror.\n",
            "[17:20:08] WARNING: /workspace/src/objective/regression_obj.cu:152: reg:linear is now deprecated in favor of reg:squarederror.\n",
            "[17:20:08] WARNING: /workspace/src/objective/regression_obj.cu:152: reg:linear is now deprecated in favor of reg:squarederror.\n",
            "[17:20:08] WARNING: /workspace/src/objective/regression_obj.cu:152: reg:linear is now deprecated in favor of reg:squarederror.\n",
            "[17:20:09] WARNING: /workspace/src/objective/regression_obj.cu:152: reg:linear is now deprecated in favor of reg:squarederror.\n",
            "[17:20:09] WARNING: /workspace/src/objective/regression_obj.cu:152: reg:linear is now deprecated in favor of reg:squarederror.\n",
            "[17:20:09] WARNING: /workspace/src/objective/regression_obj.cu:152: reg:linear is now deprecated in favor of reg:squarederror.\n",
            "[17:20:09] WARNING: /workspace/src/objective/regression_obj.cu:152: reg:linear is now deprecated in favor of reg:squarederror.\n",
            "[17:20:10] WARNING: /workspace/src/objective/regression_obj.cu:152: reg:linear is now deprecated in favor of reg:squarederror.\n",
            "[17:20:10] WARNING: /workspace/src/objective/regression_obj.cu:152: reg:linear is now deprecated in favor of reg:squarederror.\n",
            "[17:20:10] WARNING: /workspace/src/objective/regression_obj.cu:152: reg:linear is now deprecated in favor of reg:squarederror.\n",
            "[17:20:11] WARNING: /workspace/src/objective/regression_obj.cu:152: reg:linear is now deprecated in favor of reg:squarederror.\n",
            "[17:20:11] WARNING: /workspace/src/objective/regression_obj.cu:152: reg:linear is now deprecated in favor of reg:squarederror.\n",
            "[17:20:11] WARNING: /workspace/src/objective/regression_obj.cu:152: reg:linear is now deprecated in favor of reg:squarederror.\n",
            "[17:20:12] WARNING: /workspace/src/objective/regression_obj.cu:152: reg:linear is now deprecated in favor of reg:squarederror.\n",
            "[17:20:12] WARNING: /workspace/src/objective/regression_obj.cu:152: reg:linear is now deprecated in favor of reg:squarederror.\n",
            "[17:20:12] WARNING: /workspace/src/objective/regression_obj.cu:152: reg:linear is now deprecated in favor of reg:squarederror.\n",
            "[17:20:13] WARNING: /workspace/src/objective/regression_obj.cu:152: reg:linear is now deprecated in favor of reg:squarederror.\n"
          ]
        },
        {
          "output_type": "execute_result",
          "data": {
            "text/plain": [
              "GridSearchCV(cv=3, estimator=XGBRegressor(learning_rate=0.02, n_estimators=600),\n",
              "             param_grid={'max_depth': [5, 7, 9],\n",
              "                         'max_features': ['sqrt', 'log2'],\n",
              "                         'min_samples_split': [2, 4, 6],\n",
              "                         'n_estimators': [100]},\n",
              "             scoring='neg_mean_squared_error')"
            ]
          },
          "metadata": {},
          "execution_count": 65
        }
      ],
      "source": [
        "# hyperparameter tuning\n",
        "# parameter grid\n",
        "params = {\n",
        "        'min_child_weight': [1, 5, 10],\n",
        "        'gamma': [0.5, 1, 1.5, 2, 5],\n",
        "        'subsample': [0.6, 0.8, 1.0],\n",
        "        'colsample_bytree': [0.6, 0.8, 1.0],\n",
        "        'max_depth': [3, 4, 5]\n",
        "        }\n",
        "\n",
        "xgb_cv = GridSearchCV(xgb, param_grid = parameters, scoring = 'neg_mean_squared_error', cv = 3)\n",
        "xgb_cv.fit(X_train, y_train)"
      ]
    },
    {
      "cell_type": "code",
      "execution_count": null,
      "id": "7816e310",
      "metadata": {
        "id": "7816e310"
      },
      "outputs": [],
      "source": [
        "y_train_pred = xgb_cv.predict(X_train)\n",
        "y_pred = xgb_cv.predict(X_test)"
      ]
    },
    {
      "cell_type": "code",
      "execution_count": null,
      "id": "5c9b16da",
      "metadata": {
        "id": "5c9b16da",
        "outputId": "f65776e6-0593-449e-be5a-b81f0cea5310",
        "colab": {
          "base_uri": "https://localhost:8080/"
        }
      },
      "outputs": [
        {
          "output_type": "execute_result",
          "data": {
            "text/plain": [
              "0.32276566845351917"
            ]
          },
          "metadata": {},
          "execution_count": 67
        }
      ],
      "source": [
        "r2_score(y_train, y_train_pred)"
      ]
    },
    {
      "cell_type": "code",
      "execution_count": null,
      "id": "0077dc24",
      "metadata": {
        "id": "0077dc24",
        "outputId": "5b666e22-c6ee-44d5-90f0-6341e6808d65",
        "colab": {
          "base_uri": "https://localhost:8080/"
        }
      },
      "outputs": [
        {
          "output_type": "execute_result",
          "data": {
            "text/plain": [
              "-0.16955022970096323"
            ]
          },
          "metadata": {},
          "execution_count": 68
        }
      ],
      "source": [
        "r2_score(y_test, y_pred)"
      ]
    },
    {
      "cell_type": "code",
      "execution_count": null,
      "id": "605444f3",
      "metadata": {
        "scrolled": true,
        "id": "605444f3"
      },
      "outputs": [],
      "source": [
        "# xgb.score(X_train, y_train)"
      ]
    },
    {
      "cell_type": "code",
      "execution_count": null,
      "id": "ae38c1d4",
      "metadata": {
        "id": "ae38c1d4"
      },
      "outputs": [],
      "source": [
        "# xgb.score(X_test, y_test)"
      ]
    },
    {
      "cell_type": "code",
      "execution_count": null,
      "id": "21b7cb41",
      "metadata": {
        "id": "21b7cb41"
      },
      "outputs": [],
      "source": [
        ""
      ]
    }
  ],
  "metadata": {
    "kernelspec": {
      "display_name": "Python 3 (ipykernel)",
      "language": "python",
      "name": "python3"
    },
    "language_info": {
      "codemirror_mode": {
        "name": "ipython",
        "version": 3
      },
      "file_extension": ".py",
      "mimetype": "text/x-python",
      "name": "python",
      "nbconvert_exporter": "python",
      "pygments_lexer": "ipython3",
      "version": "3.10.5"
    },
    "colab": {
      "name": "CTR_Pred2.ipynb",
      "provenance": [],
      "collapsed_sections": [
        "e047078e",
        "dbe39606",
        "17929234",
        "d8d9928a"
      ]
    }
  },
  "nbformat": 4,
  "nbformat_minor": 5
}