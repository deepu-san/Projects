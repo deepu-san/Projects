{
 "cells": [
  {
   "cell_type": "code",
   "execution_count": 1,
   "id": "cc626392",
   "metadata": {},
   "outputs": [],
   "source": [
    "import pandas as pd\n",
    "import matplotlib.pyplot as plt\n",
    "import numpy as np\n",
    "import seaborn as sns\n",
    "from sklearn import linear_model\n",
    "from sklearn import metrics \n",
    "from sklearn.metrics import mean_squared_error\n",
    "from sklearn.model_selection import train_test_split \n",
    "import xgboost as xgb\n",
    "from sklearn.model_selection import cross_val_score\n",
    "from scipy import stats\n",
    "from scipy.special import boxcox, inv_boxcox\n",
    "import optuna\n",
    "from optuna.samplers import TPESampler\n",
    "from sklearn.ensemble import RandomForestRegressor\n",
    "from sklearn.preprocessing import StandardScaler "
   ]
  },
  {
   "cell_type": "code",
   "execution_count": 14,
   "id": "f9f709b4",
   "metadata": {},
   "outputs": [],
   "source": [
    "from sklearn.tree import DecisionTreeRegressor\n",
    "from sklearn.metrics import make_scorer\n",
    "from sklearn.model_selection import GridSearchCV\n",
    "from sklearn.model_selection import ShuffleSplit\n",
    "from sklearn.metrics import r2_score\n"
   ]
  },
  {
   "cell_type": "code",
   "execution_count": 2,
   "id": "f7601aae",
   "metadata": {},
   "outputs": [],
   "source": [
    "df=pd.read_csv(\"train.csv\")"
   ]
  },
  {
   "cell_type": "code",
   "execution_count": 13,
   "id": "8cdde8ce",
   "metadata": {},
   "outputs": [
    {
     "data": {
      "text/html": [
       "<div>\n",
       "<style scoped>\n",
       "    .dataframe tbody tr th:only-of-type {\n",
       "        vertical-align: middle;\n",
       "    }\n",
       "\n",
       "    .dataframe tbody tr th {\n",
       "        vertical-align: top;\n",
       "    }\n",
       "\n",
       "    .dataframe thead th {\n",
       "        text-align: right;\n",
       "    }\n",
       "</style>\n",
       "<table border=\"1\" class=\"dataframe\">\n",
       "  <thead>\n",
       "    <tr style=\"text-align: right;\">\n",
       "      <th></th>\n",
       "      <th>Item_Identifier</th>\n",
       "      <th>Item_Weight</th>\n",
       "      <th>Item_Fat_Content</th>\n",
       "      <th>Item_Visibility</th>\n",
       "      <th>Item_Type</th>\n",
       "      <th>Item_MRP</th>\n",
       "      <th>Outlet_Identifier</th>\n",
       "      <th>Outlet_Establishment_Year</th>\n",
       "      <th>Outlet_Size</th>\n",
       "      <th>Outlet_Location_Type</th>\n",
       "      <th>Outlet_Type</th>\n",
       "      <th>Item_Outlet_Sales</th>\n",
       "    </tr>\n",
       "  </thead>\n",
       "  <tbody>\n",
       "    <tr>\n",
       "      <th>0</th>\n",
       "      <td>FDA15</td>\n",
       "      <td>9.30</td>\n",
       "      <td>Low Fat</td>\n",
       "      <td>0.016047</td>\n",
       "      <td>Dairy</td>\n",
       "      <td>249.8092</td>\n",
       "      <td>OUT049</td>\n",
       "      <td>1999</td>\n",
       "      <td>Medium</td>\n",
       "      <td>Tier 1</td>\n",
       "      <td>Supermarket Type1</td>\n",
       "      <td>3735.1380</td>\n",
       "    </tr>\n",
       "    <tr>\n",
       "      <th>1</th>\n",
       "      <td>DRC01</td>\n",
       "      <td>5.92</td>\n",
       "      <td>Regular</td>\n",
       "      <td>0.019278</td>\n",
       "      <td>Soft Drinks</td>\n",
       "      <td>48.2692</td>\n",
       "      <td>OUT018</td>\n",
       "      <td>2009</td>\n",
       "      <td>Medium</td>\n",
       "      <td>Tier 3</td>\n",
       "      <td>Supermarket Type2</td>\n",
       "      <td>443.4228</td>\n",
       "    </tr>\n",
       "    <tr>\n",
       "      <th>2</th>\n",
       "      <td>FDN15</td>\n",
       "      <td>17.50</td>\n",
       "      <td>Low Fat</td>\n",
       "      <td>0.016760</td>\n",
       "      <td>Meat</td>\n",
       "      <td>141.6180</td>\n",
       "      <td>OUT049</td>\n",
       "      <td>1999</td>\n",
       "      <td>Medium</td>\n",
       "      <td>Tier 1</td>\n",
       "      <td>Supermarket Type1</td>\n",
       "      <td>2097.2700</td>\n",
       "    </tr>\n",
       "  </tbody>\n",
       "</table>\n",
       "</div>"
      ],
      "text/plain": [
       "  Item_Identifier  Item_Weight Item_Fat_Content  Item_Visibility    Item_Type  \\\n",
       "0           FDA15         9.30          Low Fat         0.016047        Dairy   \n",
       "1           DRC01         5.92          Regular         0.019278  Soft Drinks   \n",
       "2           FDN15        17.50          Low Fat         0.016760         Meat   \n",
       "\n",
       "   Item_MRP Outlet_Identifier  Outlet_Establishment_Year Outlet_Size  \\\n",
       "0  249.8092            OUT049                       1999      Medium   \n",
       "1   48.2692            OUT018                       2009      Medium   \n",
       "2  141.6180            OUT049                       1999      Medium   \n",
       "\n",
       "  Outlet_Location_Type        Outlet_Type  Item_Outlet_Sales  \n",
       "0               Tier 1  Supermarket Type1          3735.1380  \n",
       "1               Tier 3  Supermarket Type2           443.4228  \n",
       "2               Tier 1  Supermarket Type1          2097.2700  "
      ]
     },
     "execution_count": 13,
     "metadata": {},
     "output_type": "execute_result"
    }
   ],
   "source": [
    "df.head(3)"
   ]
  },
  {
   "cell_type": "code",
   "execution_count": 20,
   "id": "159a14cc",
   "metadata": {},
   "outputs": [],
   "source": [
    "# df_temp=df[[\"Outlet_Type\",\"Item_Outlet_Sales\"]]\n",
    "# df_grp_ot=df_temp.groupby(\"Outlet_Type\").mean().reset_index().sort_values(\"Item_Outlet_Sales\").reset_index()\n",
    "# df[\"Outlet_Type\"]=df[\"Outlet_Type\"].replace(dict(zip(df_grp_ot[\"Outlet_Type\"],df_grp_ot[\"index\"])))\n",
    "# df[\"Outlet_Type\"]=df[\"Outlet_Type\"].astype(\"int32\")\n",
    "# df[\"Outlet_Type\"].value_counts()"
   ]
  },
  {
   "cell_type": "code",
   "execution_count": 49,
   "id": "52441114",
   "metadata": {},
   "outputs": [
    {
     "data": {
      "text/plain": [
       "Item_Identifier                 0\n",
       "Item_Weight                  1463\n",
       "Item_Fat_Content                0\n",
       "Item_Visibility                 0\n",
       "Item_Type                       0\n",
       "Item_MRP                        0\n",
       "Outlet_Identifier               0\n",
       "Outlet_Establishment_Year       0\n",
       "Outlet_Size                     0\n",
       "Outlet_Location_Type            0\n",
       "Outlet_Type                     0\n",
       "Item_Outlet_Sales               0\n",
       "dtype: int64"
      ]
     },
     "execution_count": 49,
     "metadata": {},
     "output_type": "execute_result"
    }
   ],
   "source": [
    "df.isna().sum()"
   ]
  },
  {
   "cell_type": "code",
   "execution_count": 48,
   "id": "6ca812ea",
   "metadata": {},
   "outputs": [],
   "source": [
    "df['Outlet_Size'].fillna(df['Outlet_Size'].mode()[0], inplace=True)\n"
   ]
  },
  {
   "cell_type": "code",
   "execution_count": null,
   "id": "69221ca5",
   "metadata": {},
   "outputs": [],
   "source": []
  },
  {
   "cell_type": "code",
   "execution_count": 36,
   "id": "e2e055b9",
   "metadata": {},
   "outputs": [],
   "source": [
    "# df_test=df[[\"Outlet_Size\",\"Item_Outlet_Sales\"]]\n",
    "# df_grp=df_test.groupby([\"Outlet_Size\"]).mean()\n",
    "# df_grp.sort_values(by=['Item_Outlet_Sales'],inplace=True,ascending=True)\n",
    "# ax=df_grp.plot.bar()"
   ]
  },
  {
   "cell_type": "code",
   "execution_count": 4,
   "id": "d8a67382",
   "metadata": {
    "scrolled": true
   },
   "outputs": [],
   "source": [
    "df_temp=df.groupby([\"Outlet_Size\"]).mean()"
   ]
  },
  {
   "cell_type": "code",
   "execution_count": 5,
   "id": "3a1b3561",
   "metadata": {},
   "outputs": [
    {
     "data": {
      "text/html": [
       "<div>\n",
       "<style scoped>\n",
       "    .dataframe tbody tr th:only-of-type {\n",
       "        vertical-align: middle;\n",
       "    }\n",
       "\n",
       "    .dataframe tbody tr th {\n",
       "        vertical-align: top;\n",
       "    }\n",
       "\n",
       "    .dataframe thead th {\n",
       "        text-align: right;\n",
       "    }\n",
       "</style>\n",
       "<table border=\"1\" class=\"dataframe\">\n",
       "  <thead>\n",
       "    <tr style=\"text-align: right;\">\n",
       "      <th></th>\n",
       "      <th>Item_Weight</th>\n",
       "      <th>Item_Visibility</th>\n",
       "      <th>Item_MRP</th>\n",
       "      <th>Outlet_Establishment_Year</th>\n",
       "      <th>Item_Outlet_Sales</th>\n",
       "    </tr>\n",
       "    <tr>\n",
       "      <th>Outlet_Size</th>\n",
       "      <th></th>\n",
       "      <th></th>\n",
       "      <th></th>\n",
       "      <th></th>\n",
       "      <th></th>\n",
       "    </tr>\n",
       "  </thead>\n",
       "  <tbody>\n",
       "    <tr>\n",
       "      <th>High</th>\n",
       "      <td>13.006148</td>\n",
       "      <td>0.059957</td>\n",
       "      <td>141.425982</td>\n",
       "      <td>1987.000000</td>\n",
       "      <td>2298.995256</td>\n",
       "    </tr>\n",
       "    <tr>\n",
       "      <th>Medium</th>\n",
       "      <td>12.895420</td>\n",
       "      <td>0.060142</td>\n",
       "      <td>140.590514</td>\n",
       "      <td>1997.635875</td>\n",
       "      <td>2681.603542</td>\n",
       "    </tr>\n",
       "    <tr>\n",
       "      <th>Small</th>\n",
       "      <td>12.848075</td>\n",
       "      <td>0.071383</td>\n",
       "      <td>141.970209</td>\n",
       "      <td>1997.072864</td>\n",
       "      <td>1912.149161</td>\n",
       "    </tr>\n",
       "  </tbody>\n",
       "</table>\n",
       "</div>"
      ],
      "text/plain": [
       "             Item_Weight  Item_Visibility    Item_MRP  \\\n",
       "Outlet_Size                                             \n",
       "High           13.006148         0.059957  141.425982   \n",
       "Medium         12.895420         0.060142  140.590514   \n",
       "Small          12.848075         0.071383  141.970209   \n",
       "\n",
       "             Outlet_Establishment_Year  Item_Outlet_Sales  \n",
       "Outlet_Size                                                \n",
       "High                       1987.000000        2298.995256  \n",
       "Medium                     1997.635875        2681.603542  \n",
       "Small                      1997.072864        1912.149161  "
      ]
     },
     "execution_count": 5,
     "metadata": {},
     "output_type": "execute_result"
    }
   ],
   "source": [
    "df_temp"
   ]
  },
  {
   "cell_type": "code",
   "execution_count": null,
   "id": "db77ce01",
   "metadata": {},
   "outputs": [],
   "source": []
  },
  {
   "cell_type": "code",
   "execution_count": 21,
   "id": "73bbf1c3",
   "metadata": {},
   "outputs": [],
   "source": [
    "#cat=df_temp.groupby([\"Item_Type\"])[\"Item_Outlet_Sales\"].mean().reset_index().sort_values(by=['Item_Outlet_Sales'],inplace=True,ascending=True)\n"
   ]
  },
  {
   "cell_type": "code",
   "execution_count": null,
   "id": "20ac178a",
   "metadata": {},
   "outputs": [],
   "source": []
  },
  {
   "cell_type": "code",
   "execution_count": 3,
   "id": "2843ce2c",
   "metadata": {},
   "outputs": [],
   "source": [
    "df_temp=df[[\"Item_Type\",\"Item_Outlet_Sales\"]]\n",
    "df_grp=df_temp.groupby(\"Item_Type\").mean().reset_index().sort_values(\"Item_Outlet_Sales\").reset_index()\n",
    "\n",
    "df_temp=df[[\"Outlet_Type\",\"Item_Outlet_Sales\"]]\n",
    "df_grp_ot=df_temp.groupby(\"Outlet_Type\").mean().reset_index().sort_values(\"Item_Outlet_Sales\").reset_index()\n",
    "\n",
    "def preprocessing2(df2):\n",
    "    # remove null values in Item_Weight\n",
    "    df2['Item_Weight']=df2.groupby('Item_Type')['Item_Weight'].apply(lambda x:x.fillna(x.mean()))\n",
    "\n",
    "    #estimate the  age of Outlet\n",
    "    df2[\"Outlet_Establishment_Year\"]=2013-df2[\"Outlet_Establishment_Year\"]\n",
    "    df2 = df2.rename(columns={'Outlet_Establishment_Year': 'Age'})\n",
    "\n",
    "    #reaname Item_fat_content\n",
    "    df2[\"Item_Fat_Content\"] = df2[\"Item_Fat_Content\"].replace({\"Regular\": \"reg\",\n",
    "                                                       \"LF\": \"lf\",\n",
    "                                                        \"Low Fat\":\"lf\",\n",
    "                                                        \"low fat\":\"lf\"})\n",
    "\n",
    "    # convert Item_Fat_Content to numeric\n",
    "    df2[\"Item_Fat_Content\"] = df2[\"Item_Fat_Content\"].replace({\"Small\":0,\"High\":1,\"Medium\":2})\n",
    "    \n",
    "    # coverting Item_Type to numeric\n",
    "    df2[\"Item_Type\"]=df2[\"Item_Type\"].replace(dict(zip(df_grp[\"Item_Type\"],df_grp[\"index\"])))\n",
    "    df2[\"Item_Type\"]=df2[\"Item_Type\"].astype(\"int32\")\n",
    "    \n",
    "    # coverting Outlet_Type to numeric\n",
    "#     df2[\"Outlet_Type\"]=df2[\"Outlet_Type\"].replace(dict(zip(df_grp_ot[\"Outlet_Type\"],df_grp_ot[\"index\"])))\n",
    "#     df2[\"Outlet_Type\"]=df2[\"Outlet_Type\"].astype(\"int32\")\n",
    "    \n",
    "    df2['Outlet_Size'].fillna(df2['Outlet_Size'].mode()[0], inplace=True)\n",
    "    #df2[\"Outlet_Size\"] = df2[\"Outlet_Size\"].replace({\"Small\":0,\"High\":1,\"Medium\":2})\n",
    "    \n",
    "    df2.drop([\"Outlet_Identifier\",\"Item_Identifier\"],axis=1,inplace=True)\n",
    "\n",
    "    # encode categorical features\n",
    "    df2 = pd.get_dummies(df2,drop_first=True)\n",
    "    return df2"
   ]
  },
  {
   "cell_type": "code",
   "execution_count": null,
   "id": "e252424f",
   "metadata": {},
   "outputs": [],
   "source": []
  },
  {
   "cell_type": "markdown",
   "id": "d880125e",
   "metadata": {},
   "source": [
    "### Preprocessing"
   ]
  },
  {
   "cell_type": "code",
   "execution_count": 16,
   "id": "fc774847",
   "metadata": {},
   "outputs": [],
   "source": [
    "def preprocessing(df2):\n",
    "    # remove null values in Item_Weight\n",
    "    df2['Item_Weight']=df2.groupby('Item_Type')['Item_Weight'].apply(lambda x:x.fillna(x.mean()))\n",
    "\n",
    "    #estimate the  age of Outlet\n",
    "    df2[\"Outlet_Establishment_Year\"]=2013-df2[\"Outlet_Establishment_Year\"]\n",
    "    df2 = df2.rename(columns={'Outlet_Establishment_Year': 'Age'})\n",
    "\n",
    "    #reaname Item_fat_content\n",
    "    df2[\"Item_Fat_Content\"] = df2[\"Item_Fat_Content\"].replace({\"Regular\": \"reg\",\n",
    "                                                       \"LF\": \"lf\",\n",
    "                                                        \"Low Fat\":\"lf\",\n",
    "                                                        \"low fat\":\"lf\"})\n",
    "\n",
    "    # convert Item_Fat_Content to numeric\n",
    "    df2[\"Item_Fat_Content\"] = df2[\"Item_Fat_Content\"].replace({\"reg\":1,\"lf\":0})\n",
    "\n",
    "    df2.drop([\"Outlet_Identifier\",\"Item_Identifier\",\"Outlet_Size\"],axis=1,inplace=True)\n",
    "\n",
    "    # encode categorical features\n",
    "    df2 = pd.get_dummies(df2,drop_first=True)\n",
    "    return df2"
   ]
  },
  {
   "cell_type": "code",
   "execution_count": 4,
   "id": "202c7c51",
   "metadata": {},
   "outputs": [],
   "source": [
    "df2 = preprocessing2(df)\n"
   ]
  },
  {
   "cell_type": "code",
   "execution_count": 5,
   "id": "1efec8c4",
   "metadata": {},
   "outputs": [
    {
     "data": {
      "text/html": [
       "<div>\n",
       "<style scoped>\n",
       "    .dataframe tbody tr th:only-of-type {\n",
       "        vertical-align: middle;\n",
       "    }\n",
       "\n",
       "    .dataframe tbody tr th {\n",
       "        vertical-align: top;\n",
       "    }\n",
       "\n",
       "    .dataframe thead th {\n",
       "        text-align: right;\n",
       "    }\n",
       "</style>\n",
       "<table border=\"1\" class=\"dataframe\">\n",
       "  <thead>\n",
       "    <tr style=\"text-align: right;\">\n",
       "      <th></th>\n",
       "      <th>Item_Weight</th>\n",
       "      <th>Item_Visibility</th>\n",
       "      <th>Item_Type</th>\n",
       "      <th>Item_MRP</th>\n",
       "      <th>Age</th>\n",
       "      <th>Item_Outlet_Sales</th>\n",
       "      <th>Item_Fat_Content_reg</th>\n",
       "      <th>Outlet_Size_Medium</th>\n",
       "      <th>Outlet_Size_Small</th>\n",
       "      <th>Outlet_Location_Type_Tier 2</th>\n",
       "      <th>Outlet_Location_Type_Tier 3</th>\n",
       "      <th>Outlet_Type_Supermarket Type1</th>\n",
       "      <th>Outlet_Type_Supermarket Type2</th>\n",
       "      <th>Outlet_Type_Supermarket Type3</th>\n",
       "    </tr>\n",
       "  </thead>\n",
       "  <tbody>\n",
       "    <tr>\n",
       "      <th>0</th>\n",
       "      <td>9.300</td>\n",
       "      <td>0.016047</td>\n",
       "      <td>4</td>\n",
       "      <td>249.8092</td>\n",
       "      <td>14</td>\n",
       "      <td>3735.1380</td>\n",
       "      <td>0</td>\n",
       "      <td>1</td>\n",
       "      <td>0</td>\n",
       "      <td>0</td>\n",
       "      <td>0</td>\n",
       "      <td>1</td>\n",
       "      <td>0</td>\n",
       "      <td>0</td>\n",
       "    </tr>\n",
       "    <tr>\n",
       "      <th>1</th>\n",
       "      <td>5.920</td>\n",
       "      <td>0.019278</td>\n",
       "      <td>14</td>\n",
       "      <td>48.2692</td>\n",
       "      <td>4</td>\n",
       "      <td>443.4228</td>\n",
       "      <td>1</td>\n",
       "      <td>1</td>\n",
       "      <td>0</td>\n",
       "      <td>0</td>\n",
       "      <td>1</td>\n",
       "      <td>0</td>\n",
       "      <td>1</td>\n",
       "      <td>0</td>\n",
       "    </tr>\n",
       "    <tr>\n",
       "      <th>2</th>\n",
       "      <td>17.500</td>\n",
       "      <td>0.016760</td>\n",
       "      <td>10</td>\n",
       "      <td>141.6180</td>\n",
       "      <td>14</td>\n",
       "      <td>2097.2700</td>\n",
       "      <td>0</td>\n",
       "      <td>1</td>\n",
       "      <td>0</td>\n",
       "      <td>0</td>\n",
       "      <td>0</td>\n",
       "      <td>1</td>\n",
       "      <td>0</td>\n",
       "      <td>0</td>\n",
       "    </tr>\n",
       "    <tr>\n",
       "      <th>3</th>\n",
       "      <td>19.200</td>\n",
       "      <td>0.000000</td>\n",
       "      <td>6</td>\n",
       "      <td>182.0950</td>\n",
       "      <td>15</td>\n",
       "      <td>732.3800</td>\n",
       "      <td>1</td>\n",
       "      <td>1</td>\n",
       "      <td>0</td>\n",
       "      <td>0</td>\n",
       "      <td>1</td>\n",
       "      <td>0</td>\n",
       "      <td>0</td>\n",
       "      <td>0</td>\n",
       "    </tr>\n",
       "    <tr>\n",
       "      <th>4</th>\n",
       "      <td>8.930</td>\n",
       "      <td>0.000000</td>\n",
       "      <td>9</td>\n",
       "      <td>53.8614</td>\n",
       "      <td>26</td>\n",
       "      <td>994.7052</td>\n",
       "      <td>0</td>\n",
       "      <td>0</td>\n",
       "      <td>0</td>\n",
       "      <td>0</td>\n",
       "      <td>1</td>\n",
       "      <td>1</td>\n",
       "      <td>0</td>\n",
       "      <td>0</td>\n",
       "    </tr>\n",
       "    <tr>\n",
       "      <th>...</th>\n",
       "      <td>...</td>\n",
       "      <td>...</td>\n",
       "      <td>...</td>\n",
       "      <td>...</td>\n",
       "      <td>...</td>\n",
       "      <td>...</td>\n",
       "      <td>...</td>\n",
       "      <td>...</td>\n",
       "      <td>...</td>\n",
       "      <td>...</td>\n",
       "      <td>...</td>\n",
       "      <td>...</td>\n",
       "      <td>...</td>\n",
       "      <td>...</td>\n",
       "    </tr>\n",
       "    <tr>\n",
       "      <th>8518</th>\n",
       "      <td>6.865</td>\n",
       "      <td>0.056783</td>\n",
       "      <td>13</td>\n",
       "      <td>214.5218</td>\n",
       "      <td>26</td>\n",
       "      <td>2778.3834</td>\n",
       "      <td>0</td>\n",
       "      <td>0</td>\n",
       "      <td>0</td>\n",
       "      <td>0</td>\n",
       "      <td>1</td>\n",
       "      <td>1</td>\n",
       "      <td>0</td>\n",
       "      <td>0</td>\n",
       "    </tr>\n",
       "    <tr>\n",
       "      <th>8519</th>\n",
       "      <td>8.380</td>\n",
       "      <td>0.046982</td>\n",
       "      <td>0</td>\n",
       "      <td>108.1570</td>\n",
       "      <td>11</td>\n",
       "      <td>549.2850</td>\n",
       "      <td>1</td>\n",
       "      <td>1</td>\n",
       "      <td>0</td>\n",
       "      <td>1</td>\n",
       "      <td>0</td>\n",
       "      <td>1</td>\n",
       "      <td>0</td>\n",
       "      <td>0</td>\n",
       "    </tr>\n",
       "    <tr>\n",
       "      <th>8520</th>\n",
       "      <td>10.600</td>\n",
       "      <td>0.035186</td>\n",
       "      <td>8</td>\n",
       "      <td>85.1224</td>\n",
       "      <td>9</td>\n",
       "      <td>1193.1136</td>\n",
       "      <td>0</td>\n",
       "      <td>0</td>\n",
       "      <td>1</td>\n",
       "      <td>1</td>\n",
       "      <td>0</td>\n",
       "      <td>1</td>\n",
       "      <td>0</td>\n",
       "      <td>0</td>\n",
       "    </tr>\n",
       "    <tr>\n",
       "      <th>8521</th>\n",
       "      <td>7.210</td>\n",
       "      <td>0.145221</td>\n",
       "      <td>13</td>\n",
       "      <td>103.1332</td>\n",
       "      <td>4</td>\n",
       "      <td>1845.5976</td>\n",
       "      <td>1</td>\n",
       "      <td>1</td>\n",
       "      <td>0</td>\n",
       "      <td>0</td>\n",
       "      <td>1</td>\n",
       "      <td>0</td>\n",
       "      <td>1</td>\n",
       "      <td>0</td>\n",
       "    </tr>\n",
       "    <tr>\n",
       "      <th>8522</th>\n",
       "      <td>14.800</td>\n",
       "      <td>0.044878</td>\n",
       "      <td>14</td>\n",
       "      <td>75.4670</td>\n",
       "      <td>16</td>\n",
       "      <td>765.6700</td>\n",
       "      <td>0</td>\n",
       "      <td>0</td>\n",
       "      <td>1</td>\n",
       "      <td>0</td>\n",
       "      <td>0</td>\n",
       "      <td>1</td>\n",
       "      <td>0</td>\n",
       "      <td>0</td>\n",
       "    </tr>\n",
       "  </tbody>\n",
       "</table>\n",
       "<p>8523 rows × 14 columns</p>\n",
       "</div>"
      ],
      "text/plain": [
       "      Item_Weight  Item_Visibility  Item_Type  Item_MRP  Age  \\\n",
       "0           9.300         0.016047          4  249.8092   14   \n",
       "1           5.920         0.019278         14   48.2692    4   \n",
       "2          17.500         0.016760         10  141.6180   14   \n",
       "3          19.200         0.000000          6  182.0950   15   \n",
       "4           8.930         0.000000          9   53.8614   26   \n",
       "...           ...              ...        ...       ...  ...   \n",
       "8518        6.865         0.056783         13  214.5218   26   \n",
       "8519        8.380         0.046982          0  108.1570   11   \n",
       "8520       10.600         0.035186          8   85.1224    9   \n",
       "8521        7.210         0.145221         13  103.1332    4   \n",
       "8522       14.800         0.044878         14   75.4670   16   \n",
       "\n",
       "      Item_Outlet_Sales  Item_Fat_Content_reg  Outlet_Size_Medium  \\\n",
       "0             3735.1380                     0                   1   \n",
       "1              443.4228                     1                   1   \n",
       "2             2097.2700                     0                   1   \n",
       "3              732.3800                     1                   1   \n",
       "4              994.7052                     0                   0   \n",
       "...                 ...                   ...                 ...   \n",
       "8518          2778.3834                     0                   0   \n",
       "8519           549.2850                     1                   1   \n",
       "8520          1193.1136                     0                   0   \n",
       "8521          1845.5976                     1                   1   \n",
       "8522           765.6700                     0                   0   \n",
       "\n",
       "      Outlet_Size_Small  Outlet_Location_Type_Tier 2  \\\n",
       "0                     0                            0   \n",
       "1                     0                            0   \n",
       "2                     0                            0   \n",
       "3                     0                            0   \n",
       "4                     0                            0   \n",
       "...                 ...                          ...   \n",
       "8518                  0                            0   \n",
       "8519                  0                            1   \n",
       "8520                  1                            1   \n",
       "8521                  0                            0   \n",
       "8522                  1                            0   \n",
       "\n",
       "      Outlet_Location_Type_Tier 3  Outlet_Type_Supermarket Type1  \\\n",
       "0                               0                              1   \n",
       "1                               1                              0   \n",
       "2                               0                              1   \n",
       "3                               1                              0   \n",
       "4                               1                              1   \n",
       "...                           ...                            ...   \n",
       "8518                            1                              1   \n",
       "8519                            0                              1   \n",
       "8520                            0                              1   \n",
       "8521                            1                              0   \n",
       "8522                            0                              1   \n",
       "\n",
       "      Outlet_Type_Supermarket Type2  Outlet_Type_Supermarket Type3  \n",
       "0                                 0                              0  \n",
       "1                                 1                              0  \n",
       "2                                 0                              0  \n",
       "3                                 0                              0  \n",
       "4                                 0                              0  \n",
       "...                             ...                            ...  \n",
       "8518                              0                              0  \n",
       "8519                              0                              0  \n",
       "8520                              0                              0  \n",
       "8521                              1                              0  \n",
       "8522                              0                              0  \n",
       "\n",
       "[8523 rows x 14 columns]"
      ]
     },
     "execution_count": 5,
     "metadata": {},
     "output_type": "execute_result"
    }
   ],
   "source": [
    "df2"
   ]
  },
  {
   "cell_type": "markdown",
   "id": "7b36099e",
   "metadata": {},
   "source": [
    "### Transforming"
   ]
  },
  {
   "cell_type": "code",
   "execution_count": 6,
   "id": "a4eaec64",
   "metadata": {},
   "outputs": [],
   "source": [
    "df2[\"Item_Outlet_Sales\"]=np.sqrt(df2['Item_Outlet_Sales'])\n"
   ]
  },
  {
   "cell_type": "code",
   "execution_count": null,
   "id": "ca698b02",
   "metadata": {},
   "outputs": [],
   "source": []
  },
  {
   "cell_type": "code",
   "execution_count": 7,
   "id": "ff93f00f",
   "metadata": {},
   "outputs": [],
   "source": [
    "target=\"Item_Outlet_Sales\"\n",
    "X = df2.drop(target,axis=1) \n",
    "y = df2[target]"
   ]
  },
  {
   "cell_type": "code",
   "execution_count": 8,
   "id": "e2ac976c",
   "metadata": {},
   "outputs": [],
   "source": [
    "X_train, X_test, y_train, y_test = train_test_split(X, y, test_size=0.3,random_state=0)"
   ]
  },
  {
   "cell_type": "code",
   "execution_count": 10,
   "id": "ab17d42b",
   "metadata": {},
   "outputs": [],
   "source": [
    "# scaler = StandardScaler() \n",
    "# scaler.fit(X_train) \n",
    "# X_train = scaler.transform(X_train)\n",
    "# X_test = scaler.transform(X_test) "
   ]
  },
  {
   "cell_type": "markdown",
   "id": "b86a46bd",
   "metadata": {},
   "source": [
    "### Linear Reg"
   ]
  },
  {
   "cell_type": "code",
   "execution_count": 9,
   "id": "1bb39c6d",
   "metadata": {},
   "outputs": [
    {
     "data": {
      "text/plain": [
       "LinearRegression()"
      ]
     },
     "execution_count": 9,
     "metadata": {},
     "output_type": "execute_result"
    }
   ],
   "source": [
    "from sklearn.linear_model import LinearRegression \n",
    "model = LinearRegression() \n",
    "model.fit(X_train,y_train) "
   ]
  },
  {
   "cell_type": "markdown",
   "id": "8ad6ebfd",
   "metadata": {},
   "source": [
    "### Decision Tree - Grid Search\n"
   ]
  },
  {
   "cell_type": "code",
   "execution_count": 34,
   "id": "408e3a39",
   "metadata": {},
   "outputs": [
    {
     "ename": "SyntaxError",
     "evalue": "invalid syntax (Temp/ipykernel_5252/2940909763.py, line 7)",
     "output_type": "error",
     "traceback": [
      "\u001b[1;36m  File \u001b[1;32m\"C:\\Users\\Deepu\\AppData\\Local\\Temp/ipykernel_5252/2940909763.py\"\u001b[1;36m, line \u001b[1;32m7\u001b[0m\n\u001b[1;33m    return score\u001b[0m\n\u001b[1;37m    ^\u001b[0m\n\u001b[1;31mSyntaxError\u001b[0m\u001b[1;31m:\u001b[0m invalid syntax\n"
     ]
    }
   ],
   "source": [
    "def performance_metric(y_true, y_predict):\n",
    "    \"\"\" Calculates and returns the performance score between \n",
    "        true (y_true) and predicted (y_predict) values based on the metric chosen. \"\"\"\n",
    "    \n",
    "    #score = r2_score(y_true, y_predict)\n",
    "    score=np.sqrt(mean_squared_error(y_true, y_predict)\n",
    "    return score"
   ]
  },
  {
   "cell_type": "code",
   "execution_count": 35,
   "id": "a97414e8",
   "metadata": {},
   "outputs": [],
   "source": [
    "def fit_model(X, y):\n",
    "    \"\"\" Performs grid search over the 'max_depth' parameter for a \n",
    "        decision tree regressor trained on the input data [X, y]. \"\"\"\n",
    "    \n",
    "    # Create cross-validation sets from the training data\n",
    "    cv_sets = ShuffleSplit(n_splits = 10, test_size = 0.20, random_state = 0)\n",
    "\n",
    "    # Create a decision tree regressor object\n",
    "    regressor = DecisionTreeRegressor()\n",
    "\n",
    "    # Create a dictionary for the parameter 'max_depth' with a range from 1 to 10\n",
    "    params = {'max_depth':[1,2,3,4,5,6,7,8,9,10]}\n",
    "\n",
    "    # Transform 'performance_metric' into a scoring function using 'make_scorer' \n",
    "    scoring_fnc = make_scorer(performance_metric)\n",
    "\n",
    "    # Create the grid search cv object --> GridSearchCV()\n",
    "    grid = GridSearchCV(estimator=regressor, param_grid=params, scoring=scoring_fnc, cv=cv_sets)\n",
    "\n",
    "    # Fit the grid search object to the data to compute the optimal model\n",
    "    grid = grid.fit(X, y)\n",
    "\n",
    "    # Return the optimal model after fitting the data\n",
    "    return grid.best_estimator_"
   ]
  },
  {
   "cell_type": "code",
   "execution_count": 36,
   "id": "467cfe46",
   "metadata": {},
   "outputs": [],
   "source": [
    "model=fit_model(X_train, y_train)"
   ]
  },
  {
   "cell_type": "markdown",
   "id": "9ac7ee55",
   "metadata": {},
   "source": [
    "### Random Forest\n"
   ]
  },
  {
   "cell_type": "code",
   "execution_count": 50,
   "id": "366e52af",
   "metadata": {},
   "outputs": [
    {
     "data": {
      "text/plain": [
       "RandomForestRegressor(max_depth=5, max_features='sqrt')"
      ]
     },
     "execution_count": 50,
     "metadata": {},
     "output_type": "execute_result"
    }
   ],
   "source": [
    "model = RandomForestRegressor(n_estimators= 100, max_depth = 5, max_features='sqrt')\n",
    "model.fit(X_train,y_train) "
   ]
  },
  {
   "cell_type": "markdown",
   "id": "300bf943",
   "metadata": {},
   "source": [
    "### XG Boost"
   ]
  },
  {
   "cell_type": "code",
   "execution_count": 10,
   "id": "4b816fde",
   "metadata": {},
   "outputs": [
    {
     "name": "stdout",
     "output_type": "stream",
     "text": [
      "Learning rate :  0.03  Train score :  0.7022623715595051  Cross-Val score :  0.6572291910638557\n",
      "Learning rate :  0.035  Train score :  0.7172381444231755  Cross-Val score :  0.6660820289421123\n",
      "Learning rate :  0.04  Train score :  0.7262716903184578  Cross-Val score :  0.6677689468253528\n",
      "Learning rate :  0.045  Train score :  0.7339087310297499  Cross-Val score :  0.668868635063668\n",
      "Learning rate :  0.05  Train score :  0.7381437388970675  Cross-Val score :  0.6679142825375599\n",
      "Learning rate :  0.055  Train score :  0.7448644407269336  Cross-Val score :  0.6665458640306433\n",
      "Learning rate :  0.06  Train score :  0.7475993454214072  Cross-Val score :  0.6665204236217075\n",
      "Learning rate :  0.065  Train score :  0.7545014893538523  Cross-Val score :  0.6656721961832262\n",
      "Learning rate :  0.07  Train score :  0.7574376024055911  Cross-Val score :  0.6647916717691285\n",
      "Learning rate :  0.08  Train score :  0.767740125136297  Cross-Val score :  0.6618219780696399\n"
     ]
    }
   ],
   "source": [
    "for lr in [0.03,0.035,0.04,0.045,0.05,0.055,0.06,0.065,0.07,0.08]:\n",
    "    model = xgb.XGBRegressor(learning_rate = lr, n_estimators=100, verbosity = 0) # initialise the model\n",
    "    model.fit(X_train,y_train) #train the model\n",
    "    model.score(X_test, y_test) # scoring the model - r2 squared\n",
    "    print(\"Learning rate : \", lr, \" Train score : \", model.score(X_train,y_train), \" Cross-Val score : \", np.mean(cross_val_score(model, X_train, y_train, cv=10)))"
   ]
  },
  {
   "cell_type": "code",
   "execution_count": 11,
   "id": "16ec2794",
   "metadata": {},
   "outputs": [
    {
     "data": {
      "text/plain": [
       "0.6608307960123188"
      ]
     },
     "execution_count": 11,
     "metadata": {},
     "output_type": "execute_result"
    }
   ],
   "source": [
    "model = xgb.XGBRegressor(learning_rate = 0.045, n_estimators=100)\n",
    "model.fit(X_train,y_train) #train the model\n",
    "model.score(X_test, y_test) # scoring the model - r2 squared"
   ]
  },
  {
   "cell_type": "markdown",
   "id": "888794aa",
   "metadata": {},
   "source": [
    "### XGB -Optuna : Parametric Tuning"
   ]
  },
  {
   "cell_type": "code",
   "execution_count": 108,
   "id": "e9daac49",
   "metadata": {
    "scrolled": true
   },
   "outputs": [
    {
     "name": "stderr",
     "output_type": "stream",
     "text": [
      "\u001b[32m[I 2022-06-29 16:55:01,526]\u001b[0m A new study created in memory with name: no-name-a924e5c6-31f3-49c8-ad96-6f8f8b09d667\u001b[0m\n",
      "\u001b[32m[I 2022-06-29 16:55:07,845]\u001b[0m Trial 0 finished with value: 10.3886010779522 and parameters: {'lambda': 0.08822071499595764, 'alpha': 4.996067451579491, 'colsample_bytree': 0.3, 'subsample': 0.6, 'learning_rate': 0.016, 'max_depth': 20, 'random_state': 2020, 'min_child_weight': 134}. Best is trial 0 with value: 10.3886010779522.\u001b[0m\n",
      "\u001b[32m[I 2022-06-29 16:55:14,044]\u001b[0m Trial 1 finished with value: 10.368473419377933 and parameters: {'lambda': 0.200514915335686, 'alpha': 0.042723613727901955, 'colsample_bytree': 0.4, 'subsample': 0.8, 'learning_rate': 0.009, 'max_depth': 5, 'random_state': 24, 'min_child_weight': 48}. Best is trial 0 with value: 10.3886010779522.\u001b[0m\n",
      "\u001b[32m[I 2022-06-29 16:55:27,441]\u001b[0m Trial 2 finished with value: 10.318417511905503 and parameters: {'lambda': 3.858564285753639, 'alpha': 3.507601904384952, 'colsample_bytree': 1.0, 'subsample': 0.4, 'learning_rate': 0.01, 'max_depth': 9, 'random_state': 2020, 'min_child_weight': 273}. Best is trial 0 with value: 10.3886010779522.\u001b[0m\n",
      "\u001b[32m[I 2022-06-29 16:55:33,223]\u001b[0m Trial 3 finished with value: 10.397441909505247 and parameters: {'lambda': 0.015669106386358964, 'alpha': 0.07472396232151332, 'colsample_bytree': 0.3, 'subsample': 0.8, 'learning_rate': 0.02, 'max_depth': 15, 'random_state': 48, 'min_child_weight': 147}. Best is trial 3 with value: 10.397441909505247.\u001b[0m\n",
      "\u001b[32m[I 2022-06-29 16:55:38,339]\u001b[0m Trial 4 finished with value: 10.40785116138728 and parameters: {'lambda': 1.5827814439459829, 'alpha': 0.15985779143462803, 'colsample_bytree': 0.5, 'subsample': 0.5, 'learning_rate': 0.016, 'max_depth': 13, 'random_state': 24, 'min_child_weight': 39}. Best is trial 4 with value: 10.40785116138728.\u001b[0m\n"
     ]
    },
    {
     "name": "stdout",
     "output_type": "stream",
     "text": [
      "Number of completed trials: 5\n",
      "Best trial:\n",
      "\tBest Score: 10.40785116138728\n",
      "\tBest Params: \n",
      "    lambda: 1.5827814439459829\n",
      "    alpha: 0.15985779143462803\n",
      "    colsample_bytree: 0.5\n",
      "    subsample: 0.5\n",
      "    learning_rate: 0.016\n",
      "    max_depth: 13\n",
      "    random_state: 24\n",
      "    min_child_weight: 39\n"
     ]
    }
   ],
   "source": [
    "import warnings\n",
    "\n",
    "warnings.filterwarnings(\"ignore\")\n",
    "\n",
    "def objective(trial,data=X,target=y):\n",
    "    \n",
    "    train_x, test_x, train_y, test_y = train_test_split(data, target, test_size=0.25,random_state=42)\n",
    "    param = {\n",
    "        #'tree_method':'gpu_hist',  # this parameter means using the GPU when training our model to speedup the training process\n",
    "        'lambda': trial.suggest_loguniform('lambda', 1e-3, 10.0),\n",
    "        'alpha': trial.suggest_loguniform('alpha', 1e-3, 10.0),\n",
    "        'colsample_bytree': trial.suggest_categorical('colsample_bytree', [0.3,0.4,0.5,0.6,0.7,0.8,0.9, 1.0]),\n",
    "        'subsample': trial.suggest_categorical('subsample', [0.4,0.5,0.6,0.7,0.8,1.0]),\n",
    "        'learning_rate': trial.suggest_categorical('learning_rate', [0.008,0.009,0.01,0.012,0.014,0.016,0.018, 0.02]),\n",
    "        'n_estimators': 4000,\n",
    "        'max_depth': trial.suggest_categorical('max_depth', [5,7,9,11,13,15,17,20]),\n",
    "        'random_state': trial.suggest_categorical('random_state', [24, 48,2020]),\n",
    "        'min_child_weight': trial.suggest_int('min_child_weight', 1, 300),\n",
    "    }\n",
    "    model = xgb.XGBRegressor(**param)  \n",
    "    \n",
    "    model.fit(train_x,train_y,eval_set=[(test_x,test_y)],early_stopping_rounds=100,verbose=False)\n",
    "    \n",
    "    preds = model.predict(test_x)\n",
    "    \n",
    "    rmse = mean_squared_error(test_y, preds,squared=False)\n",
    "    \n",
    "    return rmse\n",
    "\n",
    "# df = pd.read_csv('diamonds.csv').drop(['index'],axis=1)\n",
    "# X = df.drop(['price'],axis=1)\n",
    "# y = df['price']\n",
    "#categorical_features_indices = np.where(X.dtypes != np.float)[0]\n",
    "\n",
    "study = optuna.create_study(sampler=TPESampler(), direction=\"maximize\")\n",
    "study.optimize(objective, n_trials=5, timeout=600) # Run for 10 minutes\n",
    "print(\"Number of completed trials: {}\".format(len(study.trials)))\n",
    "print(\"Best trial:\")\n",
    "trial = study.best_trial\n",
    "\n",
    "print(\"\\tBest Score: {}\".format(trial.value))\n",
    "print(\"\\tBest Params: \")\n",
    "for key, value in trial.params.items():\n",
    "    print(\"    {}: {}\".format(key, value))\n",
    "    "
   ]
  },
  {
   "cell_type": "code",
   "execution_count": null,
   "id": "7510b050",
   "metadata": {},
   "outputs": [],
   "source": [
    "model = xgb.XGBRegressor(**trial.params) # scoring the model - r2 squared"
   ]
  },
  {
   "cell_type": "markdown",
   "id": "9c06244f",
   "metadata": {},
   "source": [
    "### Prediction"
   ]
  },
  {
   "cell_type": "code",
   "execution_count": 10,
   "id": "9a5dd8af",
   "metadata": {},
   "outputs": [],
   "source": [
    "#model.fit(X_train,y_train) \n",
    "\n",
    "y_test_pred = model.predict(X_test)\n",
    "y_train_pred = model.predict(X_train)"
   ]
  },
  {
   "cell_type": "code",
   "execution_count": 11,
   "id": "b39f1bc1",
   "metadata": {},
   "outputs": [],
   "source": [
    "#sns.displot(y_train_pred)"
   ]
  },
  {
   "cell_type": "markdown",
   "id": "4b25b837",
   "metadata": {},
   "source": [
    "### Inverse Trans"
   ]
  },
  {
   "cell_type": "code",
   "execution_count": 12,
   "id": "b91dd3b5",
   "metadata": {},
   "outputs": [],
   "source": [
    "y_test_pred=(y_test_pred)**2\n",
    "y_train_pred=(y_train_pred)**2\n",
    "y_train=(y_train)**2\n",
    "y_test=(y_test)**2\n",
    "\n"
   ]
  },
  {
   "cell_type": "markdown",
   "id": "67308c37",
   "metadata": {},
   "source": [
    "### Evaluation"
   ]
  },
  {
   "cell_type": "code",
   "execution_count": 13,
   "id": "b9579ba8",
   "metadata": {},
   "outputs": [],
   "source": [
    "#model.score(X_test, y_test) # scoring the model - r2 squared"
   ]
  },
  {
   "cell_type": "code",
   "execution_count": 14,
   "id": "837795fa",
   "metadata": {
    "scrolled": false
   },
   "outputs": [
    {
     "name": "stdout",
     "output_type": "stream",
     "text": [
      "Train R2-SCORE: 0.5854257532536802\n",
      "Test R2-SCORE: 0.5833260923571624\n"
     ]
    }
   ],
   "source": [
    "print('Train R2-SCORE:', metrics.r2_score(y_train,y_train_pred))\n",
    "print('Test R2-SCORE:', metrics.r2_score(y_test,y_test_pred))\n"
   ]
  },
  {
   "cell_type": "code",
   "execution_count": 15,
   "id": "87c62bd8",
   "metadata": {},
   "outputs": [
    {
     "name": "stdout",
     "output_type": "stream",
     "text": [
      "Train RMSE: 1087.7550591337367\n",
      "Test RMSE: 1126.4130337287856\n"
     ]
    }
   ],
   "source": [
    "print('Train RMSE:',np.sqrt(mean_squared_error(y_train,y_train_pred)))\n",
    "print('Test RMSE:',np.sqrt(mean_squared_error(y_test,y_test_pred)))\n"
   ]
  },
  {
   "cell_type": "markdown",
   "id": "92162c5e",
   "metadata": {},
   "source": [
    "### Test Data"
   ]
  },
  {
   "cell_type": "code",
   "execution_count": 64,
   "id": "2b131389",
   "metadata": {},
   "outputs": [],
   "source": [
    "df_test =pd.read_csv(\"test.csv\")"
   ]
  },
  {
   "cell_type": "code",
   "execution_count": 65,
   "id": "b7baca4a",
   "metadata": {},
   "outputs": [],
   "source": [
    "testdf2 = preprocessing2(df_test)"
   ]
  },
  {
   "cell_type": "code",
   "execution_count": 66,
   "id": "e215a268",
   "metadata": {},
   "outputs": [],
   "source": [
    "testpred = model.predict(testdf2)"
   ]
  },
  {
   "cell_type": "code",
   "execution_count": 67,
   "id": "d42bcfa8",
   "metadata": {},
   "outputs": [],
   "source": [
    "dft=pd.DataFrame(df_test[[\"Item_Identifier\",\"Outlet_Identifier\"]])\n",
    "dft[\"Item_Outlet_Sales\"]=testpred**2\n"
   ]
  },
  {
   "cell_type": "code",
   "execution_count": 68,
   "id": "5acab4ad",
   "metadata": {},
   "outputs": [
    {
     "data": {
      "text/html": [
       "<div>\n",
       "<style scoped>\n",
       "    .dataframe tbody tr th:only-of-type {\n",
       "        vertical-align: middle;\n",
       "    }\n",
       "\n",
       "    .dataframe tbody tr th {\n",
       "        vertical-align: top;\n",
       "    }\n",
       "\n",
       "    .dataframe thead th {\n",
       "        text-align: right;\n",
       "    }\n",
       "</style>\n",
       "<table border=\"1\" class=\"dataframe\">\n",
       "  <thead>\n",
       "    <tr style=\"text-align: right;\">\n",
       "      <th></th>\n",
       "      <th>Item_Identifier</th>\n",
       "      <th>Outlet_Identifier</th>\n",
       "      <th>Item_Outlet_Sales</th>\n",
       "    </tr>\n",
       "  </thead>\n",
       "  <tbody>\n",
       "    <tr>\n",
       "      <th>0</th>\n",
       "      <td>FDW58</td>\n",
       "      <td>OUT049</td>\n",
       "      <td>1606.733421</td>\n",
       "    </tr>\n",
       "    <tr>\n",
       "      <th>1</th>\n",
       "      <td>FDW14</td>\n",
       "      <td>OUT017</td>\n",
       "      <td>1403.469881</td>\n",
       "    </tr>\n",
       "    <tr>\n",
       "      <th>2</th>\n",
       "      <td>NCN55</td>\n",
       "      <td>OUT010</td>\n",
       "      <td>1174.243497</td>\n",
       "    </tr>\n",
       "    <tr>\n",
       "      <th>3</th>\n",
       "      <td>FDQ58</td>\n",
       "      <td>OUT017</td>\n",
       "      <td>2330.709398</td>\n",
       "    </tr>\n",
       "    <tr>\n",
       "      <th>4</th>\n",
       "      <td>FDY38</td>\n",
       "      <td>OUT027</td>\n",
       "      <td>5405.048917</td>\n",
       "    </tr>\n",
       "    <tr>\n",
       "      <th>...</th>\n",
       "      <td>...</td>\n",
       "      <td>...</td>\n",
       "      <td>...</td>\n",
       "    </tr>\n",
       "    <tr>\n",
       "      <th>5676</th>\n",
       "      <td>FDB58</td>\n",
       "      <td>OUT046</td>\n",
       "      <td>2130.860136</td>\n",
       "    </tr>\n",
       "    <tr>\n",
       "      <th>5677</th>\n",
       "      <td>FDD47</td>\n",
       "      <td>OUT018</td>\n",
       "      <td>2215.097036</td>\n",
       "    </tr>\n",
       "    <tr>\n",
       "      <th>5678</th>\n",
       "      <td>NCO17</td>\n",
       "      <td>OUT045</td>\n",
       "      <td>1744.741396</td>\n",
       "    </tr>\n",
       "    <tr>\n",
       "      <th>5679</th>\n",
       "      <td>FDJ26</td>\n",
       "      <td>OUT017</td>\n",
       "      <td>3393.903543</td>\n",
       "    </tr>\n",
       "    <tr>\n",
       "      <th>5680</th>\n",
       "      <td>FDU37</td>\n",
       "      <td>OUT045</td>\n",
       "      <td>1277.810878</td>\n",
       "    </tr>\n",
       "  </tbody>\n",
       "</table>\n",
       "<p>5681 rows × 3 columns</p>\n",
       "</div>"
      ],
      "text/plain": [
       "     Item_Identifier Outlet_Identifier  Item_Outlet_Sales\n",
       "0              FDW58            OUT049        1606.733421\n",
       "1              FDW14            OUT017        1403.469881\n",
       "2              NCN55            OUT010        1174.243497\n",
       "3              FDQ58            OUT017        2330.709398\n",
       "4              FDY38            OUT027        5405.048917\n",
       "...              ...               ...                ...\n",
       "5676           FDB58            OUT046        2130.860136\n",
       "5677           FDD47            OUT018        2215.097036\n",
       "5678           NCO17            OUT045        1744.741396\n",
       "5679           FDJ26            OUT017        3393.903543\n",
       "5680           FDU37            OUT045        1277.810878\n",
       "\n",
       "[5681 rows x 3 columns]"
      ]
     },
     "execution_count": 68,
     "metadata": {},
     "output_type": "execute_result"
    }
   ],
   "source": [
    "dft"
   ]
  },
  {
   "cell_type": "code",
   "execution_count": null,
   "id": "784d87cb",
   "metadata": {},
   "outputs": [],
   "source": []
  },
  {
   "cell_type": "code",
   "execution_count": 69,
   "id": "fab8ddc3",
   "metadata": {},
   "outputs": [],
   "source": [
    "dft.to_csv(\"out4.csv\",index=False)"
   ]
  },
  {
   "cell_type": "code",
   "execution_count": null,
   "id": "3f480210",
   "metadata": {},
   "outputs": [],
   "source": []
  },
  {
   "cell_type": "code",
   "execution_count": null,
   "id": "3425f95f",
   "metadata": {},
   "outputs": [],
   "source": []
  },
  {
   "cell_type": "code",
   "execution_count": 10,
   "id": "8bf646b6",
   "metadata": {},
   "outputs": [],
   "source": [
    "# Train R2-SCORE: 0.5848267673273038\n",
    "# Test R2-SCORE: 0.5821400601197964\n",
    "    \n",
    "# Train RMSE: 1088.5405816346295\n",
    "# Test RMSE: 1128.015021298349"
   ]
  },
  {
   "cell_type": "code",
   "execution_count": null,
   "id": "41c8a866",
   "metadata": {},
   "outputs": [],
   "source": []
  },
  {
   "cell_type": "code",
   "execution_count": null,
   "id": "2e660b90",
   "metadata": {
    "scrolled": true
   },
   "outputs": [],
   "source": []
  },
  {
   "cell_type": "code",
   "execution_count": null,
   "id": "a5ccda85",
   "metadata": {},
   "outputs": [],
   "source": [
    "\n"
   ]
  },
  {
   "cell_type": "code",
   "execution_count": null,
   "id": "a46e461e",
   "metadata": {},
   "outputs": [],
   "source": []
  }
 ],
 "metadata": {
  "kernelspec": {
   "display_name": "Python 3 (ipykernel)",
   "language": "python",
   "name": "python3"
  },
  "language_info": {
   "codemirror_mode": {
    "name": "ipython",
    "version": 3
   },
   "file_extension": ".py",
   "mimetype": "text/x-python",
   "name": "python",
   "nbconvert_exporter": "python",
   "pygments_lexer": "ipython3",
   "version": "3.9.7"
  }
 },
 "nbformat": 4,
 "nbformat_minor": 5
}
